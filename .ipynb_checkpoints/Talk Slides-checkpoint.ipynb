{
 "cells": [
  {
   "cell_type": "markdown",
   "metadata": {
    "deletable": true,
    "editable": true,
    "slideshow": {
     "slide_type": "slide"
    }
   },
   "source": [
    "# Practical Data Transformation and Analysis with Pandas"
   ]
  },
  {
   "cell_type": "markdown",
   "metadata": {
    "deletable": true,
    "editable": true,
    "slideshow": {
     "slide_type": "slide"
    }
   },
   "source": [
    "# Speaker\n",
    "\n",
    "* Zong-han, Xie\n",
    "\n",
    "* Majored in physics\n",
    "\n",
    "* Previously a C++ developer developing simulation software for LCD.\n",
    "\n",
    "* Currently working for Micron Memory Taiwan, building home-made B.I. system.\n",
    "\n",
    "* Email: icbm0926@gmail.com"
   ]
  },
  {
   "cell_type": "markdown",
   "metadata": {
    "deletable": true,
    "editable": true,
    "slideshow": {
     "slide_type": "slide"
    }
   },
   "source": [
    "# Sequence\n",
    "* Running complex SQL code on a SQL server creates heavy loading to the server.\n",
    "\n",
    "* It is hard to write omplex analysis into a SQL code, you might want to write those code in Python.\n",
    "\n",
    "* Intended fo people have built a B.I. system on top of Python enviroment ex: Django, flask, Pandas...etc.\n",
    "\n",
    "* Who wants to exploit the power of Python and transfer their reporting services from SQL-related services (ex: SSRS) to Python.\n",
    "\n",
    "* This talk mainly focues on the components related to split-apply-combine strategy which is main method for transforming and analyzing tabular data."
   ]
  },
  {
   "cell_type": "markdown",
   "metadata": {
    "deletable": true,
    "editable": true,
    "slideshow": {
     "slide_type": "slide"
    }
   },
   "source": [
    "# Outline\n",
    "* Basic Data Structures: \n",
    "  - Create Pandas DataFrame\n",
    "  - Read our demo data\n",
    "  - Indexing in DataFrame and Pandas Series\n",
    "  - Assinging data into DataFrame and SettingsWithCopy Warning\n",
    "* Text Handling with Pandas\n",
    "  - Using \"str\" attributes to handle string and using regexp with it\n",
    "* Merging and Concatenating tables\n",
    "  - Concept of merging two tables (inner join, left/right join, outer join)\n",
    "  - Concatenating tables\n",
    "* Split-Apply-Combine strategy\n",
    "  - Process Flow\n",
    "  - GroupBy object\n",
    "  - GroupBy.transform\n",
    "  - GroupBy.apply\n",
    "  - GroupBy.aggregate\n",
    "* A small example"
   ]
  },
  {
   "cell_type": "markdown",
   "metadata": {
    "deletable": true,
    "editable": true,
    "slideshow": {
     "slide_type": "slide"
    }
   },
   "source": [
    "# Creating a DataFrame"
   ]
  },
  {
   "cell_type": "code",
   "execution_count": 9,
   "metadata": {
    "collapsed": false,
    "deletable": true,
    "editable": true
   },
   "outputs": [
    {
     "data": {
      "text/html": [
       "<div>\n",
       "<table border=\"1\" class=\"dataframe\">\n",
       "  <thead>\n",
       "    <tr style=\"text-align: right;\">\n",
       "      <th></th>\n",
       "      <th>Column_A</th>\n",
       "      <th>Column_B</th>\n",
       "    </tr>\n",
       "  </thead>\n",
       "  <tbody>\n",
       "    <tr>\n",
       "      <th>a</th>\n",
       "      <td>A1</td>\n",
       "      <td>A1</td>\n",
       "    </tr>\n",
       "    <tr>\n",
       "      <th>b</th>\n",
       "      <td>A2</td>\n",
       "      <td>A2</td>\n",
       "    </tr>\n",
       "    <tr>\n",
       "      <th>c</th>\n",
       "      <td>A3</td>\n",
       "      <td>A3</td>\n",
       "    </tr>\n",
       "  </tbody>\n",
       "</table>\n",
       "</div>"
      ],
      "text/plain": [
       "  Column_A Column_B\n",
       "a       A1       A1\n",
       "b       A2       A2\n",
       "c       A3       A3"
      ]
     },
     "execution_count": 9,
     "metadata": {},
     "output_type": "execute_result"
    }
   ],
   "source": [
    "import pandas as pd\n",
    "pd.DataFrame({'Column_A': ['A1', 'A2', 'A3']\n",
    "              , 'Column_B': ['A1', 'A2', 'A3']}\n",
    "             , index=['a', 'b', 'c'])"
   ]
  },
  {
   "cell_type": "markdown",
   "metadata": {
    "deletable": true,
    "editable": true,
    "slideshow": {
     "slide_type": "slide"
    }
   },
   "source": [
    "# Create a DataFrame from numpy array"
   ]
  },
  {
   "cell_type": "code",
   "execution_count": 10,
   "metadata": {
    "collapsed": false,
    "deletable": true,
    "editable": true
   },
   "outputs": [
    {
     "data": {
      "text/html": [
       "<div>\n",
       "<table border=\"1\" class=\"dataframe\">\n",
       "  <thead>\n",
       "    <tr style=\"text-align: right;\">\n",
       "      <th></th>\n",
       "      <th>Column_A</th>\n",
       "      <th>Column_B</th>\n",
       "    </tr>\n",
       "  </thead>\n",
       "  <tbody>\n",
       "    <tr>\n",
       "      <th>0</th>\n",
       "      <td>0.532799</td>\n",
       "      <td>0.515631</td>\n",
       "    </tr>\n",
       "    <tr>\n",
       "      <th>1</th>\n",
       "      <td>0.977685</td>\n",
       "      <td>0.476983</td>\n",
       "    </tr>\n",
       "    <tr>\n",
       "      <th>2</th>\n",
       "      <td>0.821461</td>\n",
       "      <td>0.488186</td>\n",
       "    </tr>\n",
       "    <tr>\n",
       "      <th>3</th>\n",
       "      <td>0.611671</td>\n",
       "      <td>0.793174</td>\n",
       "    </tr>\n",
       "    <tr>\n",
       "      <th>4</th>\n",
       "      <td>0.470772</td>\n",
       "      <td>0.520843</td>\n",
       "    </tr>\n",
       "  </tbody>\n",
       "</table>\n",
       "</div>"
      ],
      "text/plain": [
       "   Column_A  Column_B\n",
       "0  0.532799  0.515631\n",
       "1  0.977685  0.476983\n",
       "2  0.821461  0.488186\n",
       "3  0.611671  0.793174\n",
       "4  0.470772  0.520843"
      ]
     },
     "execution_count": 10,
     "metadata": {},
     "output_type": "execute_result"
    }
   ],
   "source": [
    "import numpy as np\n",
    "np_array = np.array(np.random.random((5,2)))\n",
    "pd.DataFrame(np_array, columns=['Column_A', 'Column_B'])"
   ]
  },
  {
   "cell_type": "markdown",
   "metadata": {
    "deletable": true,
    "editable": true,
    "slideshow": {
     "slide_type": "slide"
    }
   },
   "source": [
    "# Create a new column for DataFrame"
   ]
  },
  {
   "cell_type": "code",
   "execution_count": 11,
   "metadata": {
    "collapsed": false,
    "deletable": true,
    "editable": true
   },
   "outputs": [
    {
     "name": "stdout",
     "output_type": "stream",
     "text": [
      "   Column_A  Column_B  column_C\n",
      "0  0.451639  0.110256         1\n",
      "1  0.163979  0.829561         2\n",
      "2  0.718608  0.981952         3\n",
      "3  0.171740  0.743521         4\n",
      "4  0.531219  0.759881         5\n"
     ]
    }
   ],
   "source": [
    "import numpy as np\n",
    "np_array = np.array(np.random.random((5,2)))\n",
    "df = pd.DataFrame(np_array, columns=['Column_A', 'Column_B'])\n",
    "df['column_C'] = pd.Series([1,2,3,4,5])\n",
    "print(df)"
   ]
  },
  {
   "cell_type": "markdown",
   "metadata": {
    "deletable": true,
    "editable": true,
    "slideshow": {
     "slide_type": "slide"
    }
   },
   "source": [
    "# Create DataFrame from a file\n",
    "read in the demo data, data is from MovieLens, ml-1m dataset."
   ]
  },
  {
   "cell_type": "code",
   "execution_count": 12,
   "metadata": {
    "collapsed": false,
    "deletable": true,
    "editable": true,
    "slideshow": {
     "slide_type": "-"
    }
   },
   "outputs": [
    {
     "data": {
      "text/html": [
       "<div>\n",
       "<table border=\"1\" class=\"dataframe\">\n",
       "  <thead>\n",
       "    <tr style=\"text-align: right;\">\n",
       "      <th></th>\n",
       "      <th>UserID</th>\n",
       "      <th>Gender</th>\n",
       "      <th>Age</th>\n",
       "      <th>Occupation</th>\n",
       "      <th>Zip-code</th>\n",
       "    </tr>\n",
       "  </thead>\n",
       "  <tbody>\n",
       "    <tr>\n",
       "      <th>0</th>\n",
       "      <td>1</td>\n",
       "      <td>F</td>\n",
       "      <td>1</td>\n",
       "      <td>10</td>\n",
       "      <td>48067</td>\n",
       "    </tr>\n",
       "    <tr>\n",
       "      <th>1</th>\n",
       "      <td>2</td>\n",
       "      <td>M</td>\n",
       "      <td>56</td>\n",
       "      <td>16</td>\n",
       "      <td>70072</td>\n",
       "    </tr>\n",
       "    <tr>\n",
       "      <th>2</th>\n",
       "      <td>3</td>\n",
       "      <td>M</td>\n",
       "      <td>25</td>\n",
       "      <td>15</td>\n",
       "      <td>55117</td>\n",
       "    </tr>\n",
       "    <tr>\n",
       "      <th>3</th>\n",
       "      <td>4</td>\n",
       "      <td>M</td>\n",
       "      <td>45</td>\n",
       "      <td>7</td>\n",
       "      <td>02460</td>\n",
       "    </tr>\n",
       "  </tbody>\n",
       "</table>\n",
       "</div>"
      ],
      "text/plain": [
       "   UserID Gender  Age  Occupation Zip-code\n",
       "0       1      F    1          10    48067\n",
       "1       2      M   56          16    70072\n",
       "2       3      M   25          15    55117\n",
       "3       4      M   45           7    02460"
      ]
     },
     "execution_count": 12,
     "metadata": {},
     "output_type": "execute_result"
    }
   ],
   "source": [
    "users_df = pd.read_csv(\"./ml-1m/users.dat\"\n",
    "                    , delimiter='::'\n",
    "                    , header=None\n",
    "                    , names=[\"UserID\", \"Gender\", \"Age\", \"Occupation\", \"Zip-code\"]\n",
    "                    , engine='python')\n",
    "users_df.loc[0:3, :]"
   ]
  },
  {
   "cell_type": "code",
   "execution_count": 13,
   "metadata": {
    "collapsed": false,
    "deletable": true,
    "editable": true,
    "slideshow": {
     "slide_type": "slide"
    }
   },
   "outputs": [
    {
     "data": {
      "text/html": [
       "<div>\n",
       "<table border=\"1\" class=\"dataframe\">\n",
       "  <thead>\n",
       "    <tr style=\"text-align: right;\">\n",
       "      <th></th>\n",
       "      <th>MovieID</th>\n",
       "      <th>Title</th>\n",
       "      <th>Genres</th>\n",
       "    </tr>\n",
       "  </thead>\n",
       "  <tbody>\n",
       "    <tr>\n",
       "      <th>0</th>\n",
       "      <td>1</td>\n",
       "      <td>Toy Story (1995)</td>\n",
       "      <td>Animation|Children's|Comedy</td>\n",
       "    </tr>\n",
       "    <tr>\n",
       "      <th>1</th>\n",
       "      <td>2</td>\n",
       "      <td>Jumanji (1995)</td>\n",
       "      <td>Adventure|Children's|Fantasy</td>\n",
       "    </tr>\n",
       "    <tr>\n",
       "      <th>2</th>\n",
       "      <td>3</td>\n",
       "      <td>Grumpier Old Men (1995)</td>\n",
       "      <td>Comedy|Romance</td>\n",
       "    </tr>\n",
       "    <tr>\n",
       "      <th>3</th>\n",
       "      <td>4</td>\n",
       "      <td>Waiting to Exhale (1995)</td>\n",
       "      <td>Comedy|Drama</td>\n",
       "    </tr>\n",
       "  </tbody>\n",
       "</table>\n",
       "</div>"
      ],
      "text/plain": [
       "   MovieID                     Title                        Genres\n",
       "0        1          Toy Story (1995)   Animation|Children's|Comedy\n",
       "1        2            Jumanji (1995)  Adventure|Children's|Fantasy\n",
       "2        3   Grumpier Old Men (1995)                Comedy|Romance\n",
       "3        4  Waiting to Exhale (1995)                  Comedy|Drama"
      ]
     },
     "execution_count": 13,
     "metadata": {},
     "output_type": "execute_result"
    }
   ],
   "source": [
    "movies_org_df = pd.read_csv(\"./ml-1m/movies.dat\"\n",
    "                            , sep='::'\n",
    "                            , header=None\n",
    "                            , names=[\"MovieID\", \"Title\", \"Genres\"]\n",
    "                            , engine='python')\n",
    "movies_org_df.loc[0:3, :]"
   ]
  },
  {
   "cell_type": "code",
   "execution_count": 14,
   "metadata": {
    "collapsed": false,
    "deletable": true,
    "editable": true,
    "slideshow": {
     "slide_type": "slide"
    }
   },
   "outputs": [
    {
     "data": {
      "text/html": [
       "<div>\n",
       "<table border=\"1\" class=\"dataframe\">\n",
       "  <thead>\n",
       "    <tr style=\"text-align: right;\">\n",
       "      <th></th>\n",
       "      <th>UserID</th>\n",
       "      <th>MovieID</th>\n",
       "      <th>Rating</th>\n",
       "      <th>Timestamp</th>\n",
       "      <th>rating_dt</th>\n",
       "    </tr>\n",
       "  </thead>\n",
       "  <tbody>\n",
       "    <tr>\n",
       "      <th>0</th>\n",
       "      <td>1</td>\n",
       "      <td>1193</td>\n",
       "      <td>5</td>\n",
       "      <td>978300760</td>\n",
       "      <td>2000-12-31 22:12:40</td>\n",
       "    </tr>\n",
       "    <tr>\n",
       "      <th>1</th>\n",
       "      <td>1</td>\n",
       "      <td>661</td>\n",
       "      <td>3</td>\n",
       "      <td>978302109</td>\n",
       "      <td>2000-12-31 22:35:09</td>\n",
       "    </tr>\n",
       "    <tr>\n",
       "      <th>2</th>\n",
       "      <td>1</td>\n",
       "      <td>914</td>\n",
       "      <td>3</td>\n",
       "      <td>978301968</td>\n",
       "      <td>2000-12-31 22:32:48</td>\n",
       "    </tr>\n",
       "    <tr>\n",
       "      <th>3</th>\n",
       "      <td>1</td>\n",
       "      <td>3408</td>\n",
       "      <td>4</td>\n",
       "      <td>978300275</td>\n",
       "      <td>2000-12-31 22:04:35</td>\n",
       "    </tr>\n",
       "  </tbody>\n",
       "</table>\n",
       "</div>"
      ],
      "text/plain": [
       "   UserID  MovieID  Rating  Timestamp           rating_dt\n",
       "0       1     1193       5  978300760 2000-12-31 22:12:40\n",
       "1       1      661       3  978302109 2000-12-31 22:35:09\n",
       "2       1      914       3  978301968 2000-12-31 22:32:48\n",
       "3       1     3408       4  978300275 2000-12-31 22:04:35"
      ]
     },
     "execution_count": 14,
     "metadata": {},
     "output_type": "execute_result"
    }
   ],
   "source": [
    "import datetime as dt\n",
    "ratings_df = pd.read_csv(\"./ml-1m/ratings.dat\"\n",
    "                         , sep='::'\n",
    "                         , header=None\n",
    "                         , names=[\"UserID\", \"MovieID\", \"Rating\", \"Timestamp\"], engine='python')\n",
    "ratings_df['rating_dt'] = pd.to_datetime(ratings_df['Timestamp'],unit='s')\n",
    "ratings_df.loc[0:3, :]"
   ]
  },
  {
   "cell_type": "markdown",
   "metadata": {
    "slideshow": {
     "slide_type": "slide"
    }
   },
   "source": [
    "# DataFrame column names"
   ]
  },
  {
   "cell_type": "code",
   "execution_count": 19,
   "metadata": {
    "collapsed": false
   },
   "outputs": [
    {
     "name": "stdout",
     "output_type": "stream",
     "text": [
      "Index(['UserID', 'Gender', 'Age', 'Occupation', 'Zip-code'], dtype='object')\n",
      "Index(['MovieID', 'Title', 'Genres'], dtype='object')\n",
      "Index(['UserID', 'MovieID', 'Rating', 'Timestamp', 'rating_dt'], dtype='object')\n"
     ]
    }
   ],
   "source": [
    "print(users_df.columns)\n",
    "print(movies_org_df.columns)\n",
    "print(ratings_df.columns)"
   ]
  },
  {
   "cell_type": "markdown",
   "metadata": {
    "slideshow": {
     "slide_type": "slide"
    }
   },
   "source": [
    "# DataFrame row index"
   ]
  },
  {
   "cell_type": "code",
   "execution_count": 24,
   "metadata": {
    "collapsed": false
   },
   "outputs": [
    {
     "name": "stdout",
     "output_type": "stream",
     "text": [
      "RangeIndex(start=0, stop=6040, step=1)\n",
      "[0, 1, 2, 3, 4, 5, 6, 7, 8, 9, 10, 11, 12, 13, 14, 15, 16, 17, 18, 19]\n"
     ]
    }
   ],
   "source": [
    "print(users_df.index)\n",
    "print(list(users_df.index)[0:20])"
   ]
  },
  {
   "cell_type": "markdown",
   "metadata": {
    "deletable": true,
    "editable": true,
    "slideshow": {
     "slide_type": "slide"
    }
   },
   "source": [
    "# DataFrame Indexing"
   ]
  },
  {
   "cell_type": "code",
   "execution_count": 15,
   "metadata": {
    "collapsed": false
   },
   "outputs": [
    {
     "data": {
      "text/plain": [
       "'Toy Story (1995)'"
      ]
     },
     "execution_count": 15,
     "metadata": {},
     "output_type": "execute_result"
    }
   ],
   "source": [
    "movies_org_df['Title'][0]"
   ]
  },
  {
   "cell_type": "code",
   "execution_count": 25,
   "metadata": {
    "collapsed": false
   },
   "outputs": [
    {
     "data": {
      "text/plain": [
       "0                                        Toy Story (1995)\n",
       "1                                          Jumanji (1995)\n",
       "2                                 Grumpier Old Men (1995)\n",
       "3                                Waiting to Exhale (1995)\n",
       "4                      Father of the Bride Part II (1995)\n",
       "5                                             Heat (1995)\n",
       "6                                          Sabrina (1995)\n",
       "7                                     Tom and Huck (1995)\n",
       "8                                     Sudden Death (1995)\n",
       "9                                        GoldenEye (1995)\n",
       "10                         American President, The (1995)\n",
       "11                     Dracula: Dead and Loving It (1995)\n",
       "12                                           Balto (1995)\n",
       "13                                           Nixon (1995)\n",
       "14                                Cutthroat Island (1995)\n",
       "15                                          Casino (1995)\n",
       "16                           Sense and Sensibility (1995)\n",
       "17                                      Four Rooms (1995)\n",
       "18                  Ace Ventura: When Nature Calls (1995)\n",
       "19                                     Money Train (1995)\n",
       "20                                      Get Shorty (1995)\n",
       "21                                         Copycat (1995)\n",
       "22                                       Assassins (1995)\n",
       "23                                          Powder (1995)\n",
       "24                               Leaving Las Vegas (1995)\n",
       "25                                         Othello (1995)\n",
       "26                                    Now and Then (1995)\n",
       "27                                      Persuasion (1995)\n",
       "28                      City of Lost Children, The (1995)\n",
       "29      Shanghai Triad (Yao a yao yao dao waipo qiao) ...\n",
       "                              ...                        \n",
       "3853                             Return of the Fly (1959)\n",
       "3854                                  Pajama Party (1964)\n",
       "3855                        Stranger Than Paradise (1984)\n",
       "3856               Voyage to the Bottom of the Sea (1961)\n",
       "3857                              Fantastic Voyage (1966)\n",
       "3858         Abbott and Costello Meet Frankenstein (1948)\n",
       "3859                                Bank Dick, The (1940)\n",
       "3860           Creature From the Black Lagoon, The (1954)\n",
       "3861                       Giant Gila Monster, The (1959)\n",
       "3862                            Invisible Man, The (1933)\n",
       "3863                            Killer Shrews, The (1959)\n",
       "3864                                        Kronos (1957)\n",
       "3865                                        Kronos (1973)\n",
       "3866                     Phantom of the Opera, The (1943)\n",
       "3867                                       Runaway (1984)\n",
       "3868                   Slumber Party Massacre, The (1982)\n",
       "3869                Slumber Party Massacre II, The (1987)\n",
       "3870               Slumber Party Massacre III, The (1990)\n",
       "3871                       Sorority House Massacre (1986)\n",
       "3872                    Sorority House Massacre II (1990)\n",
       "3873                                    Bamboozled (2000)\n",
       "3874                                       Bootmen (2000)\n",
       "3875                            Digimon: The Movie (2000)\n",
       "3876                                    Get Carter (2000)\n",
       "3877                                    Get Carter (1971)\n",
       "3878                              Meet the Parents (2000)\n",
       "3879                           Requiem for a Dream (2000)\n",
       "3880                                     Tigerland (2000)\n",
       "3881                              Two Family House (2000)\n",
       "3882                                Contender, The (2000)\n",
       "Name: Title, dtype: object"
      ]
     },
     "execution_count": 25,
     "metadata": {},
     "output_type": "execute_result"
    }
   ],
   "source": [
    "movies_org_df['Title']"
   ]
  },
  {
   "cell_type": "code",
   "execution_count": 8,
   "metadata": {
    "collapsed": false,
    "deletable": true,
    "editable": true,
    "slideshow": {
     "slide_type": "slide"
    }
   },
   "outputs": [
    {
     "data": {
      "text/html": [
       "<div>\n",
       "<table border=\"1\" class=\"dataframe\">\n",
       "  <thead>\n",
       "    <tr style=\"text-align: right;\">\n",
       "      <th></th>\n",
       "      <th>UserID</th>\n",
       "      <th>Gender</th>\n",
       "      <th>Age</th>\n",
       "      <th>Occupation</th>\n",
       "      <th>Zip-code</th>\n",
       "    </tr>\n",
       "  </thead>\n",
       "  <tbody>\n",
       "    <tr>\n",
       "      <th>0</th>\n",
       "      <td>1</td>\n",
       "      <td>F</td>\n",
       "      <td>1</td>\n",
       "      <td>10</td>\n",
       "      <td>48067</td>\n",
       "    </tr>\n",
       "    <tr>\n",
       "      <th>1</th>\n",
       "      <td>2</td>\n",
       "      <td>M</td>\n",
       "      <td>56</td>\n",
       "      <td>16</td>\n",
       "      <td>70072</td>\n",
       "    </tr>\n",
       "    <tr>\n",
       "      <th>2</th>\n",
       "      <td>3</td>\n",
       "      <td>M</td>\n",
       "      <td>25</td>\n",
       "      <td>15</td>\n",
       "      <td>55117</td>\n",
       "    </tr>\n",
       "    <tr>\n",
       "      <th>3</th>\n",
       "      <td>4</td>\n",
       "      <td>M</td>\n",
       "      <td>45</td>\n",
       "      <td>7</td>\n",
       "      <td>02460</td>\n",
       "    </tr>\n",
       "    <tr>\n",
       "      <th>4</th>\n",
       "      <td>5</td>\n",
       "      <td>M</td>\n",
       "      <td>25</td>\n",
       "      <td>20</td>\n",
       "      <td>55455</td>\n",
       "    </tr>\n",
       "    <tr>\n",
       "      <th>5</th>\n",
       "      <td>6</td>\n",
       "      <td>F</td>\n",
       "      <td>50</td>\n",
       "      <td>9</td>\n",
       "      <td>55117</td>\n",
       "    </tr>\n",
       "    <tr>\n",
       "      <th>6</th>\n",
       "      <td>7</td>\n",
       "      <td>M</td>\n",
       "      <td>35</td>\n",
       "      <td>1</td>\n",
       "      <td>06810</td>\n",
       "    </tr>\n",
       "    <tr>\n",
       "      <th>7</th>\n",
       "      <td>8</td>\n",
       "      <td>M</td>\n",
       "      <td>25</td>\n",
       "      <td>12</td>\n",
       "      <td>11413</td>\n",
       "    </tr>\n",
       "    <tr>\n",
       "      <th>8</th>\n",
       "      <td>9</td>\n",
       "      <td>M</td>\n",
       "      <td>25</td>\n",
       "      <td>17</td>\n",
       "      <td>61614</td>\n",
       "    </tr>\n",
       "    <tr>\n",
       "      <th>9</th>\n",
       "      <td>10</td>\n",
       "      <td>F</td>\n",
       "      <td>35</td>\n",
       "      <td>1</td>\n",
       "      <td>95370</td>\n",
       "    </tr>\n",
       "    <tr>\n",
       "      <th>10</th>\n",
       "      <td>11</td>\n",
       "      <td>F</td>\n",
       "      <td>25</td>\n",
       "      <td>1</td>\n",
       "      <td>04093</td>\n",
       "    </tr>\n",
       "    <tr>\n",
       "      <th>11</th>\n",
       "      <td>12</td>\n",
       "      <td>M</td>\n",
       "      <td>25</td>\n",
       "      <td>12</td>\n",
       "      <td>32793</td>\n",
       "    </tr>\n",
       "    <tr>\n",
       "      <th>12</th>\n",
       "      <td>13</td>\n",
       "      <td>M</td>\n",
       "      <td>45</td>\n",
       "      <td>1</td>\n",
       "      <td>93304</td>\n",
       "    </tr>\n",
       "    <tr>\n",
       "      <th>13</th>\n",
       "      <td>14</td>\n",
       "      <td>M</td>\n",
       "      <td>35</td>\n",
       "      <td>0</td>\n",
       "      <td>60126</td>\n",
       "    </tr>\n",
       "    <tr>\n",
       "      <th>14</th>\n",
       "      <td>15</td>\n",
       "      <td>M</td>\n",
       "      <td>25</td>\n",
       "      <td>7</td>\n",
       "      <td>22903</td>\n",
       "    </tr>\n",
       "    <tr>\n",
       "      <th>15</th>\n",
       "      <td>16</td>\n",
       "      <td>F</td>\n",
       "      <td>35</td>\n",
       "      <td>0</td>\n",
       "      <td>20670</td>\n",
       "    </tr>\n",
       "    <tr>\n",
       "      <th>16</th>\n",
       "      <td>17</td>\n",
       "      <td>M</td>\n",
       "      <td>50</td>\n",
       "      <td>1</td>\n",
       "      <td>95350</td>\n",
       "    </tr>\n",
       "    <tr>\n",
       "      <th>17</th>\n",
       "      <td>18</td>\n",
       "      <td>F</td>\n",
       "      <td>18</td>\n",
       "      <td>3</td>\n",
       "      <td>95825</td>\n",
       "    </tr>\n",
       "    <tr>\n",
       "      <th>18</th>\n",
       "      <td>19</td>\n",
       "      <td>M</td>\n",
       "      <td>1</td>\n",
       "      <td>10</td>\n",
       "      <td>48073</td>\n",
       "    </tr>\n",
       "    <tr>\n",
       "      <th>19</th>\n",
       "      <td>20</td>\n",
       "      <td>M</td>\n",
       "      <td>25</td>\n",
       "      <td>14</td>\n",
       "      <td>55113</td>\n",
       "    </tr>\n",
       "    <tr>\n",
       "      <th>20</th>\n",
       "      <td>21</td>\n",
       "      <td>M</td>\n",
       "      <td>18</td>\n",
       "      <td>16</td>\n",
       "      <td>99353</td>\n",
       "    </tr>\n",
       "    <tr>\n",
       "      <th>21</th>\n",
       "      <td>22</td>\n",
       "      <td>M</td>\n",
       "      <td>18</td>\n",
       "      <td>15</td>\n",
       "      <td>53706</td>\n",
       "    </tr>\n",
       "    <tr>\n",
       "      <th>22</th>\n",
       "      <td>23</td>\n",
       "      <td>M</td>\n",
       "      <td>35</td>\n",
       "      <td>0</td>\n",
       "      <td>90049</td>\n",
       "    </tr>\n",
       "    <tr>\n",
       "      <th>23</th>\n",
       "      <td>24</td>\n",
       "      <td>F</td>\n",
       "      <td>25</td>\n",
       "      <td>7</td>\n",
       "      <td>10023</td>\n",
       "    </tr>\n",
       "    <tr>\n",
       "      <th>24</th>\n",
       "      <td>25</td>\n",
       "      <td>M</td>\n",
       "      <td>18</td>\n",
       "      <td>4</td>\n",
       "      <td>01609</td>\n",
       "    </tr>\n",
       "    <tr>\n",
       "      <th>25</th>\n",
       "      <td>26</td>\n",
       "      <td>M</td>\n",
       "      <td>25</td>\n",
       "      <td>7</td>\n",
       "      <td>23112</td>\n",
       "    </tr>\n",
       "    <tr>\n",
       "      <th>26</th>\n",
       "      <td>27</td>\n",
       "      <td>M</td>\n",
       "      <td>25</td>\n",
       "      <td>11</td>\n",
       "      <td>19130</td>\n",
       "    </tr>\n",
       "    <tr>\n",
       "      <th>27</th>\n",
       "      <td>28</td>\n",
       "      <td>F</td>\n",
       "      <td>25</td>\n",
       "      <td>1</td>\n",
       "      <td>14607</td>\n",
       "    </tr>\n",
       "    <tr>\n",
       "      <th>28</th>\n",
       "      <td>29</td>\n",
       "      <td>M</td>\n",
       "      <td>35</td>\n",
       "      <td>7</td>\n",
       "      <td>33407</td>\n",
       "    </tr>\n",
       "    <tr>\n",
       "      <th>29</th>\n",
       "      <td>30</td>\n",
       "      <td>F</td>\n",
       "      <td>35</td>\n",
       "      <td>7</td>\n",
       "      <td>19143</td>\n",
       "    </tr>\n",
       "    <tr>\n",
       "      <th>...</th>\n",
       "      <td>...</td>\n",
       "      <td>...</td>\n",
       "      <td>...</td>\n",
       "      <td>...</td>\n",
       "      <td>...</td>\n",
       "    </tr>\n",
       "    <tr>\n",
       "      <th>6010</th>\n",
       "      <td>6011</td>\n",
       "      <td>M</td>\n",
       "      <td>35</td>\n",
       "      <td>15</td>\n",
       "      <td>80538</td>\n",
       "    </tr>\n",
       "    <tr>\n",
       "      <th>6011</th>\n",
       "      <td>6012</td>\n",
       "      <td>M</td>\n",
       "      <td>35</td>\n",
       "      <td>15</td>\n",
       "      <td>02871</td>\n",
       "    </tr>\n",
       "    <tr>\n",
       "      <th>6012</th>\n",
       "      <td>6013</td>\n",
       "      <td>F</td>\n",
       "      <td>25</td>\n",
       "      <td>20</td>\n",
       "      <td>32301</td>\n",
       "    </tr>\n",
       "    <tr>\n",
       "      <th>6013</th>\n",
       "      <td>6014</td>\n",
       "      <td>M</td>\n",
       "      <td>45</td>\n",
       "      <td>1</td>\n",
       "      <td>80634</td>\n",
       "    </tr>\n",
       "    <tr>\n",
       "      <th>6014</th>\n",
       "      <td>6015</td>\n",
       "      <td>F</td>\n",
       "      <td>25</td>\n",
       "      <td>9</td>\n",
       "      <td>80013</td>\n",
       "    </tr>\n",
       "    <tr>\n",
       "      <th>6015</th>\n",
       "      <td>6016</td>\n",
       "      <td>M</td>\n",
       "      <td>45</td>\n",
       "      <td>1</td>\n",
       "      <td>37209</td>\n",
       "    </tr>\n",
       "    <tr>\n",
       "      <th>6016</th>\n",
       "      <td>6017</td>\n",
       "      <td>F</td>\n",
       "      <td>35</td>\n",
       "      <td>7</td>\n",
       "      <td>21117</td>\n",
       "    </tr>\n",
       "    <tr>\n",
       "      <th>6017</th>\n",
       "      <td>6018</td>\n",
       "      <td>M</td>\n",
       "      <td>35</td>\n",
       "      <td>1</td>\n",
       "      <td>48906</td>\n",
       "    </tr>\n",
       "    <tr>\n",
       "      <th>6018</th>\n",
       "      <td>6019</td>\n",
       "      <td>M</td>\n",
       "      <td>25</td>\n",
       "      <td>0</td>\n",
       "      <td>10024</td>\n",
       "    </tr>\n",
       "    <tr>\n",
       "      <th>6019</th>\n",
       "      <td>6020</td>\n",
       "      <td>M</td>\n",
       "      <td>50</td>\n",
       "      <td>16</td>\n",
       "      <td>10023</td>\n",
       "    </tr>\n",
       "    <tr>\n",
       "      <th>6020</th>\n",
       "      <td>6021</td>\n",
       "      <td>M</td>\n",
       "      <td>25</td>\n",
       "      <td>12</td>\n",
       "      <td>08876</td>\n",
       "    </tr>\n",
       "    <tr>\n",
       "      <th>6021</th>\n",
       "      <td>6022</td>\n",
       "      <td>M</td>\n",
       "      <td>25</td>\n",
       "      <td>17</td>\n",
       "      <td>57006</td>\n",
       "    </tr>\n",
       "    <tr>\n",
       "      <th>6022</th>\n",
       "      <td>6023</td>\n",
       "      <td>M</td>\n",
       "      <td>25</td>\n",
       "      <td>0</td>\n",
       "      <td>43213</td>\n",
       "    </tr>\n",
       "    <tr>\n",
       "      <th>6023</th>\n",
       "      <td>6024</td>\n",
       "      <td>M</td>\n",
       "      <td>25</td>\n",
       "      <td>12</td>\n",
       "      <td>53705</td>\n",
       "    </tr>\n",
       "    <tr>\n",
       "      <th>6024</th>\n",
       "      <td>6025</td>\n",
       "      <td>F</td>\n",
       "      <td>25</td>\n",
       "      <td>1</td>\n",
       "      <td>32607</td>\n",
       "    </tr>\n",
       "    <tr>\n",
       "      <th>6025</th>\n",
       "      <td>6026</td>\n",
       "      <td>M</td>\n",
       "      <td>35</td>\n",
       "      <td>6</td>\n",
       "      <td>11210</td>\n",
       "    </tr>\n",
       "    <tr>\n",
       "      <th>6026</th>\n",
       "      <td>6027</td>\n",
       "      <td>M</td>\n",
       "      <td>18</td>\n",
       "      <td>4</td>\n",
       "      <td>20742</td>\n",
       "    </tr>\n",
       "    <tr>\n",
       "      <th>6027</th>\n",
       "      <td>6028</td>\n",
       "      <td>M</td>\n",
       "      <td>18</td>\n",
       "      <td>4</td>\n",
       "      <td>94133</td>\n",
       "    </tr>\n",
       "    <tr>\n",
       "      <th>6028</th>\n",
       "      <td>6029</td>\n",
       "      <td>F</td>\n",
       "      <td>25</td>\n",
       "      <td>1</td>\n",
       "      <td>23185</td>\n",
       "    </tr>\n",
       "    <tr>\n",
       "      <th>6029</th>\n",
       "      <td>6030</td>\n",
       "      <td>M</td>\n",
       "      <td>25</td>\n",
       "      <td>17</td>\n",
       "      <td>32618</td>\n",
       "    </tr>\n",
       "    <tr>\n",
       "      <th>6030</th>\n",
       "      <td>6031</td>\n",
       "      <td>F</td>\n",
       "      <td>18</td>\n",
       "      <td>0</td>\n",
       "      <td>45123</td>\n",
       "    </tr>\n",
       "    <tr>\n",
       "      <th>6031</th>\n",
       "      <td>6032</td>\n",
       "      <td>M</td>\n",
       "      <td>45</td>\n",
       "      <td>7</td>\n",
       "      <td>55108</td>\n",
       "    </tr>\n",
       "    <tr>\n",
       "      <th>6032</th>\n",
       "      <td>6033</td>\n",
       "      <td>M</td>\n",
       "      <td>50</td>\n",
       "      <td>13</td>\n",
       "      <td>78232</td>\n",
       "    </tr>\n",
       "    <tr>\n",
       "      <th>6033</th>\n",
       "      <td>6034</td>\n",
       "      <td>M</td>\n",
       "      <td>25</td>\n",
       "      <td>14</td>\n",
       "      <td>94117</td>\n",
       "    </tr>\n",
       "    <tr>\n",
       "      <th>6034</th>\n",
       "      <td>6035</td>\n",
       "      <td>F</td>\n",
       "      <td>25</td>\n",
       "      <td>1</td>\n",
       "      <td>78734</td>\n",
       "    </tr>\n",
       "    <tr>\n",
       "      <th>6035</th>\n",
       "      <td>6036</td>\n",
       "      <td>F</td>\n",
       "      <td>25</td>\n",
       "      <td>15</td>\n",
       "      <td>32603</td>\n",
       "    </tr>\n",
       "    <tr>\n",
       "      <th>6036</th>\n",
       "      <td>6037</td>\n",
       "      <td>F</td>\n",
       "      <td>45</td>\n",
       "      <td>1</td>\n",
       "      <td>76006</td>\n",
       "    </tr>\n",
       "    <tr>\n",
       "      <th>6037</th>\n",
       "      <td>6038</td>\n",
       "      <td>F</td>\n",
       "      <td>56</td>\n",
       "      <td>1</td>\n",
       "      <td>14706</td>\n",
       "    </tr>\n",
       "    <tr>\n",
       "      <th>6038</th>\n",
       "      <td>6039</td>\n",
       "      <td>F</td>\n",
       "      <td>45</td>\n",
       "      <td>0</td>\n",
       "      <td>01060</td>\n",
       "    </tr>\n",
       "    <tr>\n",
       "      <th>6039</th>\n",
       "      <td>6040</td>\n",
       "      <td>M</td>\n",
       "      <td>25</td>\n",
       "      <td>6</td>\n",
       "      <td>11106</td>\n",
       "    </tr>\n",
       "  </tbody>\n",
       "</table>\n",
       "<p>6040 rows × 5 columns</p>\n",
       "</div>"
      ],
      "text/plain": [
       "      UserID Gender  Age  Occupation Zip-code\n",
       "0          1      F    1          10    48067\n",
       "1          2      M   56          16    70072\n",
       "2          3      M   25          15    55117\n",
       "3          4      M   45           7    02460\n",
       "4          5      M   25          20    55455\n",
       "5          6      F   50           9    55117\n",
       "6          7      M   35           1    06810\n",
       "7          8      M   25          12    11413\n",
       "8          9      M   25          17    61614\n",
       "9         10      F   35           1    95370\n",
       "10        11      F   25           1    04093\n",
       "11        12      M   25          12    32793\n",
       "12        13      M   45           1    93304\n",
       "13        14      M   35           0    60126\n",
       "14        15      M   25           7    22903\n",
       "15        16      F   35           0    20670\n",
       "16        17      M   50           1    95350\n",
       "17        18      F   18           3    95825\n",
       "18        19      M    1          10    48073\n",
       "19        20      M   25          14    55113\n",
       "20        21      M   18          16    99353\n",
       "21        22      M   18          15    53706\n",
       "22        23      M   35           0    90049\n",
       "23        24      F   25           7    10023\n",
       "24        25      M   18           4    01609\n",
       "25        26      M   25           7    23112\n",
       "26        27      M   25          11    19130\n",
       "27        28      F   25           1    14607\n",
       "28        29      M   35           7    33407\n",
       "29        30      F   35           7    19143\n",
       "...      ...    ...  ...         ...      ...\n",
       "6010    6011      M   35          15    80538\n",
       "6011    6012      M   35          15    02871\n",
       "6012    6013      F   25          20    32301\n",
       "6013    6014      M   45           1    80634\n",
       "6014    6015      F   25           9    80013\n",
       "6015    6016      M   45           1    37209\n",
       "6016    6017      F   35           7    21117\n",
       "6017    6018      M   35           1    48906\n",
       "6018    6019      M   25           0    10024\n",
       "6019    6020      M   50          16    10023\n",
       "6020    6021      M   25          12    08876\n",
       "6021    6022      M   25          17    57006\n",
       "6022    6023      M   25           0    43213\n",
       "6023    6024      M   25          12    53705\n",
       "6024    6025      F   25           1    32607\n",
       "6025    6026      M   35           6    11210\n",
       "6026    6027      M   18           4    20742\n",
       "6027    6028      M   18           4    94133\n",
       "6028    6029      F   25           1    23185\n",
       "6029    6030      M   25          17    32618\n",
       "6030    6031      F   18           0    45123\n",
       "6031    6032      M   45           7    55108\n",
       "6032    6033      M   50          13    78232\n",
       "6033    6034      M   25          14    94117\n",
       "6034    6035      F   25           1    78734\n",
       "6035    6036      F   25          15    32603\n",
       "6036    6037      F   45           1    76006\n",
       "6037    6038      F   56           1    14706\n",
       "6038    6039      F   45           0    01060\n",
       "6039    6040      M   25           6    11106\n",
       "\n",
       "[6040 rows x 5 columns]"
      ]
     },
     "execution_count": 8,
     "metadata": {},
     "output_type": "execute_result"
    }
   ],
   "source": [
    "# Make sure that you input a \"list\" of column names\n",
    "users_df[['UserID', 'Gender', 'Age', 'Occupation', 'Zip-code']]"
   ]
  },
  {
   "cell_type": "code",
   "execution_count": 26,
   "metadata": {
    "collapsed": false,
    "slideshow": {
     "slide_type": "slide"
    }
   },
   "outputs": [
    {
     "ename": "KeyError",
     "evalue": "('UserID', 'Gender', 'Age', 'Occupation', 'Zip-code')",
     "output_type": "error",
     "traceback": [
      "\u001b[0;31m---------------------------------------------------------------------------\u001b[0m",
      "\u001b[0;31mKeyError\u001b[0m                                  Traceback (most recent call last)",
      "\u001b[0;32m/usr/local/lib/python3.5/dist-packages/pandas/indexes/base.py\u001b[0m in \u001b[0;36mget_loc\u001b[0;34m(self, key, method, tolerance)\u001b[0m\n\u001b[1;32m   2133\u001b[0m             \u001b[0;32mtry\u001b[0m\u001b[0;34m:\u001b[0m\u001b[0;34m\u001b[0m\u001b[0m\n\u001b[0;32m-> 2134\u001b[0;31m                 \u001b[0;32mreturn\u001b[0m \u001b[0mself\u001b[0m\u001b[0;34m.\u001b[0m\u001b[0m_engine\u001b[0m\u001b[0;34m.\u001b[0m\u001b[0mget_loc\u001b[0m\u001b[0;34m(\u001b[0m\u001b[0mkey\u001b[0m\u001b[0;34m)\u001b[0m\u001b[0;34m\u001b[0m\u001b[0m\n\u001b[0m\u001b[1;32m   2135\u001b[0m             \u001b[0;32mexcept\u001b[0m \u001b[0mKeyError\u001b[0m\u001b[0;34m:\u001b[0m\u001b[0;34m\u001b[0m\u001b[0m\n",
      "\u001b[0;32mpandas/index.pyx\u001b[0m in \u001b[0;36mpandas.index.IndexEngine.get_loc (pandas/index.c:4433)\u001b[0;34m()\u001b[0m\n",
      "\u001b[0;32mpandas/index.pyx\u001b[0m in \u001b[0;36mpandas.index.IndexEngine.get_loc (pandas/index.c:4279)\u001b[0;34m()\u001b[0m\n",
      "\u001b[0;32mpandas/src/hashtable_class_helper.pxi\u001b[0m in \u001b[0;36mpandas.hashtable.PyObjectHashTable.get_item (pandas/hashtable.c:13742)\u001b[0;34m()\u001b[0m\n",
      "\u001b[0;32mpandas/src/hashtable_class_helper.pxi\u001b[0m in \u001b[0;36mpandas.hashtable.PyObjectHashTable.get_item (pandas/hashtable.c:13696)\u001b[0;34m()\u001b[0m\n",
      "\u001b[0;31mKeyError\u001b[0m: ('UserID', 'Gender', 'Age', 'Occupation', 'Zip-code')",
      "\nDuring handling of the above exception, another exception occurred:\n",
      "\u001b[0;31mKeyError\u001b[0m                                  Traceback (most recent call last)",
      "\u001b[0;32m<ipython-input-26-7358f485a036>\u001b[0m in \u001b[0;36m<module>\u001b[0;34m()\u001b[0m\n\u001b[0;32m----> 1\u001b[0;31m \u001b[0musers_df\u001b[0m\u001b[0;34m[\u001b[0m\u001b[0;34m'UserID'\u001b[0m\u001b[0;34m,\u001b[0m \u001b[0;34m'Gender'\u001b[0m\u001b[0;34m,\u001b[0m \u001b[0;34m'Age'\u001b[0m\u001b[0;34m,\u001b[0m \u001b[0;34m'Occupation'\u001b[0m\u001b[0;34m,\u001b[0m \u001b[0;34m'Zip-code'\u001b[0m\u001b[0;34m]\u001b[0m\u001b[0;34m\u001b[0m\u001b[0m\n\u001b[0m",
      "\u001b[0;32m/usr/local/lib/python3.5/dist-packages/pandas/core/frame.py\u001b[0m in \u001b[0;36m__getitem__\u001b[0;34m(self, key)\u001b[0m\n\u001b[1;32m   2057\u001b[0m             \u001b[0;32mreturn\u001b[0m \u001b[0mself\u001b[0m\u001b[0;34m.\u001b[0m\u001b[0m_getitem_multilevel\u001b[0m\u001b[0;34m(\u001b[0m\u001b[0mkey\u001b[0m\u001b[0;34m)\u001b[0m\u001b[0;34m\u001b[0m\u001b[0m\n\u001b[1;32m   2058\u001b[0m         \u001b[0;32melse\u001b[0m\u001b[0;34m:\u001b[0m\u001b[0;34m\u001b[0m\u001b[0m\n\u001b[0;32m-> 2059\u001b[0;31m             \u001b[0;32mreturn\u001b[0m \u001b[0mself\u001b[0m\u001b[0;34m.\u001b[0m\u001b[0m_getitem_column\u001b[0m\u001b[0;34m(\u001b[0m\u001b[0mkey\u001b[0m\u001b[0;34m)\u001b[0m\u001b[0;34m\u001b[0m\u001b[0m\n\u001b[0m\u001b[1;32m   2060\u001b[0m \u001b[0;34m\u001b[0m\u001b[0m\n\u001b[1;32m   2061\u001b[0m     \u001b[0;32mdef\u001b[0m \u001b[0m_getitem_column\u001b[0m\u001b[0;34m(\u001b[0m\u001b[0mself\u001b[0m\u001b[0;34m,\u001b[0m \u001b[0mkey\u001b[0m\u001b[0;34m)\u001b[0m\u001b[0;34m:\u001b[0m\u001b[0;34m\u001b[0m\u001b[0m\n",
      "\u001b[0;32m/usr/local/lib/python3.5/dist-packages/pandas/core/frame.py\u001b[0m in \u001b[0;36m_getitem_column\u001b[0;34m(self, key)\u001b[0m\n\u001b[1;32m   2064\u001b[0m         \u001b[0;31m# get column\u001b[0m\u001b[0;34m\u001b[0m\u001b[0;34m\u001b[0m\u001b[0m\n\u001b[1;32m   2065\u001b[0m         \u001b[0;32mif\u001b[0m \u001b[0mself\u001b[0m\u001b[0;34m.\u001b[0m\u001b[0mcolumns\u001b[0m\u001b[0;34m.\u001b[0m\u001b[0mis_unique\u001b[0m\u001b[0;34m:\u001b[0m\u001b[0;34m\u001b[0m\u001b[0m\n\u001b[0;32m-> 2066\u001b[0;31m             \u001b[0;32mreturn\u001b[0m \u001b[0mself\u001b[0m\u001b[0;34m.\u001b[0m\u001b[0m_get_item_cache\u001b[0m\u001b[0;34m(\u001b[0m\u001b[0mkey\u001b[0m\u001b[0;34m)\u001b[0m\u001b[0;34m\u001b[0m\u001b[0m\n\u001b[0m\u001b[1;32m   2067\u001b[0m \u001b[0;34m\u001b[0m\u001b[0m\n\u001b[1;32m   2068\u001b[0m         \u001b[0;31m# duplicate columns & possible reduce dimensionality\u001b[0m\u001b[0;34m\u001b[0m\u001b[0;34m\u001b[0m\u001b[0m\n",
      "\u001b[0;32m/usr/local/lib/python3.5/dist-packages/pandas/core/generic.py\u001b[0m in \u001b[0;36m_get_item_cache\u001b[0;34m(self, item)\u001b[0m\n\u001b[1;32m   1384\u001b[0m         \u001b[0mres\u001b[0m \u001b[0;34m=\u001b[0m \u001b[0mcache\u001b[0m\u001b[0;34m.\u001b[0m\u001b[0mget\u001b[0m\u001b[0;34m(\u001b[0m\u001b[0mitem\u001b[0m\u001b[0;34m)\u001b[0m\u001b[0;34m\u001b[0m\u001b[0m\n\u001b[1;32m   1385\u001b[0m         \u001b[0;32mif\u001b[0m \u001b[0mres\u001b[0m \u001b[0;32mis\u001b[0m \u001b[0;32mNone\u001b[0m\u001b[0;34m:\u001b[0m\u001b[0;34m\u001b[0m\u001b[0m\n\u001b[0;32m-> 1386\u001b[0;31m             \u001b[0mvalues\u001b[0m \u001b[0;34m=\u001b[0m \u001b[0mself\u001b[0m\u001b[0;34m.\u001b[0m\u001b[0m_data\u001b[0m\u001b[0;34m.\u001b[0m\u001b[0mget\u001b[0m\u001b[0;34m(\u001b[0m\u001b[0mitem\u001b[0m\u001b[0;34m)\u001b[0m\u001b[0;34m\u001b[0m\u001b[0m\n\u001b[0m\u001b[1;32m   1387\u001b[0m             \u001b[0mres\u001b[0m \u001b[0;34m=\u001b[0m \u001b[0mself\u001b[0m\u001b[0;34m.\u001b[0m\u001b[0m_box_item_values\u001b[0m\u001b[0;34m(\u001b[0m\u001b[0mitem\u001b[0m\u001b[0;34m,\u001b[0m \u001b[0mvalues\u001b[0m\u001b[0;34m)\u001b[0m\u001b[0;34m\u001b[0m\u001b[0m\n\u001b[1;32m   1388\u001b[0m             \u001b[0mcache\u001b[0m\u001b[0;34m[\u001b[0m\u001b[0mitem\u001b[0m\u001b[0;34m]\u001b[0m \u001b[0;34m=\u001b[0m \u001b[0mres\u001b[0m\u001b[0;34m\u001b[0m\u001b[0m\n",
      "\u001b[0;32m/usr/local/lib/python3.5/dist-packages/pandas/core/internals.py\u001b[0m in \u001b[0;36mget\u001b[0;34m(self, item, fastpath)\u001b[0m\n\u001b[1;32m   3541\u001b[0m \u001b[0;34m\u001b[0m\u001b[0m\n\u001b[1;32m   3542\u001b[0m             \u001b[0;32mif\u001b[0m \u001b[0;32mnot\u001b[0m \u001b[0misnull\u001b[0m\u001b[0;34m(\u001b[0m\u001b[0mitem\u001b[0m\u001b[0;34m)\u001b[0m\u001b[0;34m:\u001b[0m\u001b[0;34m\u001b[0m\u001b[0m\n\u001b[0;32m-> 3543\u001b[0;31m                 \u001b[0mloc\u001b[0m \u001b[0;34m=\u001b[0m \u001b[0mself\u001b[0m\u001b[0;34m.\u001b[0m\u001b[0mitems\u001b[0m\u001b[0;34m.\u001b[0m\u001b[0mget_loc\u001b[0m\u001b[0;34m(\u001b[0m\u001b[0mitem\u001b[0m\u001b[0;34m)\u001b[0m\u001b[0;34m\u001b[0m\u001b[0m\n\u001b[0m\u001b[1;32m   3544\u001b[0m             \u001b[0;32melse\u001b[0m\u001b[0;34m:\u001b[0m\u001b[0;34m\u001b[0m\u001b[0m\n\u001b[1;32m   3545\u001b[0m                 \u001b[0mindexer\u001b[0m \u001b[0;34m=\u001b[0m \u001b[0mnp\u001b[0m\u001b[0;34m.\u001b[0m\u001b[0marange\u001b[0m\u001b[0;34m(\u001b[0m\u001b[0mlen\u001b[0m\u001b[0;34m(\u001b[0m\u001b[0mself\u001b[0m\u001b[0;34m.\u001b[0m\u001b[0mitems\u001b[0m\u001b[0;34m)\u001b[0m\u001b[0;34m)\u001b[0m\u001b[0;34m[\u001b[0m\u001b[0misnull\u001b[0m\u001b[0;34m(\u001b[0m\u001b[0mself\u001b[0m\u001b[0;34m.\u001b[0m\u001b[0mitems\u001b[0m\u001b[0;34m)\u001b[0m\u001b[0;34m]\u001b[0m\u001b[0;34m\u001b[0m\u001b[0m\n",
      "\u001b[0;32m/usr/local/lib/python3.5/dist-packages/pandas/indexes/base.py\u001b[0m in \u001b[0;36mget_loc\u001b[0;34m(self, key, method, tolerance)\u001b[0m\n\u001b[1;32m   2134\u001b[0m                 \u001b[0;32mreturn\u001b[0m \u001b[0mself\u001b[0m\u001b[0;34m.\u001b[0m\u001b[0m_engine\u001b[0m\u001b[0;34m.\u001b[0m\u001b[0mget_loc\u001b[0m\u001b[0;34m(\u001b[0m\u001b[0mkey\u001b[0m\u001b[0;34m)\u001b[0m\u001b[0;34m\u001b[0m\u001b[0m\n\u001b[1;32m   2135\u001b[0m             \u001b[0;32mexcept\u001b[0m \u001b[0mKeyError\u001b[0m\u001b[0;34m:\u001b[0m\u001b[0;34m\u001b[0m\u001b[0m\n\u001b[0;32m-> 2136\u001b[0;31m                 \u001b[0;32mreturn\u001b[0m \u001b[0mself\u001b[0m\u001b[0;34m.\u001b[0m\u001b[0m_engine\u001b[0m\u001b[0;34m.\u001b[0m\u001b[0mget_loc\u001b[0m\u001b[0;34m(\u001b[0m\u001b[0mself\u001b[0m\u001b[0;34m.\u001b[0m\u001b[0m_maybe_cast_indexer\u001b[0m\u001b[0;34m(\u001b[0m\u001b[0mkey\u001b[0m\u001b[0;34m)\u001b[0m\u001b[0;34m)\u001b[0m\u001b[0;34m\u001b[0m\u001b[0m\n\u001b[0m\u001b[1;32m   2137\u001b[0m \u001b[0;34m\u001b[0m\u001b[0m\n\u001b[1;32m   2138\u001b[0m         \u001b[0mindexer\u001b[0m \u001b[0;34m=\u001b[0m \u001b[0mself\u001b[0m\u001b[0;34m.\u001b[0m\u001b[0mget_indexer\u001b[0m\u001b[0;34m(\u001b[0m\u001b[0;34m[\u001b[0m\u001b[0mkey\u001b[0m\u001b[0;34m]\u001b[0m\u001b[0;34m,\u001b[0m \u001b[0mmethod\u001b[0m\u001b[0;34m=\u001b[0m\u001b[0mmethod\u001b[0m\u001b[0;34m,\u001b[0m \u001b[0mtolerance\u001b[0m\u001b[0;34m=\u001b[0m\u001b[0mtolerance\u001b[0m\u001b[0;34m)\u001b[0m\u001b[0;34m\u001b[0m\u001b[0m\n",
      "\u001b[0;32mpandas/index.pyx\u001b[0m in \u001b[0;36mpandas.index.IndexEngine.get_loc (pandas/index.c:4433)\u001b[0;34m()\u001b[0m\n",
      "\u001b[0;32mpandas/index.pyx\u001b[0m in \u001b[0;36mpandas.index.IndexEngine.get_loc (pandas/index.c:4279)\u001b[0;34m()\u001b[0m\n",
      "\u001b[0;32mpandas/src/hashtable_class_helper.pxi\u001b[0m in \u001b[0;36mpandas.hashtable.PyObjectHashTable.get_item (pandas/hashtable.c:13742)\u001b[0;34m()\u001b[0m\n",
      "\u001b[0;32mpandas/src/hashtable_class_helper.pxi\u001b[0m in \u001b[0;36mpandas.hashtable.PyObjectHashTable.get_item (pandas/hashtable.c:13696)\u001b[0;34m()\u001b[0m\n",
      "\u001b[0;31mKeyError\u001b[0m: ('UserID', 'Gender', 'Age', 'Occupation', 'Zip-code')"
     ]
    }
   ],
   "source": [
    "# This is frequently happened typo\n",
    "users_df['UserID', 'Gender', 'Age', 'Occupation', 'Zip-code']"
   ]
  },
  {
   "cell_type": "code",
   "execution_count": 27,
   "metadata": {
    "collapsed": false,
    "slideshow": {
     "slide_type": "slide"
    }
   },
   "outputs": [
    {
     "data": {
      "text/plain": [
       "0                                        Toy Story (1995)\n",
       "1                                          Jumanji (1995)\n",
       "2                                 Grumpier Old Men (1995)\n",
       "3                                Waiting to Exhale (1995)\n",
       "4                      Father of the Bride Part II (1995)\n",
       "5                                             Heat (1995)\n",
       "6                                          Sabrina (1995)\n",
       "7                                     Tom and Huck (1995)\n",
       "8                                     Sudden Death (1995)\n",
       "9                                        GoldenEye (1995)\n",
       "10                         American President, The (1995)\n",
       "11                     Dracula: Dead and Loving It (1995)\n",
       "12                                           Balto (1995)\n",
       "13                                           Nixon (1995)\n",
       "14                                Cutthroat Island (1995)\n",
       "15                                          Casino (1995)\n",
       "16                           Sense and Sensibility (1995)\n",
       "17                                      Four Rooms (1995)\n",
       "18                  Ace Ventura: When Nature Calls (1995)\n",
       "19                                     Money Train (1995)\n",
       "20                                      Get Shorty (1995)\n",
       "21                                         Copycat (1995)\n",
       "22                                       Assassins (1995)\n",
       "23                                          Powder (1995)\n",
       "24                               Leaving Las Vegas (1995)\n",
       "25                                         Othello (1995)\n",
       "26                                    Now and Then (1995)\n",
       "27                                      Persuasion (1995)\n",
       "28                      City of Lost Children, The (1995)\n",
       "29      Shanghai Triad (Yao a yao yao dao waipo qiao) ...\n",
       "                              ...                        \n",
       "3853                             Return of the Fly (1959)\n",
       "3854                                  Pajama Party (1964)\n",
       "3855                        Stranger Than Paradise (1984)\n",
       "3856               Voyage to the Bottom of the Sea (1961)\n",
       "3857                              Fantastic Voyage (1966)\n",
       "3858         Abbott and Costello Meet Frankenstein (1948)\n",
       "3859                                Bank Dick, The (1940)\n",
       "3860           Creature From the Black Lagoon, The (1954)\n",
       "3861                       Giant Gila Monster, The (1959)\n",
       "3862                            Invisible Man, The (1933)\n",
       "3863                            Killer Shrews, The (1959)\n",
       "3864                                        Kronos (1957)\n",
       "3865                                        Kronos (1973)\n",
       "3866                     Phantom of the Opera, The (1943)\n",
       "3867                                       Runaway (1984)\n",
       "3868                   Slumber Party Massacre, The (1982)\n",
       "3869                Slumber Party Massacre II, The (1987)\n",
       "3870               Slumber Party Massacre III, The (1990)\n",
       "3871                       Sorority House Massacre (1986)\n",
       "3872                    Sorority House Massacre II (1990)\n",
       "3873                                    Bamboozled (2000)\n",
       "3874                                       Bootmen (2000)\n",
       "3875                            Digimon: The Movie (2000)\n",
       "3876                                    Get Carter (2000)\n",
       "3877                                    Get Carter (1971)\n",
       "3878                              Meet the Parents (2000)\n",
       "3879                           Requiem for a Dream (2000)\n",
       "3880                                     Tigerland (2000)\n",
       "3881                              Two Family House (2000)\n",
       "3882                                Contender, The (2000)\n",
       "Name: Title, dtype: object"
      ]
     },
     "execution_count": 27,
     "metadata": {},
     "output_type": "execute_result"
    }
   ],
   "source": [
    "# One can choose a index by treating it like an attribute of this DataFrame\n",
    "movies_org_df.Title"
   ]
  },
  {
   "cell_type": "code",
   "execution_count": 28,
   "metadata": {
    "collapsed": false,
    "slideshow": {
     "slide_type": "slide"
    }
   },
   "outputs": [
    {
     "data": {
      "text/plain": [
       "'Toy Story (1995)'"
      ]
     },
     "execution_count": 28,
     "metadata": {},
     "output_type": "execute_result"
    }
   ],
   "source": [
    "movies_org_df.Title[0]"
   ]
  },
  {
   "cell_type": "code",
   "execution_count": 17,
   "metadata": {
    "collapsed": false
   },
   "outputs": [
    {
     "data": {
      "text/plain": [
       "'Toy Story (1995)'"
      ]
     },
     "execution_count": 17,
     "metadata": {},
     "output_type": "execute_result"
    }
   ],
   "source": [
    "movies_org_df.Title.loc[0]"
   ]
  },
  {
   "cell_type": "code",
   "execution_count": 18,
   "metadata": {
    "collapsed": false
   },
   "outputs": [
    {
     "data": {
      "text/plain": [
       "'Toy Story (1995)'"
      ]
     },
     "execution_count": 18,
     "metadata": {},
     "output_type": "execute_result"
    }
   ],
   "source": [
    "movies_org_df.Title.iloc[0]"
   ]
  },
  {
   "cell_type": "code",
   "execution_count": 9,
   "metadata": {
    "collapsed": false,
    "deletable": true,
    "editable": true
   },
   "outputs": [
    {
     "name": "stdout",
     "output_type": "stream",
     "text": [
      "0    10\n",
      "1    16\n",
      "2    15\n",
      "3     7\n",
      "4    20\n",
      "5     9\n",
      "6     1\n",
      "7    12\n",
      "8    17\n",
      "9     1\n",
      "Name: Occupation, dtype: int64\n"
     ]
    }
   ],
   "source": [
    "print(users_df['Occupation'][0:10])"
   ]
  },
  {
   "cell_type": "markdown",
   "metadata": {
    "slideshow": {
     "slide_type": "slide"
    }
   },
   "source": [
    "# Label-base vs. location base indexing\n",
    "Get data row through its label index or its position inside DataFrame"
   ]
  },
  {
   "cell_type": "code",
   "execution_count": 49,
   "metadata": {
    "collapsed": false,
    "slideshow": {
     "slide_type": "slide"
    }
   },
   "outputs": [
    {
     "data": {
      "text/html": [
       "<div>\n",
       "<table border=\"1\" class=\"dataframe\">\n",
       "  <thead>\n",
       "    <tr style=\"text-align: right;\">\n",
       "      <th></th>\n",
       "      <th>UserID</th>\n",
       "      <th>MovieID</th>\n",
       "      <th>Rating</th>\n",
       "      <th>Timestamp</th>\n",
       "      <th>rating_dt</th>\n",
       "    </tr>\n",
       "  </thead>\n",
       "  <tbody>\n",
       "    <tr>\n",
       "      <th>825603</th>\n",
       "      <td>4958</td>\n",
       "      <td>1924</td>\n",
       "      <td>4</td>\n",
       "      <td>1046454590</td>\n",
       "      <td>2003-02-28 17:49:50</td>\n",
       "    </tr>\n",
       "    <tr>\n",
       "      <th>825724</th>\n",
       "      <td>4958</td>\n",
       "      <td>3264</td>\n",
       "      <td>4</td>\n",
       "      <td>1046454548</td>\n",
       "      <td>2003-02-28 17:49:08</td>\n",
       "    </tr>\n",
       "    <tr>\n",
       "      <th>825731</th>\n",
       "      <td>4958</td>\n",
       "      <td>2634</td>\n",
       "      <td>3</td>\n",
       "      <td>1046454548</td>\n",
       "      <td>2003-02-28 17:49:08</td>\n",
       "    </tr>\n",
       "    <tr>\n",
       "      <th>825438</th>\n",
       "      <td>4958</td>\n",
       "      <td>1407</td>\n",
       "      <td>5</td>\n",
       "      <td>1046454443</td>\n",
       "      <td>2003-02-28 17:47:23</td>\n",
       "    </tr>\n",
       "    <tr>\n",
       "      <th>825793</th>\n",
       "      <td>4958</td>\n",
       "      <td>2399</td>\n",
       "      <td>1</td>\n",
       "      <td>1046454338</td>\n",
       "      <td>2003-02-28 17:45:38</td>\n",
       "    </tr>\n",
       "    <tr>\n",
       "      <th>825526</th>\n",
       "      <td>4958</td>\n",
       "      <td>3489</td>\n",
       "      <td>4</td>\n",
       "      <td>1046454320</td>\n",
       "      <td>2003-02-28 17:45:20</td>\n",
       "    </tr>\n",
       "    <tr>\n",
       "      <th>825877</th>\n",
       "      <td>4958</td>\n",
       "      <td>2043</td>\n",
       "      <td>1</td>\n",
       "      <td>1046454282</td>\n",
       "      <td>2003-02-28 17:44:42</td>\n",
       "    </tr>\n",
       "    <tr>\n",
       "      <th>825497</th>\n",
       "      <td>4958</td>\n",
       "      <td>2453</td>\n",
       "      <td>4</td>\n",
       "      <td>1046454260</td>\n",
       "      <td>2003-02-28 17:44:20</td>\n",
       "    </tr>\n",
       "    <tr>\n",
       "      <th>879288</th>\n",
       "      <td>5312</td>\n",
       "      <td>3267</td>\n",
       "      <td>4</td>\n",
       "      <td>1046444711</td>\n",
       "      <td>2003-02-28 15:05:11</td>\n",
       "    </tr>\n",
       "    <tr>\n",
       "      <th>983967</th>\n",
       "      <td>5948</td>\n",
       "      <td>3098</td>\n",
       "      <td>4</td>\n",
       "      <td>1046437932</td>\n",
       "      <td>2003-02-28 13:12:12</td>\n",
       "    </tr>\n",
       "  </tbody>\n",
       "</table>\n",
       "</div>"
      ],
      "text/plain": [
       "        UserID  MovieID  Rating   Timestamp           rating_dt\n",
       "825603    4958     1924       4  1046454590 2003-02-28 17:49:50\n",
       "825724    4958     3264       4  1046454548 2003-02-28 17:49:08\n",
       "825731    4958     2634       3  1046454548 2003-02-28 17:49:08\n",
       "825438    4958     1407       5  1046454443 2003-02-28 17:47:23\n",
       "825793    4958     2399       1  1046454338 2003-02-28 17:45:38\n",
       "825526    4958     3489       4  1046454320 2003-02-28 17:45:20\n",
       "825877    4958     2043       1  1046454282 2003-02-28 17:44:42\n",
       "825497    4958     2453       4  1046454260 2003-02-28 17:44:20\n",
       "879288    5312     3267       4  1046444711 2003-02-28 15:05:11\n",
       "983967    5948     3098       4  1046437932 2003-02-28 13:12:12"
      ]
     },
     "execution_count": 49,
     "metadata": {},
     "output_type": "execute_result"
    }
   ],
   "source": [
    "# Through the position of rows in DataFrame\n",
    "df = ratings_df.sort_values(by=\"rating_dt\", ascending=False)\n",
    "df.iloc[0:10, :]"
   ]
  },
  {
   "cell_type": "code",
   "execution_count": 50,
   "metadata": {
    "collapsed": false,
    "slideshow": {
     "slide_type": "slide"
    }
   },
   "outputs": [
    {
     "data": {
      "text/html": [
       "<div>\n",
       "<table border=\"1\" class=\"dataframe\">\n",
       "  <thead>\n",
       "    <tr style=\"text-align: right;\">\n",
       "      <th></th>\n",
       "      <th>UserID</th>\n",
       "      <th>MovieID</th>\n",
       "      <th>Rating</th>\n",
       "      <th>Timestamp</th>\n",
       "    </tr>\n",
       "  </thead>\n",
       "  <tbody>\n",
       "    <tr>\n",
       "      <th>825603</th>\n",
       "      <td>4958</td>\n",
       "      <td>1924</td>\n",
       "      <td>4</td>\n",
       "      <td>1046454590</td>\n",
       "    </tr>\n",
       "    <tr>\n",
       "      <th>825724</th>\n",
       "      <td>4958</td>\n",
       "      <td>3264</td>\n",
       "      <td>4</td>\n",
       "      <td>1046454548</td>\n",
       "    </tr>\n",
       "    <tr>\n",
       "      <th>825731</th>\n",
       "      <td>4958</td>\n",
       "      <td>2634</td>\n",
       "      <td>3</td>\n",
       "      <td>1046454548</td>\n",
       "    </tr>\n",
       "    <tr>\n",
       "      <th>825438</th>\n",
       "      <td>4958</td>\n",
       "      <td>1407</td>\n",
       "      <td>5</td>\n",
       "      <td>1046454443</td>\n",
       "    </tr>\n",
       "    <tr>\n",
       "      <th>825793</th>\n",
       "      <td>4958</td>\n",
       "      <td>2399</td>\n",
       "      <td>1</td>\n",
       "      <td>1046454338</td>\n",
       "    </tr>\n",
       "    <tr>\n",
       "      <th>825526</th>\n",
       "      <td>4958</td>\n",
       "      <td>3489</td>\n",
       "      <td>4</td>\n",
       "      <td>1046454320</td>\n",
       "    </tr>\n",
       "    <tr>\n",
       "      <th>825877</th>\n",
       "      <td>4958</td>\n",
       "      <td>2043</td>\n",
       "      <td>1</td>\n",
       "      <td>1046454282</td>\n",
       "    </tr>\n",
       "    <tr>\n",
       "      <th>825497</th>\n",
       "      <td>4958</td>\n",
       "      <td>2453</td>\n",
       "      <td>4</td>\n",
       "      <td>1046454260</td>\n",
       "    </tr>\n",
       "    <tr>\n",
       "      <th>879288</th>\n",
       "      <td>5312</td>\n",
       "      <td>3267</td>\n",
       "      <td>4</td>\n",
       "      <td>1046444711</td>\n",
       "    </tr>\n",
       "    <tr>\n",
       "      <th>983967</th>\n",
       "      <td>5948</td>\n",
       "      <td>3098</td>\n",
       "      <td>4</td>\n",
       "      <td>1046437932</td>\n",
       "    </tr>\n",
       "  </tbody>\n",
       "</table>\n",
       "</div>"
      ],
      "text/plain": [
       "        UserID  MovieID  Rating   Timestamp\n",
       "825603    4958     1924       4  1046454590\n",
       "825724    4958     3264       4  1046454548\n",
       "825731    4958     2634       3  1046454548\n",
       "825438    4958     1407       5  1046454443\n",
       "825793    4958     2399       1  1046454338\n",
       "825526    4958     3489       4  1046454320\n",
       "825877    4958     2043       1  1046454282\n",
       "825497    4958     2453       4  1046454260\n",
       "879288    5312     3267       4  1046444711\n",
       "983967    5948     3098       4  1046437932"
      ]
     },
     "execution_count": 50,
     "metadata": {},
     "output_type": "execute_result"
    }
   ],
   "source": [
    "# Through the position of rows in DataFrame\n",
    "df = ratings_df.sort_values(by=\"rating_dt\", ascending=False)\n",
    "df.iloc[0:10, [0,1,2,3]]"
   ]
  },
  {
   "cell_type": "code",
   "execution_count": 52,
   "metadata": {
    "collapsed": false,
    "slideshow": {
     "slide_type": "slide"
    }
   },
   "outputs": [
    {
     "data": {
      "text/html": [
       "<div>\n",
       "<table border=\"1\" class=\"dataframe\">\n",
       "  <thead>\n",
       "    <tr style=\"text-align: right;\">\n",
       "      <th></th>\n",
       "      <th>UserID</th>\n",
       "      <th>MovieID</th>\n",
       "      <th>Rating</th>\n",
       "      <th>Timestamp</th>\n",
       "      <th>rating_dt</th>\n",
       "    </tr>\n",
       "  </thead>\n",
       "  <tbody>\n",
       "    <tr>\n",
       "      <th>0</th>\n",
       "      <td>1</td>\n",
       "      <td>1193</td>\n",
       "      <td>5</td>\n",
       "      <td>978300760</td>\n",
       "      <td>2000-12-31 22:12:40</td>\n",
       "    </tr>\n",
       "    <tr>\n",
       "      <th>21</th>\n",
       "      <td>1</td>\n",
       "      <td>720</td>\n",
       "      <td>3</td>\n",
       "      <td>978300760</td>\n",
       "      <td>2000-12-31 22:12:40</td>\n",
       "    </tr>\n",
       "    <tr>\n",
       "      <th>44</th>\n",
       "      <td>1</td>\n",
       "      <td>260</td>\n",
       "      <td>4</td>\n",
       "      <td>978300760</td>\n",
       "      <td>2000-12-31 22:12:40</td>\n",
       "    </tr>\n",
       "    <tr>\n",
       "      <th>7</th>\n",
       "      <td>1</td>\n",
       "      <td>2804</td>\n",
       "      <td>5</td>\n",
       "      <td>978300719</td>\n",
       "      <td>2000-12-31 22:11:59</td>\n",
       "    </tr>\n",
       "    <tr>\n",
       "      <th>47</th>\n",
       "      <td>1</td>\n",
       "      <td>1207</td>\n",
       "      <td>4</td>\n",
       "      <td>978300719</td>\n",
       "      <td>2000-12-31 22:11:59</td>\n",
       "    </tr>\n",
       "    <tr>\n",
       "      <th>3</th>\n",
       "      <td>1</td>\n",
       "      <td>3408</td>\n",
       "      <td>4</td>\n",
       "      <td>978300275</td>\n",
       "      <td>2000-12-31 22:04:35</td>\n",
       "    </tr>\n",
       "    <tr>\n",
       "      <th>2493</th>\n",
       "      <td>19</td>\n",
       "      <td>1090</td>\n",
       "      <td>3</td>\n",
       "      <td>978300207</td>\n",
       "      <td>2000-12-31 22:03:27</td>\n",
       "    </tr>\n",
       "    <tr>\n",
       "      <th>2399</th>\n",
       "      <td>19</td>\n",
       "      <td>2841</td>\n",
       "      <td>5</td>\n",
       "      <td>978300188</td>\n",
       "      <td>2000-12-31 22:03:08</td>\n",
       "    </tr>\n",
       "    <tr>\n",
       "      <th>66</th>\n",
       "      <td>2</td>\n",
       "      <td>1687</td>\n",
       "      <td>3</td>\n",
       "      <td>978300174</td>\n",
       "      <td>2000-12-31 22:02:54</td>\n",
       "    </tr>\n",
       "    <tr>\n",
       "      <th>87</th>\n",
       "      <td>2</td>\n",
       "      <td>1544</td>\n",
       "      <td>4</td>\n",
       "      <td>978300174</td>\n",
       "      <td>2000-12-31 22:02:54</td>\n",
       "    </tr>\n",
       "    <tr>\n",
       "      <th>136</th>\n",
       "      <td>2</td>\n",
       "      <td>1917</td>\n",
       "      <td>3</td>\n",
       "      <td>978300174</td>\n",
       "      <td>2000-12-31 22:02:54</td>\n",
       "    </tr>\n",
       "    <tr>\n",
       "      <th>73</th>\n",
       "      <td>2</td>\n",
       "      <td>434</td>\n",
       "      <td>2</td>\n",
       "      <td>978300174</td>\n",
       "      <td>2000-12-31 22:02:54</td>\n",
       "    </tr>\n",
       "    <tr>\n",
       "      <th>36</th>\n",
       "      <td>1</td>\n",
       "      <td>1836</td>\n",
       "      <td>5</td>\n",
       "      <td>978300172</td>\n",
       "      <td>2000-12-31 22:02:52</td>\n",
       "    </tr>\n",
       "    <tr>\n",
       "      <th>2496</th>\n",
       "      <td>19</td>\n",
       "      <td>3273</td>\n",
       "      <td>3</td>\n",
       "      <td>978300170</td>\n",
       "      <td>2000-12-31 22:02:50</td>\n",
       "    </tr>\n",
       "    <tr>\n",
       "      <th>2278</th>\n",
       "      <td>19</td>\n",
       "      <td>1407</td>\n",
       "      <td>4</td>\n",
       "      <td>978300170</td>\n",
       "      <td>2000-12-31 22:02:50</td>\n",
       "    </tr>\n",
       "    <tr>\n",
       "      <th>2451</th>\n",
       "      <td>19</td>\n",
       "      <td>1717</td>\n",
       "      <td>2</td>\n",
       "      <td>978300170</td>\n",
       "      <td>2000-12-31 22:02:50</td>\n",
       "    </tr>\n",
       "    <tr>\n",
       "      <th>2449</th>\n",
       "      <td>19</td>\n",
       "      <td>76</td>\n",
       "      <td>1</td>\n",
       "      <td>978300170</td>\n",
       "      <td>2000-12-31 22:02:50</td>\n",
       "    </tr>\n",
       "    <tr>\n",
       "      <th>2248</th>\n",
       "      <td>19</td>\n",
       "      <td>2622</td>\n",
       "      <td>5</td>\n",
       "      <td>978300144</td>\n",
       "      <td>2000-12-31 22:02:24</td>\n",
       "    </tr>\n",
       "    <tr>\n",
       "      <th>133</th>\n",
       "      <td>2</td>\n",
       "      <td>95</td>\n",
       "      <td>2</td>\n",
       "      <td>978300143</td>\n",
       "      <td>2000-12-31 22:02:23</td>\n",
       "    </tr>\n",
       "    <tr>\n",
       "      <th>80</th>\n",
       "      <td>2</td>\n",
       "      <td>292</td>\n",
       "      <td>3</td>\n",
       "      <td>978300123</td>\n",
       "      <td>2000-12-31 22:02:03</td>\n",
       "    </tr>\n",
       "    <tr>\n",
       "      <th>74</th>\n",
       "      <td>2</td>\n",
       "      <td>2126</td>\n",
       "      <td>3</td>\n",
       "      <td>978300123</td>\n",
       "      <td>2000-12-31 22:02:03</td>\n",
       "    </tr>\n",
       "    <tr>\n",
       "      <th>24</th>\n",
       "      <td>1</td>\n",
       "      <td>2340</td>\n",
       "      <td>3</td>\n",
       "      <td>978300103</td>\n",
       "      <td>2000-12-31 22:01:43</td>\n",
       "    </tr>\n",
       "    <tr>\n",
       "      <th>167</th>\n",
       "      <td>2</td>\n",
       "      <td>2002</td>\n",
       "      <td>5</td>\n",
       "      <td>978300100</td>\n",
       "      <td>2000-12-31 22:01:40</td>\n",
       "    </tr>\n",
       "    <tr>\n",
       "      <th>129</th>\n",
       "      <td>2</td>\n",
       "      <td>736</td>\n",
       "      <td>4</td>\n",
       "      <td>978300100</td>\n",
       "      <td>2000-12-31 22:01:40</td>\n",
       "    </tr>\n",
       "    <tr>\n",
       "      <th>92</th>\n",
       "      <td>2</td>\n",
       "      <td>3257</td>\n",
       "      <td>3</td>\n",
       "      <td>978300073</td>\n",
       "      <td>2000-12-31 22:01:13</td>\n",
       "    </tr>\n",
       "    <tr>\n",
       "      <th>27</th>\n",
       "      <td>1</td>\n",
       "      <td>1721</td>\n",
       "      <td>4</td>\n",
       "      <td>978300055</td>\n",
       "      <td>2000-12-31 22:00:55</td>\n",
       "    </tr>\n",
       "    <tr>\n",
       "      <th>22</th>\n",
       "      <td>1</td>\n",
       "      <td>1270</td>\n",
       "      <td>5</td>\n",
       "      <td>978300055</td>\n",
       "      <td>2000-12-31 22:00:55</td>\n",
       "    </tr>\n",
       "    <tr>\n",
       "      <th>37</th>\n",
       "      <td>1</td>\n",
       "      <td>1022</td>\n",
       "      <td>5</td>\n",
       "      <td>978300055</td>\n",
       "      <td>2000-12-31 22:00:55</td>\n",
       "    </tr>\n",
       "    <tr>\n",
       "      <th>60</th>\n",
       "      <td>2</td>\n",
       "      <td>2628</td>\n",
       "      <td>3</td>\n",
       "      <td>978300051</td>\n",
       "      <td>2000-12-31 22:00:51</td>\n",
       "    </tr>\n",
       "    <tr>\n",
       "      <th>99</th>\n",
       "      <td>2</td>\n",
       "      <td>1690</td>\n",
       "      <td>3</td>\n",
       "      <td>978300051</td>\n",
       "      <td>2000-12-31 22:00:51</td>\n",
       "    </tr>\n",
       "    <tr>\n",
       "      <th>...</th>\n",
       "      <td>...</td>\n",
       "      <td>...</td>\n",
       "      <td>...</td>\n",
       "      <td>...</td>\n",
       "      <td>...</td>\n",
       "    </tr>\n",
       "    <tr>\n",
       "      <th>223315</th>\n",
       "      <td>1354</td>\n",
       "      <td>1473</td>\n",
       "      <td>3</td>\n",
       "      <td>978299072</td>\n",
       "      <td>2000-12-31 21:44:32</td>\n",
       "    </tr>\n",
       "    <tr>\n",
       "      <th>223371</th>\n",
       "      <td>1354</td>\n",
       "      <td>1804</td>\n",
       "      <td>3</td>\n",
       "      <td>978299072</td>\n",
       "      <td>2000-12-31 21:44:32</td>\n",
       "    </tr>\n",
       "    <tr>\n",
       "      <th>223376</th>\n",
       "      <td>1354</td>\n",
       "      <td>2609</td>\n",
       "      <td>5</td>\n",
       "      <td>978299053</td>\n",
       "      <td>2000-12-31 21:44:13</td>\n",
       "    </tr>\n",
       "    <tr>\n",
       "      <th>110</th>\n",
       "      <td>2</td>\n",
       "      <td>2312</td>\n",
       "      <td>3</td>\n",
       "      <td>978299046</td>\n",
       "      <td>2000-12-31 21:44:06</td>\n",
       "    </tr>\n",
       "    <tr>\n",
       "      <th>111</th>\n",
       "      <td>2</td>\n",
       "      <td>265</td>\n",
       "      <td>4</td>\n",
       "      <td>978299026</td>\n",
       "      <td>2000-12-31 21:43:46</td>\n",
       "    </tr>\n",
       "    <tr>\n",
       "      <th>54</th>\n",
       "      <td>2</td>\n",
       "      <td>3068</td>\n",
       "      <td>4</td>\n",
       "      <td>978299000</td>\n",
       "      <td>2000-12-31 21:43:20</td>\n",
       "    </tr>\n",
       "    <tr>\n",
       "      <th>223653</th>\n",
       "      <td>1354</td>\n",
       "      <td>1586</td>\n",
       "      <td>4</td>\n",
       "      <td>978298971</td>\n",
       "      <td>2000-12-31 21:42:51</td>\n",
       "    </tr>\n",
       "    <tr>\n",
       "      <th>223336</th>\n",
       "      <td>1354</td>\n",
       "      <td>2437</td>\n",
       "      <td>2</td>\n",
       "      <td>978298971</td>\n",
       "      <td>2000-12-31 21:42:51</td>\n",
       "    </tr>\n",
       "    <tr>\n",
       "      <th>223479</th>\n",
       "      <td>1354</td>\n",
       "      <td>282</td>\n",
       "      <td>3</td>\n",
       "      <td>978298971</td>\n",
       "      <td>2000-12-31 21:42:51</td>\n",
       "    </tr>\n",
       "    <tr>\n",
       "      <th>124</th>\n",
       "      <td>2</td>\n",
       "      <td>3334</td>\n",
       "      <td>4</td>\n",
       "      <td>978298958</td>\n",
       "      <td>2000-12-31 21:42:38</td>\n",
       "    </tr>\n",
       "    <tr>\n",
       "      <th>101</th>\n",
       "      <td>2</td>\n",
       "      <td>2852</td>\n",
       "      <td>3</td>\n",
       "      <td>978298958</td>\n",
       "      <td>2000-12-31 21:42:38</td>\n",
       "    </tr>\n",
       "    <tr>\n",
       "      <th>68</th>\n",
       "      <td>2</td>\n",
       "      <td>3578</td>\n",
       "      <td>5</td>\n",
       "      <td>978298958</td>\n",
       "      <td>2000-12-31 21:42:38</td>\n",
       "    </tr>\n",
       "    <tr>\n",
       "      <th>223677</th>\n",
       "      <td>1354</td>\n",
       "      <td>3500</td>\n",
       "      <td>1</td>\n",
       "      <td>978298951</td>\n",
       "      <td>2000-12-31 21:42:31</td>\n",
       "    </tr>\n",
       "    <tr>\n",
       "      <th>162</th>\n",
       "      <td>2</td>\n",
       "      <td>3451</td>\n",
       "      <td>4</td>\n",
       "      <td>978298924</td>\n",
       "      <td>2000-12-31 21:42:04</td>\n",
       "    </tr>\n",
       "    <tr>\n",
       "      <th>223274</th>\n",
       "      <td>1354</td>\n",
       "      <td>2231</td>\n",
       "      <td>3</td>\n",
       "      <td>978298918</td>\n",
       "      <td>2000-12-31 21:41:58</td>\n",
       "    </tr>\n",
       "    <tr>\n",
       "      <th>223447</th>\n",
       "      <td>1354</td>\n",
       "      <td>1876</td>\n",
       "      <td>2</td>\n",
       "      <td>978298918</td>\n",
       "      <td>2000-12-31 21:41:58</td>\n",
       "    </tr>\n",
       "    <tr>\n",
       "      <th>61</th>\n",
       "      <td>2</td>\n",
       "      <td>1103</td>\n",
       "      <td>3</td>\n",
       "      <td>978298905</td>\n",
       "      <td>2000-12-31 21:41:45</td>\n",
       "    </tr>\n",
       "    <tr>\n",
       "      <th>83</th>\n",
       "      <td>2</td>\n",
       "      <td>902</td>\n",
       "      <td>2</td>\n",
       "      <td>978298905</td>\n",
       "      <td>2000-12-31 21:41:45</td>\n",
       "    </tr>\n",
       "    <tr>\n",
       "      <th>223633</th>\n",
       "      <td>1354</td>\n",
       "      <td>3163</td>\n",
       "      <td>3</td>\n",
       "      <td>978298899</td>\n",
       "      <td>2000-12-31 21:41:39</td>\n",
       "    </tr>\n",
       "    <tr>\n",
       "      <th>223421</th>\n",
       "      <td>1354</td>\n",
       "      <td>1840</td>\n",
       "      <td>4</td>\n",
       "      <td>978298899</td>\n",
       "      <td>2000-12-31 21:41:39</td>\n",
       "    </tr>\n",
       "    <tr>\n",
       "      <th>166</th>\n",
       "      <td>2</td>\n",
       "      <td>2728</td>\n",
       "      <td>3</td>\n",
       "      <td>978298881</td>\n",
       "      <td>2000-12-31 21:41:21</td>\n",
       "    </tr>\n",
       "    <tr>\n",
       "      <th>174</th>\n",
       "      <td>2</td>\n",
       "      <td>1968</td>\n",
       "      <td>2</td>\n",
       "      <td>978298881</td>\n",
       "      <td>2000-12-31 21:41:21</td>\n",
       "    </tr>\n",
       "    <tr>\n",
       "      <th>223592</th>\n",
       "      <td>1354</td>\n",
       "      <td>851</td>\n",
       "      <td>4</td>\n",
       "      <td>978298865</td>\n",
       "      <td>2000-12-31 21:41:05</td>\n",
       "    </tr>\n",
       "    <tr>\n",
       "      <th>85</th>\n",
       "      <td>2</td>\n",
       "      <td>1259</td>\n",
       "      <td>5</td>\n",
       "      <td>978298841</td>\n",
       "      <td>2000-12-31 21:40:41</td>\n",
       "    </tr>\n",
       "    <tr>\n",
       "      <th>142</th>\n",
       "      <td>2</td>\n",
       "      <td>1954</td>\n",
       "      <td>5</td>\n",
       "      <td>978298841</td>\n",
       "      <td>2000-12-31 21:40:41</td>\n",
       "    </tr>\n",
       "    <tr>\n",
       "      <th>169</th>\n",
       "      <td>2</td>\n",
       "      <td>1784</td>\n",
       "      <td>5</td>\n",
       "      <td>978298841</td>\n",
       "      <td>2000-12-31 21:40:41</td>\n",
       "    </tr>\n",
       "    <tr>\n",
       "      <th>223379</th>\n",
       "      <td>1354</td>\n",
       "      <td>3270</td>\n",
       "      <td>4</td>\n",
       "      <td>978298829</td>\n",
       "      <td>2000-12-31 21:40:29</td>\n",
       "    </tr>\n",
       "    <tr>\n",
       "      <th>223608</th>\n",
       "      <td>1354</td>\n",
       "      <td>1399</td>\n",
       "      <td>3</td>\n",
       "      <td>978298829</td>\n",
       "      <td>2000-12-31 21:40:29</td>\n",
       "    </tr>\n",
       "    <tr>\n",
       "      <th>223522</th>\n",
       "      <td>1354</td>\n",
       "      <td>2106</td>\n",
       "      <td>5</td>\n",
       "      <td>978298829</td>\n",
       "      <td>2000-12-31 21:40:29</td>\n",
       "    </tr>\n",
       "    <tr>\n",
       "      <th>100</th>\n",
       "      <td>2</td>\n",
       "      <td>3654</td>\n",
       "      <td>3</td>\n",
       "      <td>978298814</td>\n",
       "      <td>2000-12-31 21:40:14</td>\n",
       "    </tr>\n",
       "  </tbody>\n",
       "</table>\n",
       "<p>186 rows × 5 columns</p>\n",
       "</div>"
      ],
      "text/plain": [
       "        UserID  MovieID  Rating  Timestamp           rating_dt\n",
       "0            1     1193       5  978300760 2000-12-31 22:12:40\n",
       "21           1      720       3  978300760 2000-12-31 22:12:40\n",
       "44           1      260       4  978300760 2000-12-31 22:12:40\n",
       "7            1     2804       5  978300719 2000-12-31 22:11:59\n",
       "47           1     1207       4  978300719 2000-12-31 22:11:59\n",
       "3            1     3408       4  978300275 2000-12-31 22:04:35\n",
       "2493        19     1090       3  978300207 2000-12-31 22:03:27\n",
       "2399        19     2841       5  978300188 2000-12-31 22:03:08\n",
       "66           2     1687       3  978300174 2000-12-31 22:02:54\n",
       "87           2     1544       4  978300174 2000-12-31 22:02:54\n",
       "136          2     1917       3  978300174 2000-12-31 22:02:54\n",
       "73           2      434       2  978300174 2000-12-31 22:02:54\n",
       "36           1     1836       5  978300172 2000-12-31 22:02:52\n",
       "2496        19     3273       3  978300170 2000-12-31 22:02:50\n",
       "2278        19     1407       4  978300170 2000-12-31 22:02:50\n",
       "2451        19     1717       2  978300170 2000-12-31 22:02:50\n",
       "2449        19       76       1  978300170 2000-12-31 22:02:50\n",
       "2248        19     2622       5  978300144 2000-12-31 22:02:24\n",
       "133          2       95       2  978300143 2000-12-31 22:02:23\n",
       "80           2      292       3  978300123 2000-12-31 22:02:03\n",
       "74           2     2126       3  978300123 2000-12-31 22:02:03\n",
       "24           1     2340       3  978300103 2000-12-31 22:01:43\n",
       "167          2     2002       5  978300100 2000-12-31 22:01:40\n",
       "129          2      736       4  978300100 2000-12-31 22:01:40\n",
       "92           2     3257       3  978300073 2000-12-31 22:01:13\n",
       "27           1     1721       4  978300055 2000-12-31 22:00:55\n",
       "22           1     1270       5  978300055 2000-12-31 22:00:55\n",
       "37           1     1022       5  978300055 2000-12-31 22:00:55\n",
       "60           2     2628       3  978300051 2000-12-31 22:00:51\n",
       "99           2     1690       3  978300051 2000-12-31 22:00:51\n",
       "...        ...      ...     ...        ...                 ...\n",
       "223315    1354     1473       3  978299072 2000-12-31 21:44:32\n",
       "223371    1354     1804       3  978299072 2000-12-31 21:44:32\n",
       "223376    1354     2609       5  978299053 2000-12-31 21:44:13\n",
       "110          2     2312       3  978299046 2000-12-31 21:44:06\n",
       "111          2      265       4  978299026 2000-12-31 21:43:46\n",
       "54           2     3068       4  978299000 2000-12-31 21:43:20\n",
       "223653    1354     1586       4  978298971 2000-12-31 21:42:51\n",
       "223336    1354     2437       2  978298971 2000-12-31 21:42:51\n",
       "223479    1354      282       3  978298971 2000-12-31 21:42:51\n",
       "124          2     3334       4  978298958 2000-12-31 21:42:38\n",
       "101          2     2852       3  978298958 2000-12-31 21:42:38\n",
       "68           2     3578       5  978298958 2000-12-31 21:42:38\n",
       "223677    1354     3500       1  978298951 2000-12-31 21:42:31\n",
       "162          2     3451       4  978298924 2000-12-31 21:42:04\n",
       "223274    1354     2231       3  978298918 2000-12-31 21:41:58\n",
       "223447    1354     1876       2  978298918 2000-12-31 21:41:58\n",
       "61           2     1103       3  978298905 2000-12-31 21:41:45\n",
       "83           2      902       2  978298905 2000-12-31 21:41:45\n",
       "223633    1354     3163       3  978298899 2000-12-31 21:41:39\n",
       "223421    1354     1840       4  978298899 2000-12-31 21:41:39\n",
       "166          2     2728       3  978298881 2000-12-31 21:41:21\n",
       "174          2     1968       2  978298881 2000-12-31 21:41:21\n",
       "223592    1354      851       4  978298865 2000-12-31 21:41:05\n",
       "85           2     1259       5  978298841 2000-12-31 21:40:41\n",
       "142          2     1954       5  978298841 2000-12-31 21:40:41\n",
       "169          2     1784       5  978298841 2000-12-31 21:40:41\n",
       "223379    1354     3270       4  978298829 2000-12-31 21:40:29\n",
       "223608    1354     1399       3  978298829 2000-12-31 21:40:29\n",
       "223522    1354     2106       5  978298829 2000-12-31 21:40:29\n",
       "100          2     3654       3  978298814 2000-12-31 21:40:14\n",
       "\n",
       "[186 rows x 5 columns]"
      ]
     },
     "execution_count": 52,
     "metadata": {},
     "output_type": "execute_result"
    }
   ],
   "source": [
    "# through DataFrame index\n",
    "df = ratings_df.sort_values(by=\"rating_dt\", ascending=False)\n",
    "df.loc[0:100, :]"
   ]
  },
  {
   "cell_type": "markdown",
   "metadata": {
    "slideshow": {
     "slide_type": "slide"
    }
   },
   "source": [
    "## SQL where statement equivalence\n",
    "SQL: \n",
    "```SQL=\n",
    "select * \n",
    "from ratings_df\n",
    "where Rating < 3\n",
    "```\n",
    "Pandas:"
   ]
  },
  {
   "cell_type": "code",
   "execution_count": 45,
   "metadata": {
    "collapsed": false
   },
   "outputs": [
    {
     "data": {
      "text/html": [
       "<div>\n",
       "<table border=\"1\" class=\"dataframe\">\n",
       "  <thead>\n",
       "    <tr style=\"text-align: right;\">\n",
       "      <th></th>\n",
       "      <th>UserID</th>\n",
       "      <th>MovieID</th>\n",
       "      <th>Rating</th>\n",
       "      <th>Timestamp</th>\n",
       "      <th>rating_dt</th>\n",
       "    </tr>\n",
       "  </thead>\n",
       "  <tbody>\n",
       "    <tr>\n",
       "      <th>67</th>\n",
       "      <td>2</td>\n",
       "      <td>1213</td>\n",
       "      <td>2</td>\n",
       "      <td>978298458</td>\n",
       "      <td>2000-12-31 21:34:18</td>\n",
       "    </tr>\n",
       "    <tr>\n",
       "      <th>73</th>\n",
       "      <td>2</td>\n",
       "      <td>434</td>\n",
       "      <td>2</td>\n",
       "      <td>978300174</td>\n",
       "      <td>2000-12-31 22:02:54</td>\n",
       "    </tr>\n",
       "    <tr>\n",
       "      <th>75</th>\n",
       "      <td>2</td>\n",
       "      <td>3107</td>\n",
       "      <td>2</td>\n",
       "      <td>978300002</td>\n",
       "      <td>2000-12-31 22:00:02</td>\n",
       "    </tr>\n",
       "    <tr>\n",
       "      <th>83</th>\n",
       "      <td>2</td>\n",
       "      <td>902</td>\n",
       "      <td>2</td>\n",
       "      <td>978298905</td>\n",
       "      <td>2000-12-31 21:41:45</td>\n",
       "    </tr>\n",
       "    <tr>\n",
       "      <th>91</th>\n",
       "      <td>2</td>\n",
       "      <td>3256</td>\n",
       "      <td>2</td>\n",
       "      <td>978299839</td>\n",
       "      <td>2000-12-31 21:57:19</td>\n",
       "    </tr>\n",
       "    <tr>\n",
       "      <th>114</th>\n",
       "      <td>2</td>\n",
       "      <td>3699</td>\n",
       "      <td>2</td>\n",
       "      <td>978299173</td>\n",
       "      <td>2000-12-31 21:46:13</td>\n",
       "    </tr>\n",
       "    <tr>\n",
       "      <th>125</th>\n",
       "      <td>2</td>\n",
       "      <td>2427</td>\n",
       "      <td>2</td>\n",
       "      <td>978299913</td>\n",
       "      <td>2000-12-31 21:58:33</td>\n",
       "    </tr>\n",
       "    <tr>\n",
       "      <th>133</th>\n",
       "      <td>2</td>\n",
       "      <td>95</td>\n",
       "      <td>2</td>\n",
       "      <td>978300143</td>\n",
       "      <td>2000-12-31 22:02:23</td>\n",
       "    </tr>\n",
       "    <tr>\n",
       "      <th>148</th>\n",
       "      <td>2</td>\n",
       "      <td>21</td>\n",
       "      <td>1</td>\n",
       "      <td>978299839</td>\n",
       "      <td>2000-12-31 21:57:19</td>\n",
       "    </tr>\n",
       "    <tr>\n",
       "      <th>151</th>\n",
       "      <td>2</td>\n",
       "      <td>1090</td>\n",
       "      <td>2</td>\n",
       "      <td>978298580</td>\n",
       "      <td>2000-12-31 21:36:20</td>\n",
       "    </tr>\n",
       "  </tbody>\n",
       "</table>\n",
       "</div>"
      ],
      "text/plain": [
       "     UserID  MovieID  Rating  Timestamp           rating_dt\n",
       "67        2     1213       2  978298458 2000-12-31 21:34:18\n",
       "73        2      434       2  978300174 2000-12-31 22:02:54\n",
       "75        2     3107       2  978300002 2000-12-31 22:00:02\n",
       "83        2      902       2  978298905 2000-12-31 21:41:45\n",
       "91        2     3256       2  978299839 2000-12-31 21:57:19\n",
       "114       2     3699       2  978299173 2000-12-31 21:46:13\n",
       "125       2     2427       2  978299913 2000-12-31 21:58:33\n",
       "133       2       95       2  978300143 2000-12-31 22:02:23\n",
       "148       2       21       1  978299839 2000-12-31 21:57:19\n",
       "151       2     1090       2  978298580 2000-12-31 21:36:20"
      ]
     },
     "execution_count": 45,
     "metadata": {},
     "output_type": "execute_result"
    }
   ],
   "source": [
    "ratings_df[ratings_df.Rating < 3].iloc[0:10, :]"
   ]
  },
  {
   "cell_type": "markdown",
   "metadata": {
    "deletable": true,
    "editable": true,
    "slideshow": {
     "slide_type": "slide"
    }
   },
   "source": [
    "SQL: \n",
    "```SQL=\n",
    "select * \n",
    "from ratings_df\n",
    "where rating_dt < '2003-02-01' and rating_dt >= '2003-01-01'\n",
    "```\n",
    "Pandas:"
   ]
  },
  {
   "cell_type": "code",
   "execution_count": 62,
   "metadata": {
    "collapsed": false
   },
   "outputs": [
    {
     "name": "stdout",
     "output_type": "stream",
     "text": [
      "        UserID  MovieID  Rating   Timestamp           rating_dt\n",
      "329894    1946      144       4  1044033786 2003-01-31 17:23:06\n",
      "329916    1946     1220       4  1044033786 2003-01-31 17:23:06\n",
      "--------------------------------------------------------------------\n",
      "        UserID  MovieID  Rating   Timestamp           rating_dt\n",
      "172198    1088     3900       3  1041384785 2003-01-01 01:33:05\n"
     ]
    }
   ],
   "source": [
    "import datetime as dt\n",
    "df = ratings_df[(ratings_df.rating_dt \n",
    "                 < dt.datetime(2003, 2, 1)) &\n",
    "        (ratings_df.rating_dt >= dt.datetime(2003, 1, 1))]\n",
    "print(df[df.rating_dt == df.rating_dt.max()])\n",
    "print(\"--------------------------------------------------------------------\")\n",
    "print(df[df.rating_dt == df.rating_dt.min()])"
   ]
  },
  {
   "cell_type": "markdown",
   "metadata": {
    "slideshow": {
     "slide_type": "slide"
    }
   },
   "source": [
    "## Deprecated indexing method"
   ]
  },
  {
   "cell_type": "code",
   "execution_count": 18,
   "metadata": {
    "collapsed": false,
    "deletable": true,
    "editable": true,
    "slideshow": {
     "slide_type": "-"
    }
   },
   "outputs": [
    {
     "data": {
      "text/plain": [
       "0     10\n",
       "1     16\n",
       "2     15\n",
       "3      7\n",
       "4     20\n",
       "5      9\n",
       "6      1\n",
       "7     12\n",
       "8     17\n",
       "9      1\n",
       "10     1\n",
       "Name: Occupation, dtype: int64"
      ]
     },
     "execution_count": 18,
     "metadata": {},
     "output_type": "execute_result"
    }
   ],
   "source": [
    "users_df['Occupation'].ix[0:10]"
   ]
  },
  {
   "cell_type": "markdown",
   "metadata": {
    "deletable": true,
    "editable": true,
    "slideshow": {
     "slide_type": "-"
    }
   },
   "source": [
    "<font color='#c94c4c'> Indexing with .ix attribute has beedn deprecated since Pandas 0.20.0 </font>\n",
    "\n",
    "<pre>.ix offers a lot of magic on the inference of what the user wants to do. To wit, .ix can decide to index positionally OR via labels depending on the data type of the index. This has caused quite a bit of user confusion over the years. \n",
    "\n",
    "The recommended methods of indexing are:\n",
    "\n",
    ".loc if you want to label index\n",
    ".iloc if you want to positionally index.\n",
    "</pre>"
   ]
  },
  {
   "cell_type": "markdown",
   "metadata": {
    "deletable": true,
    "editable": true,
    "slideshow": {
     "slide_type": "slide"
    }
   },
   "source": [
    "# Change data in DataFrame"
   ]
  },
  {
   "cell_type": "code",
   "execution_count": 43,
   "metadata": {
    "collapsed": false,
    "deletable": true,
    "editable": true,
    "slideshow": {
     "slide_type": "-"
    }
   },
   "outputs": [
    {
     "name": "stdout",
     "output_type": "stream",
     "text": [
      "0    F\n",
      "1    M\n",
      "2    M\n",
      "3    M\n",
      "4    M\n",
      "5    F\n",
      "Name: Gender, dtype: object\n",
      "0    F\n",
      "1    M\n",
      "2    F\n",
      "3    M\n",
      "4    M\n",
      "5    F\n",
      "Name: Gender, dtype: object\n"
     ]
    }
   ],
   "source": [
    "copy_users_df = users_df.copy()\n",
    "copy_users_df = copy_users_df.iloc[0:5, :]\n",
    "print(copy_users_df['Gender'])\n",
    "copy_users_df['Gender'][2] = 'F'\n",
    "print(copy_users_df['Gender'])"
   ]
  },
  {
   "cell_type": "markdown",
   "metadata": {
    "slideshow": {
     "slide_type": "slide"
    }
   },
   "source": [
    "## Following assignment doesn't work\n",
    "It gives you \"SettingWithCopyWarning\""
   ]
  },
  {
   "cell_type": "code",
   "execution_count": 47,
   "metadata": {
    "collapsed": false,
    "slideshow": {
     "slide_type": "-"
    }
   },
   "outputs": [
    {
     "name": "stdout",
     "output_type": "stream",
     "text": [
      "   UserID Gender  Age  Occupation Zip-code\n",
      "0       1      F    1          10    48067\n",
      "1       2      M   56          16    70072\n",
      "2       3      M   25          15    55117\n",
      "3       4      M   45           7    02460\n",
      "4       5      M   25          20    55455\n",
      "5       6      F   50           9    55117\n",
      "6       7      M   35           1    06810\n",
      "7       8      M   25          12    11413\n",
      "8       9      M   25          17    61614\n"
     ]
    },
    {
     "name": "stderr",
     "output_type": "stream",
     "text": [
      "/usr/local/lib/python3.5/dist-packages/ipykernel/__main__.py:2: SettingWithCopyWarning: \n",
      "A value is trying to be set on a copy of a slice from a DataFrame.\n",
      "Try using .loc[row_indexer,col_indexer] = value instead\n",
      "\n",
      "See the caveats in the documentation: http://pandas.pydata.org/pandas-docs/stable/indexing.html#indexing-view-versus-copy\n",
      "  from ipykernel import kernelapp as app\n"
     ]
    }
   ],
   "source": [
    "copy_users_df = users_df.copy()\n",
    "copy_users_df[copy_users_df.UserID < 10]['Gender'] = 'F'\n",
    "print(copy_users_df[copy_users_df.UserID < 10])"
   ]
  },
  {
   "cell_type": "markdown",
   "metadata": {
    "slideshow": {
     "slide_type": "slide"
    }
   },
   "source": [
    "# SettingsWithCopy Warning and Chained Indexing\n",
    "* http://pandas.pydata.org/pandas-docs/stable/indexing.html#indexing-view-versus-copy\n",
    "\n",
    "* If one is using chained indexing in assignment statement, there is an extra __getitem__ funtion call under the hood.\n",
    "\n",
    "* __getitem__ returns a copy or a view depending on memory layout of the array, about which pandas makes no guarantees.\n",
    "\n",
    "* To successfully changing data in the DataFrame, using \"loc\" or \"iloc\" to avoid chained indexing."
   ]
  },
  {
   "cell_type": "markdown",
   "metadata": {
    "deletable": true,
    "editable": true,
    "slideshow": {
     "slide_type": "slide"
    }
   },
   "source": [
    "# Text Handling"
   ]
  },
  {
   "cell_type": "code",
   "execution_count": 18,
   "metadata": {
    "collapsed": false,
    "deletable": true,
    "editable": true
   },
   "outputs": [
    {
     "data": {
      "text/html": [
       "<div>\n",
       "<table border=\"1\" class=\"dataframe\">\n",
       "  <thead>\n",
       "    <tr style=\"text-align: right;\">\n",
       "      <th></th>\n",
       "      <th>MovieID</th>\n",
       "      <th>Title</th>\n",
       "      <th>Genres</th>\n",
       "    </tr>\n",
       "  </thead>\n",
       "  <tbody>\n",
       "    <tr>\n",
       "      <th>0</th>\n",
       "      <td>1</td>\n",
       "      <td>Toy Story (1995)</td>\n",
       "      <td>Animation|Children's|Comedy</td>\n",
       "    </tr>\n",
       "    <tr>\n",
       "      <th>1</th>\n",
       "      <td>2</td>\n",
       "      <td>Jumanji (1995)</td>\n",
       "      <td>Adventure|Children's|Fantasy</td>\n",
       "    </tr>\n",
       "    <tr>\n",
       "      <th>2</th>\n",
       "      <td>3</td>\n",
       "      <td>Grumpier Old Men (1995)</td>\n",
       "      <td>Comedy|Romance</td>\n",
       "    </tr>\n",
       "    <tr>\n",
       "      <th>3</th>\n",
       "      <td>4</td>\n",
       "      <td>Waiting to Exhale (1995)</td>\n",
       "      <td>Comedy|Drama</td>\n",
       "    </tr>\n",
       "    <tr>\n",
       "      <th>4</th>\n",
       "      <td>5</td>\n",
       "      <td>Father of the Bride Part II (1995)</td>\n",
       "      <td>Comedy</td>\n",
       "    </tr>\n",
       "    <tr>\n",
       "      <th>5</th>\n",
       "      <td>6</td>\n",
       "      <td>Heat (1995)</td>\n",
       "      <td>Action|Crime|Thriller</td>\n",
       "    </tr>\n",
       "    <tr>\n",
       "      <th>6</th>\n",
       "      <td>7</td>\n",
       "      <td>Sabrina (1995)</td>\n",
       "      <td>Comedy|Romance</td>\n",
       "    </tr>\n",
       "    <tr>\n",
       "      <th>7</th>\n",
       "      <td>8</td>\n",
       "      <td>Tom and Huck (1995)</td>\n",
       "      <td>Adventure|Children's</td>\n",
       "    </tr>\n",
       "    <tr>\n",
       "      <th>8</th>\n",
       "      <td>9</td>\n",
       "      <td>Sudden Death (1995)</td>\n",
       "      <td>Action</td>\n",
       "    </tr>\n",
       "    <tr>\n",
       "      <th>9</th>\n",
       "      <td>10</td>\n",
       "      <td>GoldenEye (1995)</td>\n",
       "      <td>Action|Adventure|Thriller</td>\n",
       "    </tr>\n",
       "    <tr>\n",
       "      <th>10</th>\n",
       "      <td>11</td>\n",
       "      <td>American President, The (1995)</td>\n",
       "      <td>Comedy|Drama|Romance</td>\n",
       "    </tr>\n",
       "  </tbody>\n",
       "</table>\n",
       "</div>"
      ],
      "text/plain": [
       "    MovieID                               Title                        Genres\n",
       "0         1                    Toy Story (1995)   Animation|Children's|Comedy\n",
       "1         2                      Jumanji (1995)  Adventure|Children's|Fantasy\n",
       "2         3             Grumpier Old Men (1995)                Comedy|Romance\n",
       "3         4            Waiting to Exhale (1995)                  Comedy|Drama\n",
       "4         5  Father of the Bride Part II (1995)                        Comedy\n",
       "5         6                         Heat (1995)         Action|Crime|Thriller\n",
       "6         7                      Sabrina (1995)                Comedy|Romance\n",
       "7         8                 Tom and Huck (1995)          Adventure|Children's\n",
       "8         9                 Sudden Death (1995)                        Action\n",
       "9        10                    GoldenEye (1995)     Action|Adventure|Thriller\n",
       "10       11      American President, The (1995)          Comedy|Drama|Romance"
      ]
     },
     "execution_count": 18,
     "metadata": {},
     "output_type": "execute_result"
    }
   ],
   "source": [
    "movies_org_df.ix[0:10]"
   ]
  },
  {
   "cell_type": "markdown",
   "metadata": {
    "deletable": true,
    "editable": true,
    "slideshow": {
     "slide_type": "slide"
    }
   },
   "source": [
    "# Split Genres and put into rows"
   ]
  },
  {
   "cell_type": "code",
   "execution_count": 33,
   "metadata": {
    "collapsed": false,
    "deletable": true,
    "editable": true,
    "slideshow": {
     "slide_type": "-"
    }
   },
   "outputs": [],
   "source": [
    "rows = []\n",
    "for _, row in movies_org_df.iterrows():\n",
    "    for gen in row.Genres.split('|'):\n",
    "        rows.append([row['MovieID'], row['Title'], gen])\n",
    "movies_df = pd.DataFrame(rows, columns=movies_org_df.columns)"
   ]
  },
  {
   "cell_type": "markdown",
   "metadata": {
    "deletable": true,
    "editable": true,
    "slideshow": {
     "slide_type": "slide"
    }
   },
   "source": [
    "# Merge Data and Concat Data\n",
    "\n",
    "* Pandas.merge and Pandas.concat\n",
    "\n",
    "* Pandas.merge is analog to join in SQL (inner, left, rught, outer join)\n",
    "\n",
    "* Pandas.concat is analog to \"union all\" in SQL."
   ]
  },
  {
   "cell_type": "markdown",
   "metadata": {
    "deletable": true,
    "editable": true,
    "slideshow": {
     "slide_type": "slide"
    }
   },
   "source": [
    "# Merge the demo data together"
   ]
  },
  {
   "cell_type": "code",
   "execution_count": 36,
   "metadata": {
    "collapsed": false,
    "deletable": true,
    "editable": true
   },
   "outputs": [
    {
     "data": {
      "text/html": [
       "<div>\n",
       "<table border=\"1\" class=\"dataframe\">\n",
       "  <thead>\n",
       "    <tr style=\"text-align: right;\">\n",
       "      <th></th>\n",
       "      <th>UserID</th>\n",
       "      <th>MovieID</th>\n",
       "      <th>Rating</th>\n",
       "      <th>Timestamp</th>\n",
       "      <th>rating_dt</th>\n",
       "      <th>Gender</th>\n",
       "      <th>Age</th>\n",
       "      <th>Occupation</th>\n",
       "      <th>Zip-code</th>\n",
       "      <th>Title</th>\n",
       "      <th>Genres</th>\n",
       "    </tr>\n",
       "  </thead>\n",
       "  <tbody>\n",
       "    <tr>\n",
       "      <th>0</th>\n",
       "      <td>1</td>\n",
       "      <td>1193</td>\n",
       "      <td>5</td>\n",
       "      <td>978300760</td>\n",
       "      <td>2000-12-31 22:12:40</td>\n",
       "      <td>F</td>\n",
       "      <td>1</td>\n",
       "      <td>10</td>\n",
       "      <td>48067</td>\n",
       "      <td>One Flew Over the Cuckoo's Nest (1975)</td>\n",
       "      <td>Drama</td>\n",
       "    </tr>\n",
       "    <tr>\n",
       "      <th>1</th>\n",
       "      <td>1</td>\n",
       "      <td>661</td>\n",
       "      <td>3</td>\n",
       "      <td>978302109</td>\n",
       "      <td>2000-12-31 22:35:09</td>\n",
       "      <td>F</td>\n",
       "      <td>1</td>\n",
       "      <td>10</td>\n",
       "      <td>48067</td>\n",
       "      <td>James and the Giant Peach (1996)</td>\n",
       "      <td>Animation</td>\n",
       "    </tr>\n",
       "    <tr>\n",
       "      <th>2</th>\n",
       "      <td>1</td>\n",
       "      <td>661</td>\n",
       "      <td>3</td>\n",
       "      <td>978302109</td>\n",
       "      <td>2000-12-31 22:35:09</td>\n",
       "      <td>F</td>\n",
       "      <td>1</td>\n",
       "      <td>10</td>\n",
       "      <td>48067</td>\n",
       "      <td>James and the Giant Peach (1996)</td>\n",
       "      <td>Children's</td>\n",
       "    </tr>\n",
       "    <tr>\n",
       "      <th>3</th>\n",
       "      <td>1</td>\n",
       "      <td>661</td>\n",
       "      <td>3</td>\n",
       "      <td>978302109</td>\n",
       "      <td>2000-12-31 22:35:09</td>\n",
       "      <td>F</td>\n",
       "      <td>1</td>\n",
       "      <td>10</td>\n",
       "      <td>48067</td>\n",
       "      <td>James and the Giant Peach (1996)</td>\n",
       "      <td>Musical</td>\n",
       "    </tr>\n",
       "    <tr>\n",
       "      <th>4</th>\n",
       "      <td>1</td>\n",
       "      <td>914</td>\n",
       "      <td>3</td>\n",
       "      <td>978301968</td>\n",
       "      <td>2000-12-31 22:32:48</td>\n",
       "      <td>F</td>\n",
       "      <td>1</td>\n",
       "      <td>10</td>\n",
       "      <td>48067</td>\n",
       "      <td>My Fair Lady (1964)</td>\n",
       "      <td>Musical</td>\n",
       "    </tr>\n",
       "    <tr>\n",
       "      <th>5</th>\n",
       "      <td>1</td>\n",
       "      <td>914</td>\n",
       "      <td>3</td>\n",
       "      <td>978301968</td>\n",
       "      <td>2000-12-31 22:32:48</td>\n",
       "      <td>F</td>\n",
       "      <td>1</td>\n",
       "      <td>10</td>\n",
       "      <td>48067</td>\n",
       "      <td>My Fair Lady (1964)</td>\n",
       "      <td>Romance</td>\n",
       "    </tr>\n",
       "    <tr>\n",
       "      <th>6</th>\n",
       "      <td>1</td>\n",
       "      <td>3408</td>\n",
       "      <td>4</td>\n",
       "      <td>978300275</td>\n",
       "      <td>2000-12-31 22:04:35</td>\n",
       "      <td>F</td>\n",
       "      <td>1</td>\n",
       "      <td>10</td>\n",
       "      <td>48067</td>\n",
       "      <td>Erin Brockovich (2000)</td>\n",
       "      <td>Drama</td>\n",
       "    </tr>\n",
       "    <tr>\n",
       "      <th>7</th>\n",
       "      <td>1</td>\n",
       "      <td>2355</td>\n",
       "      <td>5</td>\n",
       "      <td>978824291</td>\n",
       "      <td>2001-01-06 23:38:11</td>\n",
       "      <td>F</td>\n",
       "      <td>1</td>\n",
       "      <td>10</td>\n",
       "      <td>48067</td>\n",
       "      <td>Bug's Life, A (1998)</td>\n",
       "      <td>Animation</td>\n",
       "    </tr>\n",
       "    <tr>\n",
       "      <th>8</th>\n",
       "      <td>1</td>\n",
       "      <td>2355</td>\n",
       "      <td>5</td>\n",
       "      <td>978824291</td>\n",
       "      <td>2001-01-06 23:38:11</td>\n",
       "      <td>F</td>\n",
       "      <td>1</td>\n",
       "      <td>10</td>\n",
       "      <td>48067</td>\n",
       "      <td>Bug's Life, A (1998)</td>\n",
       "      <td>Children's</td>\n",
       "    </tr>\n",
       "    <tr>\n",
       "      <th>9</th>\n",
       "      <td>1</td>\n",
       "      <td>2355</td>\n",
       "      <td>5</td>\n",
       "      <td>978824291</td>\n",
       "      <td>2001-01-06 23:38:11</td>\n",
       "      <td>F</td>\n",
       "      <td>1</td>\n",
       "      <td>10</td>\n",
       "      <td>48067</td>\n",
       "      <td>Bug's Life, A (1998)</td>\n",
       "      <td>Comedy</td>\n",
       "    </tr>\n",
       "    <tr>\n",
       "      <th>10</th>\n",
       "      <td>1</td>\n",
       "      <td>1197</td>\n",
       "      <td>3</td>\n",
       "      <td>978302268</td>\n",
       "      <td>2000-12-31 22:37:48</td>\n",
       "      <td>F</td>\n",
       "      <td>1</td>\n",
       "      <td>10</td>\n",
       "      <td>48067</td>\n",
       "      <td>Princess Bride, The (1987)</td>\n",
       "      <td>Action</td>\n",
       "    </tr>\n",
       "  </tbody>\n",
       "</table>\n",
       "</div>"
      ],
      "text/plain": [
       "    UserID  MovieID  Rating  Timestamp           rating_dt Gender  Age  \\\n",
       "0        1     1193       5  978300760 2000-12-31 22:12:40      F    1   \n",
       "1        1      661       3  978302109 2000-12-31 22:35:09      F    1   \n",
       "2        1      661       3  978302109 2000-12-31 22:35:09      F    1   \n",
       "3        1      661       3  978302109 2000-12-31 22:35:09      F    1   \n",
       "4        1      914       3  978301968 2000-12-31 22:32:48      F    1   \n",
       "5        1      914       3  978301968 2000-12-31 22:32:48      F    1   \n",
       "6        1     3408       4  978300275 2000-12-31 22:04:35      F    1   \n",
       "7        1     2355       5  978824291 2001-01-06 23:38:11      F    1   \n",
       "8        1     2355       5  978824291 2001-01-06 23:38:11      F    1   \n",
       "9        1     2355       5  978824291 2001-01-06 23:38:11      F    1   \n",
       "10       1     1197       3  978302268 2000-12-31 22:37:48      F    1   \n",
       "\n",
       "    Occupation Zip-code                                   Title      Genres  \n",
       "0           10    48067  One Flew Over the Cuckoo's Nest (1975)       Drama  \n",
       "1           10    48067        James and the Giant Peach (1996)   Animation  \n",
       "2           10    48067        James and the Giant Peach (1996)  Children's  \n",
       "3           10    48067        James and the Giant Peach (1996)     Musical  \n",
       "4           10    48067                     My Fair Lady (1964)     Musical  \n",
       "5           10    48067                     My Fair Lady (1964)     Romance  \n",
       "6           10    48067                  Erin Brockovich (2000)       Drama  \n",
       "7           10    48067                    Bug's Life, A (1998)   Animation  \n",
       "8           10    48067                    Bug's Life, A (1998)  Children's  \n",
       "9           10    48067                    Bug's Life, A (1998)      Comedy  \n",
       "10          10    48067              Princess Bride, The (1987)      Action  "
      ]
     },
     "execution_count": 36,
     "metadata": {},
     "output_type": "execute_result"
    }
   ],
   "source": [
    "merged_df = ratings_df.merge(users_df\n",
    "                             , on=['UserID']\n",
    "                             , how='left') \\\n",
    "                      .merge(movies_df\n",
    "                             , on=['MovieID']\n",
    "                             , how='left')\n",
    "merged_df.ix[0:10]"
   ]
  },
  {
   "cell_type": "markdown",
   "metadata": {
    "deletable": true,
    "editable": true,
    "slideshow": {
     "slide_type": "slide"
    }
   },
   "source": [
    "# Split - Apply - Combine Strategy\n",
    "\n",
    "The basic cooncept of split-apply-combine strategy \n",
    "\n",
    "* Split\n",
    "    - Split original data into groups\n",
    "\n",
    "* Apply\n",
    "    - Apply functions to data within each group independently\n",
    "\n",
    "* Combine\n",
    "    - Merge results into a data structure"
   ]
  },
  {
   "cell_type": "markdown",
   "metadata": {
    "deletable": true,
    "editable": true,
    "slideshow": {
     "slide_type": "slide"
    }
   },
   "source": [
    "# Data Aggregation\n",
    "\n",
    "```\n",
    "select \n",
    "...\n",
    "AVG(Ratings.Rating) as \"avg_ratings\"\n",
    "...\n",
    "from Ratings\n",
    "group by Ratings.MovieId\n",
    "```\n",
    "\n",
    "```\n",
    "df.assign(avg_ratings = ratings_df.groupby(\"MovieID\")['Rating'].transform(np.mean))\n",
    "```\n",
    "\n",
    "* Data aggregation in Pandas uses GroupBy.apply, GroupBy.transform and GroupBy.aggregate."
   ]
  },
  {
   "cell_type": "markdown",
   "metadata": {
    "deletable": true,
    "editable": true,
    "slideshow": {
     "slide_type": "slide"
    }
   },
   "source": [
    "# GroupBy objects"
   ]
  },
  {
   "cell_type": "code",
   "execution_count": 8,
   "metadata": {
    "collapsed": false,
    "deletable": true,
    "editable": true,
    "slideshow": {
     "slide_type": "slide"
    }
   },
   "outputs": [
    {
     "data": {
      "text/plain": [
       "<pandas.core.groupby.DataFrameGroupBy object at 0x7fde459c29b0>"
      ]
     },
     "execution_count": 8,
     "metadata": {},
     "output_type": "execute_result"
    }
   ],
   "source": [
    "merged_df.groupby([\"Occupation\", \"Genres\"])"
   ]
  },
  {
   "cell_type": "markdown",
   "metadata": {
    "deletable": true,
    "editable": true,
    "slideshow": {
     "slide_type": "slide"
    }
   },
   "source": [
    "# See what's in the GroupBy objects"
   ]
  },
  {
   "cell_type": "code",
   "execution_count": 9,
   "metadata": {
    "collapsed": false,
    "deletable": true,
    "editable": true,
    "scrolled": false,
    "slideshow": {
     "slide_type": "-"
    }
   },
   "outputs": [
    {
     "name": "stdout",
     "output_type": "stream",
     "text": [
      "group keys: ('K-12 student', 'Action')\n",
      "     UserID  MovieID  Rating  Timestamp           rating_dt Gender  Age  \\\n",
      "10        1     1197       3  978302268 2000-12-31 22:37:48      F    1   \n",
      "14        1     1287       5  978302039 2000-12-31 22:33:59      F    1   \n",
      "90        1     2692       4  978301570 2000-12-31 22:26:10      F    1   \n",
      "93        1      260       4  978300760 2000-12-31 22:12:40      F    1   \n",
      "104       1     2028       5  978301619 2000-12-31 22:26:59      F    1   \n",
      "\n",
      "    Zip-code    Occupation                                      Title  Genres  \n",
      "10     48067  K-12 student                 Princess Bride, The (1987)  Action  \n",
      "14     48067  K-12 student                             Ben-Hur (1959)  Action  \n",
      "90     48067  K-12 student           Run Lola Run (Lola rennt) (1998)  Action  \n",
      "93     48067  K-12 student  Star Wars: Episode IV - A New Hope (1977)  Action  \n",
      "104    48067  K-12 student                 Saving Private Ryan (1998)  Action  \n"
     ]
    }
   ],
   "source": [
    "grouped_ratings = merged_df.groupby([\"Occupation\", \"Genres\"])\n",
    "for key, group_df in grouped_ratings:\n",
    "    print(\"group keys: \" + str(key))\n",
    "    print(group_df.iloc[:5])\n",
    "    break"
   ]
  },
  {
   "cell_type": "markdown",
   "metadata": {
    "deletable": true,
    "editable": true,
    "slideshow": {
     "slide_type": "slide"
    }
   },
   "source": [
    "# Let's do Split-Apply-Combine manually"
   ]
  },
  {
   "cell_type": "code",
   "execution_count": 10,
   "metadata": {
    "collapsed": false,
    "deletable": true,
    "editable": true,
    "scrolled": false
   },
   "outputs": [
    {
     "data": {
      "text/html": [
       "<div>\n",
       "<table border=\"1\" class=\"dataframe\">\n",
       "  <thead>\n",
       "    <tr style=\"text-align: right;\">\n",
       "      <th></th>\n",
       "      <th>Genres</th>\n",
       "      <th>Occupation</th>\n",
       "      <th>Rating_mean</th>\n",
       "    </tr>\n",
       "  </thead>\n",
       "  <tbody>\n",
       "    <tr>\n",
       "      <th>0</th>\n",
       "      <td>Action</td>\n",
       "      <td>K-12 student</td>\n",
       "      <td>3.497116</td>\n",
       "    </tr>\n",
       "    <tr>\n",
       "      <th>1</th>\n",
       "      <td>Adventure</td>\n",
       "      <td>K-12 student</td>\n",
       "      <td>3.425658</td>\n",
       "    </tr>\n",
       "    <tr>\n",
       "      <th>2</th>\n",
       "      <td>Animation</td>\n",
       "      <td>K-12 student</td>\n",
       "      <td>3.463956</td>\n",
       "    </tr>\n",
       "    <tr>\n",
       "      <th>3</th>\n",
       "      <td>Children's</td>\n",
       "      <td>K-12 student</td>\n",
       "      <td>3.220679</td>\n",
       "    </tr>\n",
       "    <tr>\n",
       "      <th>4</th>\n",
       "      <td>Comedy</td>\n",
       "      <td>K-12 student</td>\n",
       "      <td>3.497200</td>\n",
       "    </tr>\n",
       "    <tr>\n",
       "      <th>5</th>\n",
       "      <td>Crime</td>\n",
       "      <td>K-12 student</td>\n",
       "      <td>3.687085</td>\n",
       "    </tr>\n",
       "    <tr>\n",
       "      <th>6</th>\n",
       "      <td>Documentary</td>\n",
       "      <td>K-12 student</td>\n",
       "      <td>3.581633</td>\n",
       "    </tr>\n",
       "    <tr>\n",
       "      <th>7</th>\n",
       "      <td>Drama</td>\n",
       "      <td>K-12 student</td>\n",
       "      <td>3.782167</td>\n",
       "    </tr>\n",
       "    <tr>\n",
       "      <th>8</th>\n",
       "      <td>Fantasy</td>\n",
       "      <td>K-12 student</td>\n",
       "      <td>3.298039</td>\n",
       "    </tr>\n",
       "    <tr>\n",
       "      <th>9</th>\n",
       "      <td>Film-Noir</td>\n",
       "      <td>K-12 student</td>\n",
       "      <td>4.212766</td>\n",
       "    </tr>\n",
       "    <tr>\n",
       "      <th>10</th>\n",
       "      <td>Horror</td>\n",
       "      <td>K-12 student</td>\n",
       "      <td>3.237795</td>\n",
       "    </tr>\n",
       "  </tbody>\n",
       "</table>\n",
       "</div>"
      ],
      "text/plain": [
       "         Genres    Occupation  Rating_mean\n",
       "0        Action  K-12 student     3.497116\n",
       "1     Adventure  K-12 student     3.425658\n",
       "2     Animation  K-12 student     3.463956\n",
       "3    Children's  K-12 student     3.220679\n",
       "4        Comedy  K-12 student     3.497200\n",
       "5         Crime  K-12 student     3.687085\n",
       "6   Documentary  K-12 student     3.581633\n",
       "7         Drama  K-12 student     3.782167\n",
       "8       Fantasy  K-12 student     3.298039\n",
       "9     Film-Noir  K-12 student     4.212766\n",
       "10       Horror  K-12 student     3.237795"
      ]
     },
     "execution_count": 10,
     "metadata": {},
     "output_type": "execute_result"
    }
   ],
   "source": [
    "results = {'Occupation': [], 'Genres': [], 'Rating_mean':[]}\n",
    "grouped_ratings = merged_df.groupby([\"Occupation\", \"Genres\"])  # split\n",
    "for key, group_df in grouped_ratings:\n",
    "    results['Occupation'].append(key[0])\n",
    "    results['Genres'].append(key[1])\n",
    "    results['Rating_mean'].append(group_df.Rating.mean())  # apply\n",
    "pd.DataFrame(results).ix[0:10]  # combine"
   ]
  },
  {
   "cell_type": "code",
   "execution_count": 30,
   "metadata": {
    "collapsed": false,
    "deletable": true,
    "editable": true,
    "slideshow": {
     "slide_type": "slide"
    }
   },
   "outputs": [
    {
     "name": "stdout",
     "output_type": "stream",
     "text": [
      "           Occupation  Genres  Rating_mean\n",
      "804564   K-12 student  Action     3.497116\n",
      "363454   K-12 student  Action     3.497116\n",
      "1806560  K-12 student  Action     3.497116\n",
      "772492   K-12 student  Action     3.497116\n",
      "1806556  K-12 student  Action     3.497116\n",
      "659674   K-12 student  Action     3.497116\n",
      "706974   K-12 student  Action     3.497116\n",
      "827117   K-12 student  Action     3.497116\n",
      "363460   K-12 student  Action     3.497116\n"
     ]
    }
   ],
   "source": [
    "import numpy as np\n",
    "tmp = merged_df[merged_df.Occupation == 'K-12 student'].copy()\n",
    "tmp.loc[:,'Rating_mean'] = tmp.groupby([\"Occupation\", \"Genres\"])['Rating'].transform(np.mean)\n",
    "print(tmp[['Occupation', 'Genres', 'Rating_mean']].sort_values(by='Genres').iloc[1:10])"
   ]
  },
  {
   "cell_type": "markdown",
   "metadata": {
    "deletable": true,
    "editable": true
   },
   "source": [
    "** GroupBy.transform() returns a Pandas Series with the same index as those in original DataFrame **\n",
    "\n",
    "** Therefore, it's easy to combine data back to the original data. **"
   ]
  },
  {
   "cell_type": "code",
   "execution_count": 12,
   "metadata": {
    "collapsed": false,
    "deletable": true,
    "editable": true,
    "slideshow": {
     "slide_type": "subslide"
    }
   },
   "outputs": [
    {
     "name": "stdout",
     "output_type": "stream",
     "text": [
      "           Occupation       Genres  Rating_mean\n",
      "418625   K-12 student       Action     3.497116\n",
      "831363   K-12 student    Adventure     3.425658\n",
      "136334   K-12 student    Animation     3.463956\n",
      "453973   K-12 student   Children's     3.220679\n",
      "789324   K-12 student       Comedy     3.497200\n",
      "692103   K-12 student        Crime     3.687085\n",
      "1931149  K-12 student  Documentary     3.581633\n",
      "790387   K-12 student        Drama     3.782167\n",
      "521989   K-12 student      Fantasy     3.298039\n",
      "364059   K-12 student    Film-Noir     4.212766\n"
     ]
    }
   ],
   "source": [
    "print(tmp[['Occupation', 'Genres', 'Rating_mean']].sort_values(by='Genres').drop_duplicates().iloc[0:10])"
   ]
  },
  {
   "cell_type": "code",
   "execution_count": 13,
   "metadata": {
    "collapsed": false,
    "deletable": true,
    "editable": true,
    "slideshow": {
     "slide_type": "slide"
    }
   },
   "outputs": [
    {
     "data": {
      "text/plain": [
       "Occupation         Genres     \n",
       "K-12 student       Action         3.497116\n",
       "                   Adventure      3.425658\n",
       "                   Animation      3.463956\n",
       "                   Children's     3.220679\n",
       "                   Comedy         3.497200\n",
       "                   Crime          3.687085\n",
       "                   Documentary    3.581633\n",
       "                   Drama          3.782167\n",
       "                   Fantasy        3.298039\n",
       "                   Film-Noir      4.212766\n",
       "                   Horror         3.237795\n",
       "                   Musical        3.556738\n",
       "                   Mystery        3.636612\n",
       "                   Romance        3.624415\n",
       "                   Sci-Fi         3.443795\n",
       "                   Thriller       3.554131\n",
       "                   War            3.880144\n",
       "                   Western        3.513333\n",
       "academic/educator  Action         3.392063\n",
       "                   Adventure      3.424278\n",
       "                   Animation      3.693399\n",
       "                   Children's     3.459286\n",
       "                   Comedy         3.519583\n",
       "                   Crime          3.659342\n",
       "                   Documentary    3.984887\n",
       "                   Drama          3.754293\n",
       "                   Fantasy        3.456388\n",
       "                   Film-Noir      4.082613\n",
       "                   Horror         3.104548\n",
       "                   Musical        3.701586\n",
       "                                    ...   \n",
       "unemployed         Documentary    3.727273\n",
       "                   Drama          3.619308\n",
       "                   Fantasy        3.230900\n",
       "                   Film-Noir      4.044444\n",
       "                   Horror         3.136126\n",
       "                   Musical        3.360771\n",
       "                   Mystery        3.579734\n",
       "                   Romance        3.451581\n",
       "                   Sci-Fi         3.330855\n",
       "                   Thriller       3.403038\n",
       "                   War            3.693103\n",
       "                   Western        3.501779\n",
       "writer             Action         3.339971\n",
       "                   Adventure      3.346110\n",
       "                   Animation      3.699773\n",
       "                   Children's     3.351440\n",
       "                   Comedy         3.423004\n",
       "                   Crime          3.651598\n",
       "                   Documentary    3.967914\n",
       "                   Drama          3.653348\n",
       "                   Fantasy        3.338421\n",
       "                   Film-Noir      4.104603\n",
       "                   Horror         3.201472\n",
       "                   Musical        3.669849\n",
       "                   Mystery        3.605100\n",
       "                   Romance        3.469661\n",
       "                   Sci-Fi         3.390184\n",
       "                   Thriller       3.461546\n",
       "                   War            3.798393\n",
       "                   Western        3.618467\n",
       "Name: Rating, dtype: float64"
      ]
     },
     "execution_count": 13,
     "metadata": {},
     "output_type": "execute_result"
    }
   ],
   "source": [
    "merged_df.groupby(['Occupation', 'Genres'])['Rating'].mean()"
   ]
  },
  {
   "cell_type": "code",
   "execution_count": 14,
   "metadata": {
    "collapsed": false,
    "deletable": true,
    "editable": true,
    "slideshow": {
     "slide_type": "slide"
    }
   },
   "outputs": [
    {
     "data": {
      "text/plain": [
       "Genres\n",
       "Action         3.497116\n",
       "Adventure      3.425658\n",
       "Animation      3.463956\n",
       "Children's     3.220679\n",
       "Comedy         3.497200\n",
       "Crime          3.687085\n",
       "Documentary    3.581633\n",
       "Drama          3.782167\n",
       "Fantasy        3.298039\n",
       "Film-Noir      4.212766\n",
       "Horror         3.237795\n",
       "Musical        3.556738\n",
       "Mystery        3.636612\n",
       "Romance        3.624415\n",
       "Sci-Fi         3.443795\n",
       "Thriller       3.554131\n",
       "War            3.880144\n",
       "Western        3.513333\n",
       "Name: Rating, dtype: float64"
      ]
     },
     "execution_count": 14,
     "metadata": {},
     "output_type": "execute_result"
    }
   ],
   "source": [
    "merged_df.groupby(['Occupation', 'Genres'])['Rating'].agg(np.mean).ix['K-12 student']"
   ]
  },
  {
   "cell_type": "code",
   "execution_count": 15,
   "metadata": {
    "collapsed": false,
    "deletable": true,
    "editable": true,
    "scrolled": false,
    "slideshow": {
     "slide_type": "slide"
    }
   },
   "outputs": [
    {
     "data": {
      "text/html": [
       "<div>\n",
       "<table border=\"1\" class=\"dataframe\">\n",
       "  <thead>\n",
       "    <tr style=\"text-align: right;\">\n",
       "      <th></th>\n",
       "      <th>Occupation</th>\n",
       "      <th>Genres</th>\n",
       "      <th>Rating</th>\n",
       "    </tr>\n",
       "  </thead>\n",
       "  <tbody>\n",
       "    <tr>\n",
       "      <th>0</th>\n",
       "      <td>K-12 student</td>\n",
       "      <td>Action</td>\n",
       "      <td>3.497116</td>\n",
       "    </tr>\n",
       "    <tr>\n",
       "      <th>1</th>\n",
       "      <td>K-12 student</td>\n",
       "      <td>Adventure</td>\n",
       "      <td>3.425658</td>\n",
       "    </tr>\n",
       "    <tr>\n",
       "      <th>2</th>\n",
       "      <td>K-12 student</td>\n",
       "      <td>Animation</td>\n",
       "      <td>3.463956</td>\n",
       "    </tr>\n",
       "    <tr>\n",
       "      <th>3</th>\n",
       "      <td>K-12 student</td>\n",
       "      <td>Children's</td>\n",
       "      <td>3.220679</td>\n",
       "    </tr>\n",
       "    <tr>\n",
       "      <th>4</th>\n",
       "      <td>K-12 student</td>\n",
       "      <td>Comedy</td>\n",
       "      <td>3.497200</td>\n",
       "    </tr>\n",
       "    <tr>\n",
       "      <th>5</th>\n",
       "      <td>K-12 student</td>\n",
       "      <td>Crime</td>\n",
       "      <td>3.687085</td>\n",
       "    </tr>\n",
       "  </tbody>\n",
       "</table>\n",
       "</div>"
      ],
      "text/plain": [
       "     Occupation      Genres    Rating\n",
       "0  K-12 student      Action  3.497116\n",
       "1  K-12 student   Adventure  3.425658\n",
       "2  K-12 student   Animation  3.463956\n",
       "3  K-12 student  Children's  3.220679\n",
       "4  K-12 student      Comedy  3.497200\n",
       "5  K-12 student       Crime  3.687085"
      ]
     },
     "execution_count": 15,
     "metadata": {},
     "output_type": "execute_result"
    }
   ],
   "source": [
    "merged_df.groupby(['Occupation', 'Genres'])['Rating'].agg(np.mean).reset_index().ix[0:5]"
   ]
  },
  {
   "cell_type": "code",
   "execution_count": 27,
   "metadata": {
    "collapsed": false,
    "deletable": true,
    "editable": true,
    "scrolled": false,
    "slideshow": {
     "slide_type": "slide"
    }
   },
   "outputs": [
    {
     "data": {
      "text/html": [
       "<div>\n",
       "<table border=\"1\" class=\"dataframe\">\n",
       "  <thead>\n",
       "    <tr style=\"text-align: right;\">\n",
       "      <th></th>\n",
       "      <th>Occupation</th>\n",
       "      <th>Genres</th>\n",
       "      <th>Rating</th>\n",
       "    </tr>\n",
       "  </thead>\n",
       "  <tbody>\n",
       "    <tr>\n",
       "      <th>0</th>\n",
       "      <td>K-12 student</td>\n",
       "      <td>Action</td>\n",
       "      <td>3.497116</td>\n",
       "    </tr>\n",
       "    <tr>\n",
       "      <th>1</th>\n",
       "      <td>K-12 student</td>\n",
       "      <td>Adventure</td>\n",
       "      <td>3.425658</td>\n",
       "    </tr>\n",
       "    <tr>\n",
       "      <th>2</th>\n",
       "      <td>K-12 student</td>\n",
       "      <td>Animation</td>\n",
       "      <td>3.463956</td>\n",
       "    </tr>\n",
       "    <tr>\n",
       "      <th>3</th>\n",
       "      <td>K-12 student</td>\n",
       "      <td>Children's</td>\n",
       "      <td>3.220679</td>\n",
       "    </tr>\n",
       "    <tr>\n",
       "      <th>4</th>\n",
       "      <td>K-12 student</td>\n",
       "      <td>Comedy</td>\n",
       "      <td>3.497200</td>\n",
       "    </tr>\n",
       "    <tr>\n",
       "      <th>5</th>\n",
       "      <td>K-12 student</td>\n",
       "      <td>Crime</td>\n",
       "      <td>3.687085</td>\n",
       "    </tr>\n",
       "  </tbody>\n",
       "</table>\n",
       "</div>"
      ],
      "text/plain": [
       "     Occupation      Genres    Rating\n",
       "0  K-12 student      Action  3.497116\n",
       "1  K-12 student   Adventure  3.425658\n",
       "2  K-12 student   Animation  3.463956\n",
       "3  K-12 student  Children's  3.220679\n",
       "4  K-12 student      Comedy  3.497200\n",
       "5  K-12 student       Crime  3.687085"
      ]
     },
     "execution_count": 27,
     "metadata": {},
     "output_type": "execute_result"
    }
   ],
   "source": [
    "merged_df.groupby(['Occupation', 'Genres']).agg({'Rating': np.mean}).reset_index().ix[0:5]"
   ]
  },
  {
   "cell_type": "code",
   "execution_count": 44,
   "metadata": {
    "collapsed": false,
    "deletable": true,
    "editable": true
   },
   "outputs": [
    {
     "ename": "AttributeError",
     "evalue": "'SeriesGroupBy' object has no attribute 'quantile(0.25)'",
     "output_type": "error",
     "traceback": [
      "\u001b[0;31m---------------------------------------------------------------------------\u001b[0m",
      "\u001b[0;31mAttributeError\u001b[0m                            Traceback (most recent call last)",
      "\u001b[0;32m<ipython-input-44-402709640997>\u001b[0m in \u001b[0;36m<module>\u001b[0;34m()\u001b[0m\n\u001b[0;32m----> 1\u001b[0;31m \u001b[0mmerged_df\u001b[0m\u001b[0;34m.\u001b[0m\u001b[0mgroupby\u001b[0m\u001b[0;34m(\u001b[0m\u001b[0;34m[\u001b[0m\u001b[0;34m'Occupation'\u001b[0m\u001b[0;34m,\u001b[0m \u001b[0;34m'Genres'\u001b[0m\u001b[0;34m]\u001b[0m\u001b[0;34m)\u001b[0m\u001b[0;34m.\u001b[0m\u001b[0magg\u001b[0m\u001b[0;34m(\u001b[0m\u001b[0;34m{\u001b[0m\u001b[0;34m'Rating'\u001b[0m\u001b[0;34m:\u001b[0m \u001b[0;34m'quantile(0.25)'\u001b[0m\u001b[0;34m}\u001b[0m\u001b[0;34m)\u001b[0m\u001b[0;34m.\u001b[0m\u001b[0mreset_index\u001b[0m\u001b[0;34m(\u001b[0m\u001b[0;34m)\u001b[0m\u001b[0;34m\u001b[0m\u001b[0m\n\u001b[0m",
      "\u001b[0;32m/usr/local/lib/python3.5/dist-packages/pandas/core/groupby.py\u001b[0m in \u001b[0;36maggregate\u001b[0;34m(self, arg, *args, **kwargs)\u001b[0m\n\u001b[1;32m   3702\u001b[0m     \u001b[0;34m@\u001b[0m\u001b[0mAppender\u001b[0m\u001b[0;34m(\u001b[0m\u001b[0mSelectionMixin\u001b[0m\u001b[0;34m.\u001b[0m\u001b[0m_agg_doc\u001b[0m\u001b[0;34m)\u001b[0m\u001b[0;34m\u001b[0m\u001b[0m\n\u001b[1;32m   3703\u001b[0m     \u001b[0;32mdef\u001b[0m \u001b[0maggregate\u001b[0m\u001b[0;34m(\u001b[0m\u001b[0mself\u001b[0m\u001b[0;34m,\u001b[0m \u001b[0marg\u001b[0m\u001b[0;34m,\u001b[0m \u001b[0;34m*\u001b[0m\u001b[0margs\u001b[0m\u001b[0;34m,\u001b[0m \u001b[0;34m**\u001b[0m\u001b[0mkwargs\u001b[0m\u001b[0;34m)\u001b[0m\u001b[0;34m:\u001b[0m\u001b[0;34m\u001b[0m\u001b[0m\n\u001b[0;32m-> 3704\u001b[0;31m         \u001b[0;32mreturn\u001b[0m \u001b[0msuper\u001b[0m\u001b[0;34m(\u001b[0m\u001b[0mDataFrameGroupBy\u001b[0m\u001b[0;34m,\u001b[0m \u001b[0mself\u001b[0m\u001b[0;34m)\u001b[0m\u001b[0;34m.\u001b[0m\u001b[0maggregate\u001b[0m\u001b[0;34m(\u001b[0m\u001b[0marg\u001b[0m\u001b[0;34m,\u001b[0m \u001b[0;34m*\u001b[0m\u001b[0margs\u001b[0m\u001b[0;34m,\u001b[0m \u001b[0;34m**\u001b[0m\u001b[0mkwargs\u001b[0m\u001b[0;34m)\u001b[0m\u001b[0;34m\u001b[0m\u001b[0m\n\u001b[0m\u001b[1;32m   3705\u001b[0m \u001b[0;34m\u001b[0m\u001b[0m\n\u001b[1;32m   3706\u001b[0m     \u001b[0magg\u001b[0m \u001b[0;34m=\u001b[0m \u001b[0maggregate\u001b[0m\u001b[0;34m\u001b[0m\u001b[0m\n",
      "\u001b[0;32m/usr/local/lib/python3.5/dist-packages/pandas/core/groupby.py\u001b[0m in \u001b[0;36maggregate\u001b[0;34m(self, arg, *args, **kwargs)\u001b[0m\n\u001b[1;32m   3191\u001b[0m \u001b[0;34m\u001b[0m\u001b[0m\n\u001b[1;32m   3192\u001b[0m         \u001b[0m_level\u001b[0m \u001b[0;34m=\u001b[0m \u001b[0mkwargs\u001b[0m\u001b[0;34m.\u001b[0m\u001b[0mpop\u001b[0m\u001b[0;34m(\u001b[0m\u001b[0;34m'_level'\u001b[0m\u001b[0;34m,\u001b[0m \u001b[0;32mNone\u001b[0m\u001b[0;34m)\u001b[0m\u001b[0;34m\u001b[0m\u001b[0m\n\u001b[0;32m-> 3193\u001b[0;31m         \u001b[0mresult\u001b[0m\u001b[0;34m,\u001b[0m \u001b[0mhow\u001b[0m \u001b[0;34m=\u001b[0m \u001b[0mself\u001b[0m\u001b[0;34m.\u001b[0m\u001b[0m_aggregate\u001b[0m\u001b[0;34m(\u001b[0m\u001b[0marg\u001b[0m\u001b[0;34m,\u001b[0m \u001b[0m_level\u001b[0m\u001b[0;34m=\u001b[0m\u001b[0m_level\u001b[0m\u001b[0;34m,\u001b[0m \u001b[0;34m*\u001b[0m\u001b[0margs\u001b[0m\u001b[0;34m,\u001b[0m \u001b[0;34m**\u001b[0m\u001b[0mkwargs\u001b[0m\u001b[0;34m)\u001b[0m\u001b[0;34m\u001b[0m\u001b[0m\n\u001b[0m\u001b[1;32m   3194\u001b[0m         \u001b[0;32mif\u001b[0m \u001b[0mhow\u001b[0m \u001b[0;32mis\u001b[0m \u001b[0;32mNone\u001b[0m\u001b[0;34m:\u001b[0m\u001b[0;34m\u001b[0m\u001b[0m\n\u001b[1;32m   3195\u001b[0m             \u001b[0;32mreturn\u001b[0m \u001b[0mresult\u001b[0m\u001b[0;34m\u001b[0m\u001b[0m\n",
      "\u001b[0;32m/usr/local/lib/python3.5/dist-packages/pandas/core/base.py\u001b[0m in \u001b[0;36m_aggregate\u001b[0;34m(self, arg, *args, **kwargs)\u001b[0m\n\u001b[1;32m    547\u001b[0m \u001b[0;34m\u001b[0m\u001b[0m\n\u001b[1;32m    548\u001b[0m                 \u001b[0;32mtry\u001b[0m\u001b[0;34m:\u001b[0m\u001b[0;34m\u001b[0m\u001b[0m\n\u001b[0;32m--> 549\u001b[0;31m                     \u001b[0mresult\u001b[0m \u001b[0;34m=\u001b[0m \u001b[0m_agg\u001b[0m\u001b[0;34m(\u001b[0m\u001b[0marg\u001b[0m\u001b[0;34m,\u001b[0m \u001b[0m_agg_1dim\u001b[0m\u001b[0;34m)\u001b[0m\u001b[0;34m\u001b[0m\u001b[0m\n\u001b[0m\u001b[1;32m    550\u001b[0m                 \u001b[0;32mexcept\u001b[0m \u001b[0mSpecificationError\u001b[0m\u001b[0;34m:\u001b[0m\u001b[0;34m\u001b[0m\u001b[0m\n\u001b[1;32m    551\u001b[0m \u001b[0;34m\u001b[0m\u001b[0m\n",
      "\u001b[0;32m/usr/local/lib/python3.5/dist-packages/pandas/core/base.py\u001b[0m in \u001b[0;36m_agg\u001b[0;34m(arg, func)\u001b[0m\n\u001b[1;32m    498\u001b[0m                 \u001b[0mresult\u001b[0m \u001b[0;34m=\u001b[0m \u001b[0mcompat\u001b[0m\u001b[0;34m.\u001b[0m\u001b[0mOrderedDict\u001b[0m\u001b[0;34m(\u001b[0m\u001b[0;34m)\u001b[0m\u001b[0;34m\u001b[0m\u001b[0m\n\u001b[1;32m    499\u001b[0m                 \u001b[0;32mfor\u001b[0m \u001b[0mfname\u001b[0m\u001b[0;34m,\u001b[0m \u001b[0magg_how\u001b[0m \u001b[0;32min\u001b[0m \u001b[0mcompat\u001b[0m\u001b[0;34m.\u001b[0m\u001b[0miteritems\u001b[0m\u001b[0;34m(\u001b[0m\u001b[0marg\u001b[0m\u001b[0;34m)\u001b[0m\u001b[0;34m:\u001b[0m\u001b[0;34m\u001b[0m\u001b[0m\n\u001b[0;32m--> 500\u001b[0;31m                     \u001b[0mresult\u001b[0m\u001b[0;34m[\u001b[0m\u001b[0mfname\u001b[0m\u001b[0;34m]\u001b[0m \u001b[0;34m=\u001b[0m \u001b[0mfunc\u001b[0m\u001b[0;34m(\u001b[0m\u001b[0mfname\u001b[0m\u001b[0;34m,\u001b[0m \u001b[0magg_how\u001b[0m\u001b[0;34m)\u001b[0m\u001b[0;34m\u001b[0m\u001b[0m\n\u001b[0m\u001b[1;32m    501\u001b[0m                 \u001b[0;32mreturn\u001b[0m \u001b[0mresult\u001b[0m\u001b[0;34m\u001b[0m\u001b[0m\n\u001b[1;32m    502\u001b[0m \u001b[0;34m\u001b[0m\u001b[0m\n",
      "\u001b[0;32m/usr/local/lib/python3.5/dist-packages/pandas/core/base.py\u001b[0m in \u001b[0;36m_agg_1dim\u001b[0;34m(name, how, subset)\u001b[0m\n\u001b[1;32m    481\u001b[0m                     raise SpecificationError(\"nested dictionary is ambiguous \"\n\u001b[1;32m    482\u001b[0m                                              \"in aggregation\")\n\u001b[0;32m--> 483\u001b[0;31m                 \u001b[0;32mreturn\u001b[0m \u001b[0mcolg\u001b[0m\u001b[0;34m.\u001b[0m\u001b[0maggregate\u001b[0m\u001b[0;34m(\u001b[0m\u001b[0mhow\u001b[0m\u001b[0;34m,\u001b[0m \u001b[0m_level\u001b[0m\u001b[0;34m=\u001b[0m\u001b[0;34m(\u001b[0m\u001b[0m_level\u001b[0m \u001b[0;32mor\u001b[0m \u001b[0;36m0\u001b[0m\u001b[0;34m)\u001b[0m \u001b[0;34m+\u001b[0m \u001b[0;36m1\u001b[0m\u001b[0;34m)\u001b[0m\u001b[0;34m\u001b[0m\u001b[0m\n\u001b[0m\u001b[1;32m    484\u001b[0m \u001b[0;34m\u001b[0m\u001b[0m\n\u001b[1;32m    485\u001b[0m             \u001b[0;32mdef\u001b[0m \u001b[0m_agg_2dim\u001b[0m\u001b[0;34m(\u001b[0m\u001b[0mname\u001b[0m\u001b[0;34m,\u001b[0m \u001b[0mhow\u001b[0m\u001b[0;34m)\u001b[0m\u001b[0;34m:\u001b[0m\u001b[0;34m\u001b[0m\u001b[0m\n",
      "\u001b[0;32m/usr/local/lib/python3.5/dist-packages/pandas/core/groupby.py\u001b[0m in \u001b[0;36maggregate\u001b[0;34m(self, func_or_funcs, *args, **kwargs)\u001b[0m\n\u001b[1;32m   2650\u001b[0m         \u001b[0m_level\u001b[0m \u001b[0;34m=\u001b[0m \u001b[0mkwargs\u001b[0m\u001b[0;34m.\u001b[0m\u001b[0mpop\u001b[0m\u001b[0;34m(\u001b[0m\u001b[0;34m'_level'\u001b[0m\u001b[0;34m,\u001b[0m \u001b[0;32mNone\u001b[0m\u001b[0;34m)\u001b[0m\u001b[0;34m\u001b[0m\u001b[0m\n\u001b[1;32m   2651\u001b[0m         \u001b[0;32mif\u001b[0m \u001b[0misinstance\u001b[0m\u001b[0;34m(\u001b[0m\u001b[0mfunc_or_funcs\u001b[0m\u001b[0;34m,\u001b[0m \u001b[0mcompat\u001b[0m\u001b[0;34m.\u001b[0m\u001b[0mstring_types\u001b[0m\u001b[0;34m)\u001b[0m\u001b[0;34m:\u001b[0m\u001b[0;34m\u001b[0m\u001b[0m\n\u001b[0;32m-> 2652\u001b[0;31m             \u001b[0;32mreturn\u001b[0m \u001b[0mgetattr\u001b[0m\u001b[0;34m(\u001b[0m\u001b[0mself\u001b[0m\u001b[0;34m,\u001b[0m \u001b[0mfunc_or_funcs\u001b[0m\u001b[0;34m)\u001b[0m\u001b[0;34m(\u001b[0m\u001b[0;34m*\u001b[0m\u001b[0margs\u001b[0m\u001b[0;34m,\u001b[0m \u001b[0;34m**\u001b[0m\u001b[0mkwargs\u001b[0m\u001b[0;34m)\u001b[0m\u001b[0;34m\u001b[0m\u001b[0m\n\u001b[0m\u001b[1;32m   2653\u001b[0m \u001b[0;34m\u001b[0m\u001b[0m\n\u001b[1;32m   2654\u001b[0m         \u001b[0;32mif\u001b[0m \u001b[0mhasattr\u001b[0m\u001b[0;34m(\u001b[0m\u001b[0mfunc_or_funcs\u001b[0m\u001b[0;34m,\u001b[0m \u001b[0;34m'__iter__'\u001b[0m\u001b[0;34m)\u001b[0m\u001b[0;34m:\u001b[0m\u001b[0;34m\u001b[0m\u001b[0m\n",
      "\u001b[0;32m/usr/local/lib/python3.5/dist-packages/pandas/core/groupby.py\u001b[0m in \u001b[0;36m__getattr__\u001b[0;34m(self, attr)\u001b[0m\n\u001b[1;32m    527\u001b[0m \u001b[0;34m\u001b[0m\u001b[0m\n\u001b[1;32m    528\u001b[0m         raise AttributeError(\"%r object has no attribute %r\" %\n\u001b[0;32m--> 529\u001b[0;31m                              (type(self).__name__, attr))\n\u001b[0m\u001b[1;32m    530\u001b[0m \u001b[0;34m\u001b[0m\u001b[0m\n\u001b[1;32m    531\u001b[0m     \u001b[0mplot\u001b[0m \u001b[0;34m=\u001b[0m \u001b[0mproperty\u001b[0m\u001b[0;34m(\u001b[0m\u001b[0mGroupByPlot\u001b[0m\u001b[0;34m)\u001b[0m\u001b[0;34m\u001b[0m\u001b[0m\n",
      "\u001b[0;31mAttributeError\u001b[0m: 'SeriesGroupBy' object has no attribute 'quantile(0.25)'"
     ]
    }
   ],
   "source": [
    "#merged_df.groupby(['Occupation', 'Genres']).agg({'Rating': 'quantile(0.25)'}).reset_index()\n",
    "merged_df.groupby(['Occupation', 'Genres']).agg({'Rating': 'quantile(0.25)'}).reset_index()"
   ]
  },
  {
   "cell_type": "markdown",
   "metadata": {
    "collapsed": true,
    "deletable": true,
    "editable": true,
    "slideshow": {
     "slide_type": "slide"
    }
   },
   "source": [
    "# A simple example"
   ]
  },
  {
   "cell_type": "code",
   "execution_count": null,
   "metadata": {
    "collapsed": true,
    "deletable": true,
    "editable": true
   },
   "outputs": [],
   "source": []
  }
 ],
 "metadata": {
  "celltoolbar": "Slideshow",
  "kernelspec": {
   "display_name": "Python 3",
   "language": "python",
   "name": "python3"
  },
  "language_info": {
   "codemirror_mode": {
    "name": "ipython",
    "version": 3
   },
   "file_extension": ".py",
   "mimetype": "text/x-python",
   "name": "python",
   "nbconvert_exporter": "python",
   "pygments_lexer": "ipython3",
   "version": "3.5.2"
  }
 },
 "nbformat": 4,
 "nbformat_minor": 2
}
