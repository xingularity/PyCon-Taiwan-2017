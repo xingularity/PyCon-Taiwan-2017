{
 "cells": [
  {
   "cell_type": "code",
   "execution_count": 31,
   "metadata": {
    "collapsed": true,
    "deletable": true,
    "editable": true,
    "slideshow": {
     "slide_type": "skip"
    }
   },
   "outputs": [],
   "source": [
    "from jupyterthemes import jtplot\n",
    "jtplot.style()"
   ]
  },
  {
   "cell_type": "markdown",
   "metadata": {
    "deletable": true,
    "editable": true,
    "slideshow": {
     "slide_type": "slide"
    }
   },
   "source": [
    "# Practical Data Transformation and Analysis with Pandas\n",
    "### Zong-han, Xie"
   ]
  },
  {
   "cell_type": "markdown",
   "metadata": {
    "slideshow": {
     "slide_type": "slide"
    }
   },
   "source": [
    "# Speaker\n",
    "* Zong-han, Xie\n",
    "* Majored in physics\n",
    "* Previously a C++ developer developing simulation software for LCD.\n",
    "* Currently working for Micron Memory Taiwan, building home-made B.I. system.\n",
    "* Email: icbm0926@gmail.com"
   ]
  },
  {
   "cell_type": "markdown",
   "metadata": {
    "slideshow": {
     "slide_type": "slide"
    }
   },
   "source": [
    "# This talk is intended for\n",
    "* People who have needs to perform complex data ETL with Python"
   ]
  },
  {
   "cell_type": "markdown",
   "metadata": {
    "deletable": true,
    "editable": true,
    "slideshow": {
     "slide_type": "slide"
    }
   },
   "source": [
    "# Outline\n",
    "* Basic Data Structures: \n",
    "  - Create Pandas Series and DataFrame\n",
    "  - Read our demo data\n",
    "  - Indexing in DataFrame and Pandas Series\n",
    "  - SettingsWithCopy Warning\n",
    "* Text Handling with Pandas\n",
    "  - Using \"str\" attributes to handle string and using regexp with it\n",
    "* Merging and Concatenating tables\n",
    "  - Concept of merging two tables (inner join, left/right join, outer join)\n",
    "  - Concatenating tables\n",
    "* Split-Apply-Combine strategy\n",
    "  - Process Flow\n",
    "  - GroupBy object\n",
    "  - GroupBy.transform\n",
    "  - GroupBy.apply\n",
    "  - GroupBy.aggregate\n",
    "* A small example"
   ]
  },
  {
   "cell_type": "code",
   "execution_count": 1,
   "metadata": {
    "collapsed": false,
    "deletable": true,
    "editable": true,
    "slideshow": {
     "slide_type": "skip"
    }
   },
   "outputs": [
    {
     "name": "stderr",
     "output_type": "stream",
     "text": [
      "/usr/local/lib/python3.5/dist-packages/ipykernel/__main__.py:61: ParserWarning: Falling back to the 'python' engine because the 'c' engine does not support regex separators (separators > 1 char and different from '\\s+' are interpreted as regex); you can avoid this warning by specifying engine='python'.\n",
      "/usr/local/lib/python3.5/dist-packages/ipykernel/__main__.py:80: ParserWarning: Falling back to the 'python' engine because the 'c' engine does not support regex separators (separators > 1 char and different from '\\s+' are interpreted as regex); you can avoid this warning by specifying engine='python'.\n",
      "/usr/local/lib/python3.5/dist-packages/ipykernel/__main__.py:93: ParserWarning: Falling back to the 'python' engine because the 'c' engine does not support regex separators (separators > 1 char and different from '\\s+' are interpreted as regex); you can avoid this warning by specifying engine='python'.\n"
     ]
    }
   ],
   "source": [
    "# %load Extract_MovieLens_Data.py\n",
    "\n",
    "\n",
    "# # This notebook is to extract data from Movie Lens\n",
    "# * The data contents are explained in http://files.grouplens.org/papers/ml-1m-README.txt\n",
    "# \n",
    "# ## users.dat\n",
    "# \n",
    "# UserID::Gender::Age::Occupation::Zip-code\n",
    "# - Gender is denoted by a \"M\" for male and \"F\" for female\n",
    "# - Age is chosen from the following ranges:\n",
    "# \n",
    "# \t*  1:  \"Under 18\"\n",
    "# \t* 18:  \"18-24\"\n",
    "# \t* 25:  \"25-34\"\n",
    "# \t* 35:  \"35-44\"\n",
    "# \t* 45:  \"45-49\"\n",
    "# \t* 50:  \"50-55\"\n",
    "# \t* 56:  \"56+\"\n",
    "# \n",
    "# - Occupation is chosen from the following choices:\n",
    "# \n",
    "# \t*  0:  \"other\" or not specified\n",
    "# \t*  1:  \"academic/educator\"\n",
    "# \t*  2:  \"artist\"\n",
    "# \t*  3:  \"clerical/admin\"\n",
    "# \t*  4:  \"college/grad student\"\n",
    "# \t*  5:  \"customer service\"\n",
    "# \t*  6:  \"doctor/health care\"\n",
    "# \t*  7:  \"executive/managerial\"\n",
    "# \t*  8:  \"farmer\"\n",
    "# \t*  9:  \"homemaker\"\n",
    "# \t* 10:  \"K-12 student\"\n",
    "# \t* 11:  \"lawyer\"\n",
    "# \t* 12:  \"programmer\"\n",
    "# \t* 13:  \"retired\"\n",
    "# \t* 14:  \"sales/marketing\"\n",
    "# \t* 15:  \"scientist\"\n",
    "# \t* 16:  \"self-employed\"\n",
    "# \t* 17:  \"technician/engineer\"\n",
    "# \t* 18:  \"tradesman/craftsman\"\n",
    "# \t* 19:  \"unemployed\"\n",
    "# \t* 20:  \"writer\"\n",
    "# \n",
    "# ## movies.dat\n",
    "# MovieID::Title::Genres\n",
    "# \n",
    "# ## ratings.dat\n",
    "# UserID::MovieID::Rating::Timestamp\n",
    "\n",
    "# In[1]:\n",
    "\n",
    "import pandas as pd\n",
    "\n",
    "\n",
    "# In[3]:\n",
    "\n",
    "users_df = pd.read_csv(\"./ml-1m/users.dat\"\n",
    "                    , sep='::'\n",
    "                    , header=None\n",
    "                    , names=[\"UserID\", \"Gender\", \"Age\", \"Occupation\", \"Zip-code\"])\n",
    "ocupation_codes = {'ocupation_code': [x for x in range(21)]\n",
    "                   , 'Occupation_name': [\"other or not specified\", \"academic/educator\", \"artist\"\n",
    "                                  , \"clerical/admin\", \"college/grad student\", \"customer service\"\n",
    "                                  , \"doctor/health care\", \"executive/managerial\", \"farmer\"\n",
    "                                  , \"homemaker\", \"K-12 student\", \"lawyer\", \"programmer\", \"retired\"\n",
    "                                  , \"sales/marketing\" ,\"scientist\", \"self-employed\", \"technician/engineer\"\n",
    "                                  , \"tradesman/craftsman\", \"unemployed\", \"writer\"]\n",
    "                  }\n",
    "ocupation_codes = pd.DataFrame(ocupation_codes)\n",
    "users_df = users_df.merge(ocupation_codes, left_on=[\"Occupation\"], right_on=[\"ocupation_code\"], how='left')\n",
    "users_df = users_df.drop([\"Occupation\", \"ocupation_code\"], axis=1).rename(columns={'Occupation_name': 'Occupation'})\n",
    "\n",
    "\n",
    "# In[4]:\n",
    "\n",
    "movies_org_df = pd.read_csv(\"./ml-1m/movies.dat\"\n",
    "                            , sep='::'\n",
    "                            , header=None\n",
    "                            , names=[\"MovieID\", \"Title\", \"Genres\"])\n",
    "rows = []\n",
    "for _, row in movies_org_df.iterrows():\n",
    "    for gen in row.Genres.split('|'):\n",
    "        rows.append([row['MovieID'], row['Title'], gen])\n",
    "movies_df = pd.DataFrame(rows, columns=movies_org_df.columns)\n",
    "\n",
    "\n",
    "# In[5]:\n",
    "\n",
    "ratings_df = pd.read_csv(\"./ml-1m/ratings.dat\"\n",
    "                         , sep='::'\n",
    "                         , header=None\n",
    "                         , names=[\"UserID\", \"MovieID\", \"Rating\", \"Timestamp\"])\n",
    "ratings_df['rating_dt'] = pd.to_datetime(ratings_df['Timestamp'],unit='s')\n",
    "\n"
   ]
  },
  {
   "cell_type": "code",
   "execution_count": 1,
   "metadata": {
    "collapsed": false,
    "deletable": true,
    "editable": true,
    "slideshow": {
     "slide_type": "skip"
    }
   },
   "outputs": [
    {
     "ename": "NameError",
     "evalue": "name 'users_df' is not defined",
     "output_type": "error",
     "traceback": [
      "\u001b[0;31m---------------------------------------------------------------------------\u001b[0m",
      "\u001b[0;31mNameError\u001b[0m                                 Traceback (most recent call last)",
      "\u001b[0;32m<ipython-input-1-a593c5b22da8>\u001b[0m in \u001b[0;36m<module>\u001b[0;34m()\u001b[0m\n\u001b[1;32m      1\u001b[0m \u001b[0;32mimport\u001b[0m \u001b[0mnumpy\u001b[0m \u001b[0;32mas\u001b[0m \u001b[0mnp\u001b[0m\u001b[0;34m\u001b[0m\u001b[0m\n\u001b[0;32m----> 2\u001b[0;31m \u001b[0mprint\u001b[0m\u001b[0;34m(\u001b[0m\u001b[0musers_df\u001b[0m\u001b[0;34m.\u001b[0m\u001b[0mcolumns\u001b[0m\u001b[0;34m)\u001b[0m\u001b[0;34m\u001b[0m\u001b[0m\n\u001b[0m\u001b[1;32m      3\u001b[0m \u001b[0mprint\u001b[0m\u001b[0;34m(\u001b[0m\u001b[0mmovies_df\u001b[0m\u001b[0;34m.\u001b[0m\u001b[0mcolumns\u001b[0m\u001b[0;34m)\u001b[0m\u001b[0;34m\u001b[0m\u001b[0m\n\u001b[1;32m      4\u001b[0m \u001b[0mprint\u001b[0m\u001b[0;34m(\u001b[0m\u001b[0mratings_df\u001b[0m\u001b[0;34m.\u001b[0m\u001b[0mcolumns\u001b[0m\u001b[0;34m)\u001b[0m\u001b[0;34m\u001b[0m\u001b[0m\n",
      "\u001b[0;31mNameError\u001b[0m: name 'users_df' is not defined"
     ]
    }
   ],
   "source": [
    "import numpy as np\n",
    "print(users_df.columns)\n",
    "print(movies_df.columns)\n",
    "print(ratings_df.columns)"
   ]
  },
  {
   "cell_type": "code",
   "execution_count": 3,
   "metadata": {
    "collapsed": false,
    "deletable": true,
    "editable": true,
    "slideshow": {
     "slide_type": "skip"
    }
   },
   "outputs": [],
   "source": [
    "all_df = ratings_io9df.merge(users_df, on=['UserID'], how='left').merge(movies_df, on=['MovieID'], how='left')"
   ]
  },
  {
   "cell_type": "markdown",
   "metadata": {
    "deletable": true,
    "editable": true,
    "slideshow": {
     "slide_type": "slide"
    }
   },
   "source": [
    "# DataFrame Indexing"
   ]
  },
  {
   "cell_type": "code",
   "execution_count": 22,
   "metadata": {
    "collapsed": false,
    "deletable": true,
    "editable": true
   },
   "outputs": [
    {
     "data": {
      "text/plain": [
       "count    2.101815e+06\n",
       "mean     3.026197e+03\n",
       "std      1.731014e+03\n",
       "min      1.000000e+00\n",
       "25%      1.505000e+03\n",
       "50%      3.075000e+03\n",
       "75%      4.478000e+03\n",
       "max      6.040000e+03\n",
       "Name: UserID, dtype: float64"
      ]
     },
     "execution_count": 22,
     "metadata": {},
     "output_type": "execute_result"
    }
   ],
   "source": [
    "all_df.UserID.describe(all_df.MovieID, lambda x, y: x + y)\n"
   ]
  },
  {
   "cell_type": "code",
   "execution_count": 4,
   "metadata": {
    "collapsed": false,
    "deletable": true,
    "editable": true,
    "slideshow": {
     "slide_type": "slide"
    }
   },
   "outputs": [
    {
     "name": "stdout",
     "output_type": "stream",
     "text": [
      "   UserID Gender  Age Zip-code           Occupation\n",
      "2       3      F   25    55117            scientist\n",
      "4       5      M   25    55455               writer\n",
      "8       9      M   25    61614  technician/engineer\n"
     ]
    }
   ],
   "source": [
    "part_users_df = users_df.ix[[2,4,8]]\n",
    "part_users_df.loc[2, 'Gender'] = 'F'\n",
    "print(part_users_df)"
   ]
  },
  {
   "cell_type": "code",
   "execution_count": 5,
   "metadata": {
    "collapsed": false,
    "deletable": true,
    "editable": true,
    "slideshow": {
     "slide_type": "slide"
    }
   },
   "outputs": [
    {
     "data": {
      "text/html": [
       "<div>\n",
       "<table border=\"1\" class=\"dataframe\">\n",
       "  <thead>\n",
       "    <tr style=\"text-align: right;\">\n",
       "      <th></th>\n",
       "      <th>Gender</th>\n",
       "      <th>Age</th>\n",
       "      <th>Zip-code</th>\n",
       "      <th>Occupation</th>\n",
       "    </tr>\n",
       "    <tr>\n",
       "      <th>UserID</th>\n",
       "      <th></th>\n",
       "      <th></th>\n",
       "      <th></th>\n",
       "      <th></th>\n",
       "    </tr>\n",
       "  </thead>\n",
       "  <tbody>\n",
       "    <tr>\n",
       "      <th>3</th>\n",
       "      <td>F</td>\n",
       "      <td>25</td>\n",
       "      <td>55117</td>\n",
       "      <td>scientist</td>\n",
       "    </tr>\n",
       "    <tr>\n",
       "      <th>5</th>\n",
       "      <td>M</td>\n",
       "      <td>25</td>\n",
       "      <td>55455</td>\n",
       "      <td>writer</td>\n",
       "    </tr>\n",
       "    <tr>\n",
       "      <th>9</th>\n",
       "      <td>M</td>\n",
       "      <td>25</td>\n",
       "      <td>61614</td>\n",
       "      <td>technician/engineer</td>\n",
       "    </tr>\n",
       "  </tbody>\n",
       "</table>\n",
       "</div>"
      ],
      "text/plain": [
       "       Gender  Age Zip-code           Occupation\n",
       "UserID                                          \n",
       "3           F   25    55117            scientist\n",
       "5           M   25    55455               writer\n",
       "9           M   25    61614  technician/engineer"
      ]
     },
     "execution_count": 5,
     "metadata": {},
     "output_type": "execute_result"
    }
   ],
   "source": [
    "part_users_df.set_index(\"UserID\")"
   ]
  },
  {
   "cell_type": "markdown",
   "metadata": {
    "deletable": true,
    "editable": true,
    "slideshow": {
     "slide_type": "slide"
    }
   },
   "source": [
    "# Text Handling"
   ]
  },
  {
   "cell_type": "code",
   "execution_count": 6,
   "metadata": {
    "collapsed": false,
    "deletable": true,
    "editable": true
   },
   "outputs": [
    {
     "data": {
      "text/html": [
       "<div>\n",
       "<table border=\"1\" class=\"dataframe\">\n",
       "  <thead>\n",
       "    <tr style=\"text-align: right;\">\n",
       "      <th></th>\n",
       "      <th>MovieID</th>\n",
       "      <th>Title</th>\n",
       "      <th>Genres</th>\n",
       "    </tr>\n",
       "  </thead>\n",
       "  <tbody>\n",
       "    <tr>\n",
       "      <th>0</th>\n",
       "      <td>1</td>\n",
       "      <td>Toy Story (1995)</td>\n",
       "      <td>Animation|Children's|Comedy</td>\n",
       "    </tr>\n",
       "    <tr>\n",
       "      <th>1</th>\n",
       "      <td>2</td>\n",
       "      <td>Jumanji (1995)</td>\n",
       "      <td>Adventure|Children's|Fantasy</td>\n",
       "    </tr>\n",
       "    <tr>\n",
       "      <th>2</th>\n",
       "      <td>3</td>\n",
       "      <td>Grumpier Old Men (1995)</td>\n",
       "      <td>Comedy|Romance</td>\n",
       "    </tr>\n",
       "    <tr>\n",
       "      <th>3</th>\n",
       "      <td>4</td>\n",
       "      <td>Waiting to Exhale (1995)</td>\n",
       "      <td>Comedy|Drama</td>\n",
       "    </tr>\n",
       "    <tr>\n",
       "      <th>4</th>\n",
       "      <td>5</td>\n",
       "      <td>Father of the Bride Part II (1995)</td>\n",
       "      <td>Comedy</td>\n",
       "    </tr>\n",
       "    <tr>\n",
       "      <th>5</th>\n",
       "      <td>6</td>\n",
       "      <td>Heat (1995)</td>\n",
       "      <td>Action|Crime|Thriller</td>\n",
       "    </tr>\n",
       "    <tr>\n",
       "      <th>6</th>\n",
       "      <td>7</td>\n",
       "      <td>Sabrina (1995)</td>\n",
       "      <td>Comedy|Romance</td>\n",
       "    </tr>\n",
       "    <tr>\n",
       "      <th>7</th>\n",
       "      <td>8</td>\n",
       "      <td>Tom and Huck (1995)</td>\n",
       "      <td>Adventure|Children's</td>\n",
       "    </tr>\n",
       "    <tr>\n",
       "      <th>8</th>\n",
       "      <td>9</td>\n",
       "      <td>Sudden Death (1995)</td>\n",
       "      <td>Action</td>\n",
       "    </tr>\n",
       "    <tr>\n",
       "      <th>9</th>\n",
       "      <td>10</td>\n",
       "      <td>GoldenEye (1995)</td>\n",
       "      <td>Action|Adventure|Thriller</td>\n",
       "    </tr>\n",
       "    <tr>\n",
       "      <th>10</th>\n",
       "      <td>11</td>\n",
       "      <td>American President, The (1995)</td>\n",
       "      <td>Comedy|Drama|Romance</td>\n",
       "    </tr>\n",
       "  </tbody>\n",
       "</table>\n",
       "</div>"
      ],
      "text/plain": [
       "    MovieID                               Title                        Genres\n",
       "0         1                    Toy Story (1995)   Animation|Children's|Comedy\n",
       "1         2                      Jumanji (1995)  Adventure|Children's|Fantasy\n",
       "2         3             Grumpier Old Men (1995)                Comedy|Romance\n",
       "3         4            Waiting to Exhale (1995)                  Comedy|Drama\n",
       "4         5  Father of the Bride Part II (1995)                        Comedy\n",
       "5         6                         Heat (1995)         Action|Crime|Thriller\n",
       "6         7                      Sabrina (1995)                Comedy|Romance\n",
       "7         8                 Tom and Huck (1995)          Adventure|Children's\n",
       "8         9                 Sudden Death (1995)                        Action\n",
       "9        10                    GoldenEye (1995)     Action|Adventure|Thriller\n",
       "10       11      American President, The (1995)          Comedy|Drama|Romance"
      ]
     },
     "execution_count": 6,
     "metadata": {},
     "output_type": "execute_result"
    }
   ],
   "source": [
    "movies_org_df.ix[0:10]"
   ]
  },
  {
   "cell_type": "code",
   "execution_count": 7,
   "metadata": {
    "collapsed": false,
    "deletable": true,
    "editable": true,
    "slideshow": {
     "slide_type": "slide"
    }
   },
   "outputs": [
    {
     "data": {
      "text/html": [
       "<div>\n",
       "<table border=\"1\" class=\"dataframe\">\n",
       "  <thead>\n",
       "    <tr style=\"text-align: right;\">\n",
       "      <th></th>\n",
       "      <th>MovieID</th>\n",
       "      <th>Title</th>\n",
       "      <th>Genres</th>\n",
       "    </tr>\n",
       "  </thead>\n",
       "  <tbody>\n",
       "    <tr>\n",
       "      <th>1309</th>\n",
       "      <td>797</td>\n",
       "      <td>Old Lady Who Walked in the Sea, The (Vieille q...</td>\n",
       "      <td>Comedy</td>\n",
       "    </tr>\n",
       "    <tr>\n",
       "      <th>1657</th>\n",
       "      <td>1012</td>\n",
       "      <td>Old Yeller (1957)</td>\n",
       "      <td>Children's</td>\n",
       "    </tr>\n",
       "    <tr>\n",
       "      <th>1658</th>\n",
       "      <td>1012</td>\n",
       "      <td>Old Yeller (1957)</td>\n",
       "      <td>Drama</td>\n",
       "    </tr>\n",
       "    <tr>\n",
       "      <th>1791</th>\n",
       "      <td>1085</td>\n",
       "      <td>Old Man and the Sea, The (1958)</td>\n",
       "      <td>Adventure</td>\n",
       "    </tr>\n",
       "    <tr>\n",
       "      <th>1792</th>\n",
       "      <td>1085</td>\n",
       "      <td>Old Man and the Sea, The (1958)</td>\n",
       "      <td>Drama</td>\n",
       "    </tr>\n",
       "  </tbody>\n",
       "</table>\n",
       "</div>"
      ],
      "text/plain": [
       "      MovieID                                              Title      Genres\n",
       "1309      797  Old Lady Who Walked in the Sea, The (Vieille q...      Comedy\n",
       "1657     1012                                  Old Yeller (1957)  Children's\n",
       "1658     1012                                  Old Yeller (1957)       Drama\n",
       "1791     1085                    Old Man and the Sea, The (1958)   Adventure\n",
       "1792     1085                    Old Man and the Sea, The (1958)       Drama"
      ]
     },
     "execution_count": 7,
     "metadata": {},
     "output_type": "execute_result"
    }
   ],
   "source": [
    "movies_df[movies_df.Title.str.contains('^Old.*')]"
   ]
  },
  {
   "cell_type": "markdown",
   "metadata": {
    "deletable": true,
    "editable": true,
    "slideshow": {
     "slide_type": "slide"
    }
   },
   "source": [
    "# Merge Data and Concat Data\n",
    "* Pandas.merge and Pandas.concat\n",
    "* Pandas.merger is analog to join in SQL"
   ]
  },
  {
   "cell_type": "markdown",
   "metadata": {
    "deletable": true,
    "editable": true,
    "slideshow": {
     "slide_type": "slide"
    }
   },
   "source": [
    "# Split - Apply - Combine Strategy\n",
    "The basic cooncept of split-apply-combine strategy \n",
    "* Split\n",
    "    - Split original data into groups\n",
    "* Apply\n",
    "    - Apply functions to data within each group independently\n",
    "* Combine\n",
    "    - Merge results into a data structure"
   ]
  },
  {
   "cell_type": "markdown",
   "metadata": {
    "deletable": true,
    "editable": true,
    "slideshow": {
     "slide_type": "slide"
    }
   },
   "source": [
    "# Data Aggregation\n",
    "\n",
    "```\n",
    "select \n",
    "max(Ratings.Rating)\n",
    "from Ratings\n",
    "group by Ratings.MovieId\n",
    "```\n",
    "\n",
    "```\n",
    "df.assign(max_ratings = ratings_df.groupby(\"MovieID\")['Rating'].transform(np.max))\n",
    "```\n",
    "\n",
    "* Data aggregation in Pandas uses GroupBy.apply, GroupBy.transform and GroupBy.aggregate.\n",
    "* These functions are badly documented in Pandas dicumentation."
   ]
  },
  {
   "cell_type": "markdown",
   "metadata": {
    "deletable": true,
    "editable": true,
    "slideshow": {
     "slide_type": "slide"
    }
   },
   "source": [
    "# GroupBy objects"
   ]
  },
  {
   "cell_type": "code",
   "execution_count": 8,
   "metadata": {
    "collapsed": false,
    "deletable": true,
    "editable": true,
    "slideshow": {
     "slide_type": "slide"
    }
   },
   "outputs": [
    {
     "data": {
      "text/plain": [
       "<pandas.core.groupby.DataFrameGroupBy object at 0x7fde459c29b0>"
      ]
     },
     "execution_count": 8,
     "metadata": {},
     "output_type": "execute_result"
    }
   ],
   "source": [
    "all_df.groupby([\"Occupation\", \"Genres\"])"
   ]
  },
  {
   "cell_type": "code",
   "execution_count": 9,
   "metadata": {
    "collapsed": false,
    "deletable": true,
    "editable": true,
    "scrolled": false,
    "slideshow": {
     "slide_type": "slide"
    }
   },
   "outputs": [
    {
     "name": "stdout",
     "output_type": "stream",
     "text": [
      "group keys: ('K-12 student', 'Action')\n",
      "     UserID  MovieID  Rating  Timestamp           rating_dt Gender  Age  \\\n",
      "10        1     1197       3  978302268 2000-12-31 22:37:48      F    1   \n",
      "14        1     1287       5  978302039 2000-12-31 22:33:59      F    1   \n",
      "90        1     2692       4  978301570 2000-12-31 22:26:10      F    1   \n",
      "93        1      260       4  978300760 2000-12-31 22:12:40      F    1   \n",
      "104       1     2028       5  978301619 2000-12-31 22:26:59      F    1   \n",
      "\n",
      "    Zip-code    Occupation                                      Title  Genres  \n",
      "10     48067  K-12 student                 Princess Bride, The (1987)  Action  \n",
      "14     48067  K-12 student                             Ben-Hur (1959)  Action  \n",
      "90     48067  K-12 student           Run Lola Run (Lola rennt) (1998)  Action  \n",
      "93     48067  K-12 student  Star Wars: Episode IV - A New Hope (1977)  Action  \n",
      "104    48067  K-12 student                 Saving Private Ryan (1998)  Action  \n"
     ]
    }
   ],
   "source": [
    "grouped_ratings = all_df.groupby([\"Occupation\", \"Genres\"])\n",
    "for key, group_df in grouped_ratings:\n",
    "    print(\"group keys: \" + str(key))\n",
    "    print(group_df.iloc[:5])\n",
    "    break"
   ]
  },
  {
   "cell_type": "markdown",
   "metadata": {
    "deletable": true,
    "editable": true,
    "slideshow": {
     "slide_type": "slide"
    }
   },
   "source": [
    "# Let's manually aggregate function"
   ]
  },
  {
   "cell_type": "code",
   "execution_count": 10,
   "metadata": {
    "collapsed": false,
    "deletable": true,
    "editable": true,
    "scrolled": false
   },
   "outputs": [
    {
     "data": {
      "text/html": [
       "<div>\n",
       "<table border=\"1\" class=\"dataframe\">\n",
       "  <thead>\n",
       "    <tr style=\"text-align: right;\">\n",
       "      <th></th>\n",
       "      <th>Genres</th>\n",
       "      <th>Occupation</th>\n",
       "      <th>Rating_mean</th>\n",
       "    </tr>\n",
       "  </thead>\n",
       "  <tbody>\n",
       "    <tr>\n",
       "      <th>0</th>\n",
       "      <td>Action</td>\n",
       "      <td>K-12 student</td>\n",
       "      <td>3.497116</td>\n",
       "    </tr>\n",
       "    <tr>\n",
       "      <th>1</th>\n",
       "      <td>Adventure</td>\n",
       "      <td>K-12 student</td>\n",
       "      <td>3.425658</td>\n",
       "    </tr>\n",
       "    <tr>\n",
       "      <th>2</th>\n",
       "      <td>Animation</td>\n",
       "      <td>K-12 student</td>\n",
       "      <td>3.463956</td>\n",
       "    </tr>\n",
       "    <tr>\n",
       "      <th>3</th>\n",
       "      <td>Children's</td>\n",
       "      <td>K-12 student</td>\n",
       "      <td>3.220679</td>\n",
       "    </tr>\n",
       "    <tr>\n",
       "      <th>4</th>\n",
       "      <td>Comedy</td>\n",
       "      <td>K-12 student</td>\n",
       "      <td>3.497200</td>\n",
       "    </tr>\n",
       "    <tr>\n",
       "      <th>5</th>\n",
       "      <td>Crime</td>\n",
       "      <td>K-12 student</td>\n",
       "      <td>3.687085</td>\n",
       "    </tr>\n",
       "    <tr>\n",
       "      <th>6</th>\n",
       "      <td>Documentary</td>\n",
       "      <td>K-12 student</td>\n",
       "      <td>3.581633</td>\n",
       "    </tr>\n",
       "    <tr>\n",
       "      <th>7</th>\n",
       "      <td>Drama</td>\n",
       "      <td>K-12 student</td>\n",
       "      <td>3.782167</td>\n",
       "    </tr>\n",
       "    <tr>\n",
       "      <th>8</th>\n",
       "      <td>Fantasy</td>\n",
       "      <td>K-12 student</td>\n",
       "      <td>3.298039</td>\n",
       "    </tr>\n",
       "    <tr>\n",
       "      <th>9</th>\n",
       "      <td>Film-Noir</td>\n",
       "      <td>K-12 student</td>\n",
       "      <td>4.212766</td>\n",
       "    </tr>\n",
       "    <tr>\n",
       "      <th>10</th>\n",
       "      <td>Horror</td>\n",
       "      <td>K-12 student</td>\n",
       "      <td>3.237795</td>\n",
       "    </tr>\n",
       "  </tbody>\n",
       "</table>\n",
       "</div>"
      ],
      "text/plain": [
       "         Genres    Occupation  Rating_mean\n",
       "0        Action  K-12 student     3.497116\n",
       "1     Adventure  K-12 student     3.425658\n",
       "2     Animation  K-12 student     3.463956\n",
       "3    Children's  K-12 student     3.220679\n",
       "4        Comedy  K-12 student     3.497200\n",
       "5         Crime  K-12 student     3.687085\n",
       "6   Documentary  K-12 student     3.581633\n",
       "7         Drama  K-12 student     3.782167\n",
       "8       Fantasy  K-12 student     3.298039\n",
       "9     Film-Noir  K-12 student     4.212766\n",
       "10       Horror  K-12 student     3.237795"
      ]
     },
     "execution_count": 10,
     "metadata": {},
     "output_type": "execute_result"
    }
   ],
   "source": [
    "results = {'Occupation': [], 'Genres': [], 'Rating_mean':[]}\n",
    "grouped_ratings = all_df.groupby([\"Occupation\", \"Genres\"])\n",
    "for key, group_df in grouped_ratings:\n",
    "    results['Occupation'].append(key[0])\n",
    "    results['Genres'].append(key[1])\n",
    "    results['Rating_mean'].append(group_df.Rating.mean())\n",
    "pd.DataFrame(results).ix[0:10]"
   ]
  },
  {
   "cell_type": "code",
   "execution_count": 30,
   "metadata": {
    "collapsed": false,
    "deletable": true,
    "editable": true,
    "slideshow": {
     "slide_type": "slide"
    }
   },
   "outputs": [
    {
     "name": "stdout",
     "output_type": "stream",
     "text": [
      "           Occupation  Genres  Rating_mean\n",
      "804564   K-12 student  Action     3.497116\n",
      "363454   K-12 student  Action     3.497116\n",
      "1806560  K-12 student  Action     3.497116\n",
      "772492   K-12 student  Action     3.497116\n",
      "1806556  K-12 student  Action     3.497116\n",
      "659674   K-12 student  Action     3.497116\n",
      "706974   K-12 student  Action     3.497116\n",
      "827117   K-12 student  Action     3.497116\n",
      "363460   K-12 student  Action     3.497116\n"
     ]
    }
   ],
   "source": [
    "import numpy as np\n",
    "tmp = all_df[all_df.Occupation == 'K-12 student'].copy()\n",
    "tmp.loc[:,'Rating_mean'] = tmp.groupby([\"Occupation\", \"Genres\"])['Rating'].transform(np.mean)\n",
    "print(tmp[['Occupation', 'Genres', 'Rating_mean']].sort_values(by='Genres').iloc[1:10])"
   ]
  },
  {
   "cell_type": "markdown",
   "metadata": {
    "deletable": true,
    "editable": true
   },
   "source": [
    "** GroupBy.transform() returns a Pandas Series with the same index as those in original DataFrame **\n",
    "\n",
    "** Therefore, it's easy to combine data back to the original data. **"
   ]
  },
  {
   "cell_type": "code",
   "execution_count": 12,
   "metadata": {
    "collapsed": false,
    "deletable": true,
    "editable": true,
    "slideshow": {
     "slide_type": "subslide"
    }
   },
   "outputs": [
    {
     "name": "stdout",
     "output_type": "stream",
     "text": [
      "           Occupation       Genres  Rating_mean\n",
      "418625   K-12 student       Action     3.497116\n",
      "831363   K-12 student    Adventure     3.425658\n",
      "136334   K-12 student    Animation     3.463956\n",
      "453973   K-12 student   Children's     3.220679\n",
      "789324   K-12 student       Comedy     3.497200\n",
      "692103   K-12 student        Crime     3.687085\n",
      "1931149  K-12 student  Documentary     3.581633\n",
      "790387   K-12 student        Drama     3.782167\n",
      "521989   K-12 student      Fantasy     3.298039\n",
      "364059   K-12 student    Film-Noir     4.212766\n"
     ]
    }
   ],
   "source": [
    "print(tmp[['Occupation', 'Genres', 'Rating_mean']].sort_values(by='Genres').drop_duplicates().iloc[0:10])"
   ]
  },
  {
   "cell_type": "code",
   "execution_count": 13,
   "metadata": {
    "collapsed": false,
    "deletable": true,
    "editable": true,
    "slideshow": {
     "slide_type": "slide"
    }
   },
   "outputs": [
    {
     "data": {
      "text/plain": [
       "Occupation         Genres     \n",
       "K-12 student       Action         3.497116\n",
       "                   Adventure      3.425658\n",
       "                   Animation      3.463956\n",
       "                   Children's     3.220679\n",
       "                   Comedy         3.497200\n",
       "                   Crime          3.687085\n",
       "                   Documentary    3.581633\n",
       "                   Drama          3.782167\n",
       "                   Fantasy        3.298039\n",
       "                   Film-Noir      4.212766\n",
       "                   Horror         3.237795\n",
       "                   Musical        3.556738\n",
       "                   Mystery        3.636612\n",
       "                   Romance        3.624415\n",
       "                   Sci-Fi         3.443795\n",
       "                   Thriller       3.554131\n",
       "                   War            3.880144\n",
       "                   Western        3.513333\n",
       "academic/educator  Action         3.392063\n",
       "                   Adventure      3.424278\n",
       "                   Animation      3.693399\n",
       "                   Children's     3.459286\n",
       "                   Comedy         3.519583\n",
       "                   Crime          3.659342\n",
       "                   Documentary    3.984887\n",
       "                   Drama          3.754293\n",
       "                   Fantasy        3.456388\n",
       "                   Film-Noir      4.082613\n",
       "                   Horror         3.104548\n",
       "                   Musical        3.701586\n",
       "                                    ...   \n",
       "unemployed         Documentary    3.727273\n",
       "                   Drama          3.619308\n",
       "                   Fantasy        3.230900\n",
       "                   Film-Noir      4.044444\n",
       "                   Horror         3.136126\n",
       "                   Musical        3.360771\n",
       "                   Mystery        3.579734\n",
       "                   Romance        3.451581\n",
       "                   Sci-Fi         3.330855\n",
       "                   Thriller       3.403038\n",
       "                   War            3.693103\n",
       "                   Western        3.501779\n",
       "writer             Action         3.339971\n",
       "                   Adventure      3.346110\n",
       "                   Animation      3.699773\n",
       "                   Children's     3.351440\n",
       "                   Comedy         3.423004\n",
       "                   Crime          3.651598\n",
       "                   Documentary    3.967914\n",
       "                   Drama          3.653348\n",
       "                   Fantasy        3.338421\n",
       "                   Film-Noir      4.104603\n",
       "                   Horror         3.201472\n",
       "                   Musical        3.669849\n",
       "                   Mystery        3.605100\n",
       "                   Romance        3.469661\n",
       "                   Sci-Fi         3.390184\n",
       "                   Thriller       3.461546\n",
       "                   War            3.798393\n",
       "                   Western        3.618467\n",
       "Name: Rating, dtype: float64"
      ]
     },
     "execution_count": 13,
     "metadata": {},
     "output_type": "execute_result"
    }
   ],
   "source": [
    "all_df.groupby(['Occupation', 'Genres'])['Rating'].mean()"
   ]
  },
  {
   "cell_type": "code",
   "execution_count": 14,
   "metadata": {
    "collapsed": false,
    "deletable": true,
    "editable": true,
    "slideshow": {
     "slide_type": "slide"
    }
   },
   "outputs": [
    {
     "data": {
      "text/plain": [
       "Genres\n",
       "Action         3.497116\n",
       "Adventure      3.425658\n",
       "Animation      3.463956\n",
       "Children's     3.220679\n",
       "Comedy         3.497200\n",
       "Crime          3.687085\n",
       "Documentary    3.581633\n",
       "Drama          3.782167\n",
       "Fantasy        3.298039\n",
       "Film-Noir      4.212766\n",
       "Horror         3.237795\n",
       "Musical        3.556738\n",
       "Mystery        3.636612\n",
       "Romance        3.624415\n",
       "Sci-Fi         3.443795\n",
       "Thriller       3.554131\n",
       "War            3.880144\n",
       "Western        3.513333\n",
       "Name: Rating, dtype: float64"
      ]
     },
     "execution_count": 14,
     "metadata": {},
     "output_type": "execute_result"
    }
   ],
   "source": [
    "all_df.groupby(['Occupation', 'Genres'])['Rating'].agg(np.mean).ix['K-12 student']"
   ]
  },
  {
   "cell_type": "code",
   "execution_count": 15,
   "metadata": {
    "collapsed": false,
    "deletable": true,
    "editable": true,
    "scrolled": false,
    "slideshow": {
     "slide_type": "slide"
    }
   },
   "outputs": [
    {
     "data": {
      "text/html": [
       "<div>\n",
       "<table border=\"1\" class=\"dataframe\">\n",
       "  <thead>\n",
       "    <tr style=\"text-align: right;\">\n",
       "      <th></th>\n",
       "      <th>Occupation</th>\n",
       "      <th>Genres</th>\n",
       "      <th>Rating</th>\n",
       "    </tr>\n",
       "  </thead>\n",
       "  <tbody>\n",
       "    <tr>\n",
       "      <th>0</th>\n",
       "      <td>K-12 student</td>\n",
       "      <td>Action</td>\n",
       "      <td>3.497116</td>\n",
       "    </tr>\n",
       "    <tr>\n",
       "      <th>1</th>\n",
       "      <td>K-12 student</td>\n",
       "      <td>Adventure</td>\n",
       "      <td>3.425658</td>\n",
       "    </tr>\n",
       "    <tr>\n",
       "      <th>2</th>\n",
       "      <td>K-12 student</td>\n",
       "      <td>Animation</td>\n",
       "      <td>3.463956</td>\n",
       "    </tr>\n",
       "    <tr>\n",
       "      <th>3</th>\n",
       "      <td>K-12 student</td>\n",
       "      <td>Children's</td>\n",
       "      <td>3.220679</td>\n",
       "    </tr>\n",
       "    <tr>\n",
       "      <th>4</th>\n",
       "      <td>K-12 student</td>\n",
       "      <td>Comedy</td>\n",
       "      <td>3.497200</td>\n",
       "    </tr>\n",
       "    <tr>\n",
       "      <th>5</th>\n",
       "      <td>K-12 student</td>\n",
       "      <td>Crime</td>\n",
       "      <td>3.687085</td>\n",
       "    </tr>\n",
       "  </tbody>\n",
       "</table>\n",
       "</div>"
      ],
      "text/plain": [
       "     Occupation      Genres    Rating\n",
       "0  K-12 student      Action  3.497116\n",
       "1  K-12 student   Adventure  3.425658\n",
       "2  K-12 student   Animation  3.463956\n",
       "3  K-12 student  Children's  3.220679\n",
       "4  K-12 student      Comedy  3.497200\n",
       "5  K-12 student       Crime  3.687085"
      ]
     },
     "execution_count": 15,
     "metadata": {},
     "output_type": "execute_result"
    }
   ],
   "source": [
    "all_df.groupby(['Occupation', 'Genres'])['Rating'].agg(np.mean).reset_index().ix[0:5]"
   ]
  },
  {
   "cell_type": "code",
   "execution_count": 27,
   "metadata": {
    "collapsed": false,
    "deletable": true,
    "editable": true,
    "scrolled": false,
    "slideshow": {
     "slide_type": "slide"
    }
   },
   "outputs": [
    {
     "data": {
      "text/html": [
       "<div>\n",
       "<table border=\"1\" class=\"dataframe\">\n",
       "  <thead>\n",
       "    <tr style=\"text-align: right;\">\n",
       "      <th></th>\n",
       "      <th>Occupation</th>\n",
       "      <th>Genres</th>\n",
       "      <th>Rating</th>\n",
       "    </tr>\n",
       "  </thead>\n",
       "  <tbody>\n",
       "    <tr>\n",
       "      <th>0</th>\n",
       "      <td>K-12 student</td>\n",
       "      <td>Action</td>\n",
       "      <td>3.497116</td>\n",
       "    </tr>\n",
       "    <tr>\n",
       "      <th>1</th>\n",
       "      <td>K-12 student</td>\n",
       "      <td>Adventure</td>\n",
       "      <td>3.425658</td>\n",
       "    </tr>\n",
       "    <tr>\n",
       "      <th>2</th>\n",
       "      <td>K-12 student</td>\n",
       "      <td>Animation</td>\n",
       "      <td>3.463956</td>\n",
       "    </tr>\n",
       "    <tr>\n",
       "      <th>3</th>\n",
       "      <td>K-12 student</td>\n",
       "      <td>Children's</td>\n",
       "      <td>3.220679</td>\n",
       "    </tr>\n",
       "    <tr>\n",
       "      <th>4</th>\n",
       "      <td>K-12 student</td>\n",
       "      <td>Comedy</td>\n",
       "      <td>3.497200</td>\n",
       "    </tr>\n",
       "    <tr>\n",
       "      <th>5</th>\n",
       "      <td>K-12 student</td>\n",
       "      <td>Crime</td>\n",
       "      <td>3.687085</td>\n",
       "    </tr>\n",
       "  </tbody>\n",
       "</table>\n",
       "</div>"
      ],
      "text/plain": [
       "     Occupation      Genres    Rating\n",
       "0  K-12 student      Action  3.497116\n",
       "1  K-12 student   Adventure  3.425658\n",
       "2  K-12 student   Animation  3.463956\n",
       "3  K-12 student  Children's  3.220679\n",
       "4  K-12 student      Comedy  3.497200\n",
       "5  K-12 student       Crime  3.687085"
      ]
     },
     "execution_count": 27,
     "metadata": {},
     "output_type": "execute_result"
    }
   ],
   "source": [
    "all_df.groupby(['Occupation', 'Genres']).agg({'Rating': np.mean}).reset_index().ix[0:5]"
   ]
  },
  {
   "cell_type": "code",
   "execution_count": null,
   "metadata": {
    "collapsed": true,
    "deletable": true,
    "editable": true
   },
   "outputs": [],
   "source": []
  }
 ],
 "metadata": {
  "celltoolbar": "Slideshow",
  "kernelspec": {
   "display_name": "Python 3",
   "language": "python",
   "name": "python3"
  },
  "language_info": {
   "codemirror_mode": {
    "name": "ipython",
    "version": 3
   },
   "file_extension": ".py",
   "mimetype": "text/x-python",
   "name": "python",
   "nbconvert_exporter": "python",
   "pygments_lexer": "ipython3",
   "version": "3.5.2"
  }
 },
 "nbformat": 4,
 "nbformat_minor": 2
}
