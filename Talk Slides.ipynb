{
 "cells": [
  {
   "cell_type": "markdown",
   "metadata": {
    "deletable": true,
    "editable": true,
    "slideshow": {
     "slide_type": "slide"
    }
   },
   "source": [
    "# Practical Data Transformation and Analysis with Pandas\n",
    "   ## Zong-han, Xie <icbm0926@gmail.com>"
   ]
  },
  {
   "cell_type": "markdown",
   "metadata": {
    "deletable": true,
    "editable": true,
    "slideshow": {
     "slide_type": "slide"
    }
   },
   "source": [
    "# Outline\n",
    "1. Understanding basic components: \n",
    "  - Introducing Pandas Series and DataFrame\n",
    "  - Indexing in Pandas and things about \"SettingWithCopyWarning\"\n",
    "2. Text Handling with Pandas\n",
    "  - Using \"str\" attributes to handle string.\n",
    "  - Using regular expression with Pandas.\n",
    "3. Merging and Concatenating tables\n",
    "  - Concept of merging two tables (inner join, left/right join, outer join)\n",
    "  - Concatenating tables\n",
    "4. Split-Apply-Combine strategy\n",
    "  - Dataframe.groupby\n",
    "  - Data transform with transform and agg functions\n",
    "5. Demo using Split-Apply-Combine strategy to aggregate data and Q&A"
   ]
  },
  {
   "cell_type": "code",
   "execution_count": 1,
   "metadata": {
    "collapsed": false,
    "deletable": true,
    "editable": true,
    "slideshow": {
     "slide_type": "skip"
    }
   },
   "outputs": [
    {
     "name": "stderr",
     "output_type": "stream",
     "text": [
      "/usr/local/lib/python3.5/dist-packages/ipykernel/__main__.py:61: ParserWarning: Falling back to the 'python' engine because the 'c' engine does not support regex separators (separators > 1 char and different from '\\s+' are interpreted as regex); you can avoid this warning by specifying engine='python'.\n",
      "/usr/local/lib/python3.5/dist-packages/ipykernel/__main__.py:80: ParserWarning: Falling back to the 'python' engine because the 'c' engine does not support regex separators (separators > 1 char and different from '\\s+' are interpreted as regex); you can avoid this warning by specifying engine='python'.\n",
      "/usr/local/lib/python3.5/dist-packages/ipykernel/__main__.py:93: ParserWarning: Falling back to the 'python' engine because the 'c' engine does not support regex separators (separators > 1 char and different from '\\s+' are interpreted as regex); you can avoid this warning by specifying engine='python'.\n"
     ]
    }
   ],
   "source": [
    "# %load Extract_MovieLens_Data.py\n",
    "\n",
    "\n",
    "# # This notebook is to extract data from Movie Lens\n",
    "# * The data contents are explained in http://files.grouplens.org/papers/ml-1m-README.txt\n",
    "# \n",
    "# ## users.dat\n",
    "# \n",
    "# UserID::Gender::Age::Occupation::Zip-code\n",
    "# - Gender is denoted by a \"M\" for male and \"F\" for female\n",
    "# - Age is chosen from the following ranges:\n",
    "# \n",
    "# \t*  1:  \"Under 18\"\n",
    "# \t* 18:  \"18-24\"\n",
    "# \t* 25:  \"25-34\"\n",
    "# \t* 35:  \"35-44\"\n",
    "# \t* 45:  \"45-49\"\n",
    "# \t* 50:  \"50-55\"\n",
    "# \t* 56:  \"56+\"\n",
    "# \n",
    "# - Occupation is chosen from the following choices:\n",
    "# \n",
    "# \t*  0:  \"other\" or not specified\n",
    "# \t*  1:  \"academic/educator\"\n",
    "# \t*  2:  \"artist\"\n",
    "# \t*  3:  \"clerical/admin\"\n",
    "# \t*  4:  \"college/grad student\"\n",
    "# \t*  5:  \"customer service\"\n",
    "# \t*  6:  \"doctor/health care\"\n",
    "# \t*  7:  \"executive/managerial\"\n",
    "# \t*  8:  \"farmer\"\n",
    "# \t*  9:  \"homemaker\"\n",
    "# \t* 10:  \"K-12 student\"\n",
    "# \t* 11:  \"lawyer\"\n",
    "# \t* 12:  \"programmer\"\n",
    "# \t* 13:  \"retired\"\n",
    "# \t* 14:  \"sales/marketing\"\n",
    "# \t* 15:  \"scientist\"\n",
    "# \t* 16:  \"self-employed\"\n",
    "# \t* 17:  \"technician/engineer\"\n",
    "# \t* 18:  \"tradesman/craftsman\"\n",
    "# \t* 19:  \"unemployed\"\n",
    "# \t* 20:  \"writer\"\n",
    "# \n",
    "# ## movies.dat\n",
    "# MovieID::Title::Genres\n",
    "# \n",
    "# ## ratings.dat\n",
    "# UserID::MovieID::Rating::Timestamp\n",
    "\n",
    "# In[1]:\n",
    "\n",
    "import pandas as pd\n",
    "\n",
    "\n",
    "# In[3]:\n",
    "\n",
    "users_df = pd.read_csv(\"./ml-1m/users.dat\"\n",
    "                    , sep='::'\n",
    "                    , header=None\n",
    "                    , names=[\"UserID\", \"Gender\", \"Age\", \"Occupation\", \"Zip-code\"])\n",
    "ocupation_codes = {'ocupation_code': [x for x in range(21)]\n",
    "                   , 'Occupation_name': [\"other or not specified\", \"academic/educator\", \"artist\"\n",
    "                                  , \"clerical/admin\", \"college/grad student\", \"customer service\"\n",
    "                                  , \"doctor/health care\", \"executive/managerial\", \"farmer\"\n",
    "                                  , \"homemaker\", \"K-12 student\", \"lawyer\", \"programmer\", \"retired\"\n",
    "                                  , \"sales/marketing\" ,\"scientist\", \"self-employed\", \"technician/engineer\"\n",
    "                                  , \"tradesman/craftsman\", \"unemployed\", \"writer\"]\n",
    "                  }\n",
    "ocupation_codes = pd.DataFrame(ocupation_codes)\n",
    "users_df = users_df.merge(ocupation_codes, left_on=[\"Occupation\"], right_on=[\"ocupation_code\"], how='left')\n",
    "users_df = users_df.drop([\"Occupation\", \"ocupation_code\"], axis=1).rename(columns={'Occupation_name': 'Occupation'})\n",
    "\n",
    "\n",
    "# In[4]:\n",
    "\n",
    "movies_org_df = pd.read_csv(\"./ml-1m/movies.dat\"\n",
    "                            , sep='::'\n",
    "                            , header=None\n",
    "                            , names=[\"MovieID\", \"Title\", \"Genres\"])\n",
    "rows = []\n",
    "for _, row in movies_org_df.iterrows():\n",
    "    for gen in row.Genres.split('|'):\n",
    "        rows.append([row['MovieID'], row['Title'], gen])\n",
    "movies_df = pd.DataFrame(rows, columns=movies_org_df.columns)\n",
    "\n",
    "\n",
    "# In[5]:\n",
    "\n",
    "ratings_df = pd.read_csv(\"./ml-1m/ratings.dat\"\n",
    "                         , sep='::'\n",
    "                         , header=None\n",
    "                         , names=[\"UserID\", \"MovieID\", \"Rating\", \"Timestamp\"])\n",
    "ratings_df['rating_dt'] = pd.to_datetime(ratings_df['Timestamp'],unit='s')\n",
    "\n"
   ]
  },
  {
   "cell_type": "code",
   "execution_count": 2,
   "metadata": {
    "collapsed": false,
    "deletable": true,
    "editable": true,
    "slideshow": {
     "slide_type": "skip"
    }
   },
   "outputs": [
    {
     "name": "stdout",
     "output_type": "stream",
     "text": [
      "Index(['UserID', 'Gender', 'Age', 'Zip-code', 'Occupation'], dtype='object')\n",
      "Index(['MovieID', 'Title', 'Genres'], dtype='object')\n",
      "Index(['UserID', 'MovieID', 'Rating', 'Timestamp', 'rating_dt'], dtype='object')\n"
     ]
    }
   ],
   "source": [
    "print(users_df.columns)\n",
    "print(movies_df.columns)\n",
    "print(ratings_df.columns)"
   ]
  },
  {
   "cell_type": "code",
   "execution_count": 3,
   "metadata": {
    "collapsed": false,
    "deletable": true,
    "editable": true,
    "slideshow": {
     "slide_type": "skip"
    }
   },
   "outputs": [],
   "source": [
    "df = ratings_df.merge(users_df, on=['UserID'], how='left').merge(movies_df, on=['MovieID'], how='left')"
   ]
  },
  {
   "cell_type": "markdown",
   "metadata": {
    "deletable": true,
    "editable": true,
    "slideshow": {
     "slide_type": "slide"
    }
   },
   "source": [
    "# DataFrame Indexing"
   ]
  },
  {
   "cell_type": "code",
   "execution_count": 24,
   "metadata": {
    "collapsed": false,
    "slideshow": {
     "slide_type": "subslide"
    }
   },
   "outputs": [
    {
     "name": "stdout",
     "output_type": "stream",
     "text": [
      "   UserID Gender  Age Zip-code           Occupation (2, Gender)\n",
      "2       3      M   25    55117            scientist           F\n",
      "4       5      M   25    55455               writer           F\n",
      "8       9      M   25    61614  technician/engineer           F\n"
     ]
    }
   ],
   "source": [
    "part_users_df = users_df.ix[[2,4,8]]\n",
    "part_users_df[2, 'Gender'] = 'F'  # This one will fail\n",
    "print(part_users_df)"
   ]
  },
  {
   "cell_type": "code",
   "execution_count": 25,
   "metadata": {
    "collapsed": false,
    "slideshow": {
     "slide_type": "slide"
    }
   },
   "outputs": [
    {
     "name": "stdout",
     "output_type": "stream",
     "text": [
      "   UserID Gender  Age Zip-code           Occupation\n",
      "2       3      F   25    55117            scientist\n",
      "4       5      M   25    55455               writer\n",
      "8       9      M   25    61614  technician/engineer\n"
     ]
    }
   ],
   "source": [
    "part_users_df = users_df.ix[[2,4,8]]\n",
    "part_users_df.loc[2, 'Gender'] = 'F'\n",
    "print(part_users_df)"
   ]
  },
  {
   "cell_type": "code",
   "execution_count": 26,
   "metadata": {
    "collapsed": false,
    "slideshow": {
     "slide_type": "slide"
    }
   },
   "outputs": [
    {
     "data": {
      "text/html": [
       "<div>\n",
       "<table border=\"1\" class=\"dataframe\">\n",
       "  <thead>\n",
       "    <tr style=\"text-align: right;\">\n",
       "      <th></th>\n",
       "      <th>Gender</th>\n",
       "      <th>Age</th>\n",
       "      <th>Zip-code</th>\n",
       "      <th>Occupation</th>\n",
       "    </tr>\n",
       "    <tr>\n",
       "      <th>UserID</th>\n",
       "      <th></th>\n",
       "      <th></th>\n",
       "      <th></th>\n",
       "      <th></th>\n",
       "    </tr>\n",
       "  </thead>\n",
       "  <tbody>\n",
       "    <tr>\n",
       "      <th>3</th>\n",
       "      <td>F</td>\n",
       "      <td>25</td>\n",
       "      <td>55117</td>\n",
       "      <td>scientist</td>\n",
       "    </tr>\n",
       "    <tr>\n",
       "      <th>5</th>\n",
       "      <td>M</td>\n",
       "      <td>25</td>\n",
       "      <td>55455</td>\n",
       "      <td>writer</td>\n",
       "    </tr>\n",
       "    <tr>\n",
       "      <th>9</th>\n",
       "      <td>M</td>\n",
       "      <td>25</td>\n",
       "      <td>61614</td>\n",
       "      <td>technician/engineer</td>\n",
       "    </tr>\n",
       "  </tbody>\n",
       "</table>\n",
       "</div>"
      ],
      "text/plain": [
       "       Gender  Age Zip-code           Occupation\n",
       "UserID                                          \n",
       "3           F   25    55117            scientist\n",
       "5           M   25    55455               writer\n",
       "9           M   25    61614  technician/engineer"
      ]
     },
     "execution_count": 26,
     "metadata": {},
     "output_type": "execute_result"
    }
   ],
   "source": [
    "part_users_df.set_index(\"UserID\")"
   ]
  },
  {
   "cell_type": "markdown",
   "metadata": {
    "slideshow": {
     "slide_type": "slide"
    }
   },
   "source": [
    "# Text Handling"
   ]
  },
  {
   "cell_type": "code",
   "execution_count": 28,
   "metadata": {
    "collapsed": false
   },
   "outputs": [
    {
     "data": {
      "text/html": [
       "<div>\n",
       "<table border=\"1\" class=\"dataframe\">\n",
       "  <thead>\n",
       "    <tr style=\"text-align: right;\">\n",
       "      <th></th>\n",
       "      <th>MovieID</th>\n",
       "      <th>Title</th>\n",
       "      <th>Genres</th>\n",
       "    </tr>\n",
       "  </thead>\n",
       "  <tbody>\n",
       "    <tr>\n",
       "      <th>0</th>\n",
       "      <td>1</td>\n",
       "      <td>Toy Story (1995)</td>\n",
       "      <td>Animation|Children's|Comedy</td>\n",
       "    </tr>\n",
       "    <tr>\n",
       "      <th>1</th>\n",
       "      <td>2</td>\n",
       "      <td>Jumanji (1995)</td>\n",
       "      <td>Adventure|Children's|Fantasy</td>\n",
       "    </tr>\n",
       "    <tr>\n",
       "      <th>2</th>\n",
       "      <td>3</td>\n",
       "      <td>Grumpier Old Men (1995)</td>\n",
       "      <td>Comedy|Romance</td>\n",
       "    </tr>\n",
       "    <tr>\n",
       "      <th>3</th>\n",
       "      <td>4</td>\n",
       "      <td>Waiting to Exhale (1995)</td>\n",
       "      <td>Comedy|Drama</td>\n",
       "    </tr>\n",
       "    <tr>\n",
       "      <th>4</th>\n",
       "      <td>5</td>\n",
       "      <td>Father of the Bride Part II (1995)</td>\n",
       "      <td>Comedy</td>\n",
       "    </tr>\n",
       "    <tr>\n",
       "      <th>5</th>\n",
       "      <td>6</td>\n",
       "      <td>Heat (1995)</td>\n",
       "      <td>Action|Crime|Thriller</td>\n",
       "    </tr>\n",
       "    <tr>\n",
       "      <th>6</th>\n",
       "      <td>7</td>\n",
       "      <td>Sabrina (1995)</td>\n",
       "      <td>Comedy|Romance</td>\n",
       "    </tr>\n",
       "    <tr>\n",
       "      <th>7</th>\n",
       "      <td>8</td>\n",
       "      <td>Tom and Huck (1995)</td>\n",
       "      <td>Adventure|Children's</td>\n",
       "    </tr>\n",
       "    <tr>\n",
       "      <th>8</th>\n",
       "      <td>9</td>\n",
       "      <td>Sudden Death (1995)</td>\n",
       "      <td>Action</td>\n",
       "    </tr>\n",
       "    <tr>\n",
       "      <th>9</th>\n",
       "      <td>10</td>\n",
       "      <td>GoldenEye (1995)</td>\n",
       "      <td>Action|Adventure|Thriller</td>\n",
       "    </tr>\n",
       "    <tr>\n",
       "      <th>10</th>\n",
       "      <td>11</td>\n",
       "      <td>American President, The (1995)</td>\n",
       "      <td>Comedy|Drama|Romance</td>\n",
       "    </tr>\n",
       "  </tbody>\n",
       "</table>\n",
       "</div>"
      ],
      "text/plain": [
       "    MovieID                               Title                        Genres\n",
       "0         1                    Toy Story (1995)   Animation|Children's|Comedy\n",
       "1         2                      Jumanji (1995)  Adventure|Children's|Fantasy\n",
       "2         3             Grumpier Old Men (1995)                Comedy|Romance\n",
       "3         4            Waiting to Exhale (1995)                  Comedy|Drama\n",
       "4         5  Father of the Bride Part II (1995)                        Comedy\n",
       "5         6                         Heat (1995)         Action|Crime|Thriller\n",
       "6         7                      Sabrina (1995)                Comedy|Romance\n",
       "7         8                 Tom and Huck (1995)          Adventure|Children's\n",
       "8         9                 Sudden Death (1995)                        Action\n",
       "9        10                    GoldenEye (1995)     Action|Adventure|Thriller\n",
       "10       11      American President, The (1995)          Comedy|Drama|Romance"
      ]
     },
     "execution_count": 28,
     "metadata": {},
     "output_type": "execute_result"
    }
   ],
   "source": [
    "movies_org_df.ix[0:10]"
   ]
  },
  {
   "cell_type": "code",
   "execution_count": 31,
   "metadata": {
    "collapsed": false,
    "slideshow": {
     "slide_type": "slide"
    }
   },
   "outputs": [
    {
     "data": {
      "text/plain": [
       "0      [Animation, Children's, Comedy]\n",
       "1     [Adventure, Children's, Fantasy]\n",
       "2                    [Comedy, Romance]\n",
       "3                      [Comedy, Drama]\n",
       "4                             [Comedy]\n",
       "5            [Action, Crime, Thriller]\n",
       "6                    [Comedy, Romance]\n",
       "7              [Adventure, Children's]\n",
       "8                             [Action]\n",
       "9        [Action, Adventure, Thriller]\n",
       "10            [Comedy, Drama, Romance]\n",
       "Name: Genres, dtype: object"
      ]
     },
     "execution_count": 31,
     "metadata": {},
     "output_type": "execute_result"
    }
   ],
   "source": [
    "movies_org_df.ix[0:10].Genres.str.split(\"|\")"
   ]
  },
  {
   "cell_type": "code",
   "execution_count": 37,
   "metadata": {
    "collapsed": false,
    "slideshow": {
     "slide_type": "slide"
    }
   },
   "outputs": [
    {
     "data": {
      "text/html": [
       "<div>\n",
       "<table border=\"1\" class=\"dataframe\">\n",
       "  <thead>\n",
       "    <tr style=\"text-align: right;\">\n",
       "      <th></th>\n",
       "      <th>0</th>\n",
       "      <th>1</th>\n",
       "      <th>2</th>\n",
       "    </tr>\n",
       "  </thead>\n",
       "  <tbody>\n",
       "    <tr>\n",
       "      <th>0</th>\n",
       "      <td>Animation</td>\n",
       "      <td>|</td>\n",
       "      <td>Children's|Comedy</td>\n",
       "    </tr>\n",
       "    <tr>\n",
       "      <th>1</th>\n",
       "      <td>Adventure</td>\n",
       "      <td>|</td>\n",
       "      <td>Children's|Fantasy</td>\n",
       "    </tr>\n",
       "    <tr>\n",
       "      <th>2</th>\n",
       "      <td>Comedy</td>\n",
       "      <td>|</td>\n",
       "      <td>Romance</td>\n",
       "    </tr>\n",
       "    <tr>\n",
       "      <th>3</th>\n",
       "      <td>Comedy</td>\n",
       "      <td>|</td>\n",
       "      <td>Drama</td>\n",
       "    </tr>\n",
       "    <tr>\n",
       "      <th>4</th>\n",
       "      <td>Comedy</td>\n",
       "      <td></td>\n",
       "      <td></td>\n",
       "    </tr>\n",
       "    <tr>\n",
       "      <th>5</th>\n",
       "      <td>Action</td>\n",
       "      <td>|</td>\n",
       "      <td>Crime|Thriller</td>\n",
       "    </tr>\n",
       "    <tr>\n",
       "      <th>6</th>\n",
       "      <td>Comedy</td>\n",
       "      <td>|</td>\n",
       "      <td>Romance</td>\n",
       "    </tr>\n",
       "    <tr>\n",
       "      <th>7</th>\n",
       "      <td>Adventure</td>\n",
       "      <td>|</td>\n",
       "      <td>Children's</td>\n",
       "    </tr>\n",
       "    <tr>\n",
       "      <th>8</th>\n",
       "      <td>Action</td>\n",
       "      <td></td>\n",
       "      <td></td>\n",
       "    </tr>\n",
       "    <tr>\n",
       "      <th>9</th>\n",
       "      <td>Action</td>\n",
       "      <td>|</td>\n",
       "      <td>Adventure|Thriller</td>\n",
       "    </tr>\n",
       "    <tr>\n",
       "      <th>10</th>\n",
       "      <td>Comedy</td>\n",
       "      <td>|</td>\n",
       "      <td>Drama|Romance</td>\n",
       "    </tr>\n",
       "  </tbody>\n",
       "</table>\n",
       "</div>"
      ],
      "text/plain": [
       "            0  1                   2\n",
       "0   Animation  |   Children's|Comedy\n",
       "1   Adventure  |  Children's|Fantasy\n",
       "2      Comedy  |             Romance\n",
       "3      Comedy  |               Drama\n",
       "4      Comedy                       \n",
       "5      Action  |      Crime|Thriller\n",
       "6      Comedy  |             Romance\n",
       "7   Adventure  |          Children's\n",
       "8      Action                       \n",
       "9      Action  |  Adventure|Thriller\n",
       "10     Comedy  |       Drama|Romance"
      ]
     },
     "execution_count": 37,
     "metadata": {},
     "output_type": "execute_result"
    }
   ],
   "source": [
    "movies_org_df.ix[0:10].Genres.str.partition(\"|\")"
   ]
  },
  {
   "cell_type": "code",
   "execution_count": 38,
   "metadata": {
    "collapsed": false,
    "slideshow": {
     "slide_type": "slide"
    }
   },
   "outputs": [
    {
     "data": {
      "text/html": [
       "<div>\n",
       "<table border=\"1\" class=\"dataframe\">\n",
       "  <thead>\n",
       "    <tr style=\"text-align: right;\">\n",
       "      <th></th>\n",
       "      <th>0</th>\n",
       "      <th>1</th>\n",
       "      <th>2</th>\n",
       "    </tr>\n",
       "  </thead>\n",
       "  <tbody>\n",
       "    <tr>\n",
       "      <th>0</th>\n",
       "      <td>Animation|Children's</td>\n",
       "      <td>|</td>\n",
       "      <td>Comedy</td>\n",
       "    </tr>\n",
       "    <tr>\n",
       "      <th>1</th>\n",
       "      <td>Adventure|Children's</td>\n",
       "      <td>|</td>\n",
       "      <td>Fantasy</td>\n",
       "    </tr>\n",
       "    <tr>\n",
       "      <th>2</th>\n",
       "      <td>Comedy</td>\n",
       "      <td>|</td>\n",
       "      <td>Romance</td>\n",
       "    </tr>\n",
       "    <tr>\n",
       "      <th>3</th>\n",
       "      <td>Comedy</td>\n",
       "      <td>|</td>\n",
       "      <td>Drama</td>\n",
       "    </tr>\n",
       "    <tr>\n",
       "      <th>4</th>\n",
       "      <td></td>\n",
       "      <td></td>\n",
       "      <td>Comedy</td>\n",
       "    </tr>\n",
       "    <tr>\n",
       "      <th>5</th>\n",
       "      <td>Action|Crime</td>\n",
       "      <td>|</td>\n",
       "      <td>Thriller</td>\n",
       "    </tr>\n",
       "    <tr>\n",
       "      <th>6</th>\n",
       "      <td>Comedy</td>\n",
       "      <td>|</td>\n",
       "      <td>Romance</td>\n",
       "    </tr>\n",
       "    <tr>\n",
       "      <th>7</th>\n",
       "      <td>Adventure</td>\n",
       "      <td>|</td>\n",
       "      <td>Children's</td>\n",
       "    </tr>\n",
       "    <tr>\n",
       "      <th>8</th>\n",
       "      <td></td>\n",
       "      <td></td>\n",
       "      <td>Action</td>\n",
       "    </tr>\n",
       "    <tr>\n",
       "      <th>9</th>\n",
       "      <td>Action|Adventure</td>\n",
       "      <td>|</td>\n",
       "      <td>Thriller</td>\n",
       "    </tr>\n",
       "    <tr>\n",
       "      <th>10</th>\n",
       "      <td>Comedy|Drama</td>\n",
       "      <td>|</td>\n",
       "      <td>Romance</td>\n",
       "    </tr>\n",
       "  </tbody>\n",
       "</table>\n",
       "</div>"
      ],
      "text/plain": [
       "                       0  1           2\n",
       "0   Animation|Children's  |      Comedy\n",
       "1   Adventure|Children's  |     Fantasy\n",
       "2                 Comedy  |     Romance\n",
       "3                 Comedy  |       Drama\n",
       "4                                Comedy\n",
       "5           Action|Crime  |    Thriller\n",
       "6                 Comedy  |     Romance\n",
       "7              Adventure  |  Children's\n",
       "8                                Action\n",
       "9       Action|Adventure  |    Thriller\n",
       "10          Comedy|Drama  |     Romance"
      ]
     },
     "execution_count": 38,
     "metadata": {},
     "output_type": "execute_result"
    }
   ],
   "source": [
    "movies_org_df.ix[0:10].Genres.str.rpartition(\"|\")"
   ]
  },
  {
   "cell_type": "code",
   "execution_count": 36,
   "metadata": {
    "collapsed": false,
    "slideshow": {
     "slide_type": "slide"
    }
   },
   "outputs": [
    {
     "data": {
      "text/html": [
       "<div>\n",
       "<table border=\"1\" class=\"dataframe\">\n",
       "  <thead>\n",
       "    <tr style=\"text-align: right;\">\n",
       "      <th></th>\n",
       "      <th>MovieID</th>\n",
       "      <th>Title</th>\n",
       "      <th>Genres</th>\n",
       "    </tr>\n",
       "  </thead>\n",
       "  <tbody>\n",
       "    <tr>\n",
       "      <th>1309</th>\n",
       "      <td>797</td>\n",
       "      <td>Old Lady Who Walked in the Sea, The (Vieille q...</td>\n",
       "      <td>Comedy</td>\n",
       "    </tr>\n",
       "    <tr>\n",
       "      <th>1657</th>\n",
       "      <td>1012</td>\n",
       "      <td>Old Yeller (1957)</td>\n",
       "      <td>Children's</td>\n",
       "    </tr>\n",
       "    <tr>\n",
       "      <th>1658</th>\n",
       "      <td>1012</td>\n",
       "      <td>Old Yeller (1957)</td>\n",
       "      <td>Drama</td>\n",
       "    </tr>\n",
       "    <tr>\n",
       "      <th>1791</th>\n",
       "      <td>1085</td>\n",
       "      <td>Old Man and the Sea, The (1958)</td>\n",
       "      <td>Adventure</td>\n",
       "    </tr>\n",
       "    <tr>\n",
       "      <th>1792</th>\n",
       "      <td>1085</td>\n",
       "      <td>Old Man and the Sea, The (1958)</td>\n",
       "      <td>Drama</td>\n",
       "    </tr>\n",
       "  </tbody>\n",
       "</table>\n",
       "</div>"
      ],
      "text/plain": [
       "      MovieID                                              Title      Genres\n",
       "1309      797  Old Lady Who Walked in the Sea, The (Vieille q...      Comedy\n",
       "1657     1012                                  Old Yeller (1957)  Children's\n",
       "1658     1012                                  Old Yeller (1957)       Drama\n",
       "1791     1085                    Old Man and the Sea, The (1958)   Adventure\n",
       "1792     1085                    Old Man and the Sea, The (1958)       Drama"
      ]
     },
     "execution_count": 36,
     "metadata": {},
     "output_type": "execute_result"
    }
   ],
   "source": [
    "movies_df[movies_df.Title.str.contains('^Old.*')]"
   ]
  },
  {
   "cell_type": "markdown",
   "metadata": {
    "slideshow": {
     "slide_type": "slide"
    }
   },
   "source": [
    "# Merge Data and Concat Data\n",
    "* Pandas.merge and Pandas.concat\n",
    "* Pandas.merger is analog to join in SQL\n",
    "* "
   ]
  },
  {
   "cell_type": "markdown",
   "metadata": {
    "collapsed": true,
    "deletable": true,
    "editable": true,
    "slideshow": {
     "slide_type": "slide"
    }
   },
   "source": [
    "# Split - Apply - Combine Strategy\n",
    "\n",
    "* Split\n",
    "    - Split data into groups\n",
    "* Apply\n",
    "    - Apply functions to data within each group independently\n",
    "    - Functions including trnasform, aggregation, filtration\n",
    "\n",
    "* Combine\n",
    "    - Merge results into a data structure\n"
   ]
  },
  {
   "cell_type": "markdown",
   "metadata": {
    "deletable": true,
    "editable": true,
    "slideshow": {
     "slide_type": "slide"
    }
   },
   "source": [
    "# Data Aggregation\n",
    "\n",
    "```\n",
    "select \n",
    "max(Ratings.Rating)\n",
    "from Ratings\n",
    "group by Ratings.MovieId\n",
    "```\n",
    "\n",
    "```\n",
    "df.assign(max_ratings = ratings_df.groupby(\"MovieID\")['Rating'].transform(np.max))\n",
    "```\n",
    "\n",
    "* Data aggregation in Pandas uses GroupBy.apply, GroupBy.transform and GroupBy.aggregate.\n",
    "* These functions are badly documented in Pandas dicumentation."
   ]
  },
  {
   "cell_type": "markdown",
   "metadata": {
    "deletable": true,
    "editable": true,
    "slideshow": {
     "slide_type": "slide"
    }
   },
   "source": [
    "# GroupBy.transform"
   ]
  },
  {
   "cell_type": "code",
   "execution_count": null,
   "metadata": {
    "collapsed": false,
    "deletable": true,
    "editable": true,
    "slideshow": {
     "slide_type": "-"
    }
   },
   "outputs": [],
   "source": [
    "df.groupby([\"Occupation\", \"Genres\"])['Rating'].transform(lambda x: x.mean()).iloc[:10]"
   ]
  },
  {
   "cell_type": "markdown",
   "metadata": {
    "collapsed": true,
    "deletable": true,
    "editable": true
   },
   "source": [
    "GroupBy.transform accepts a function argement which takes a Pandas Series or a Pandas DataFrame and it returns aggregated data in Pandas Series or DataFrame form with the same index as the input data."
   ]
  },
  {
   "cell_type": "code",
   "execution_count": null,
   "metadata": {
    "collapsed": true,
    "deletable": true,
    "editable": true
   },
   "outputs": [],
   "source": []
  }
 ],
 "metadata": {
  "celltoolbar": "Slideshow",
  "kernelspec": {
   "display_name": "Python 3",
   "language": "python",
   "name": "python3"
  },
  "language_info": {
   "codemirror_mode": {
    "name": "ipython",
    "version": 3
   },
   "file_extension": ".py",
   "mimetype": "text/x-python",
   "name": "python",
   "nbconvert_exporter": "python",
   "pygments_lexer": "ipython3",
   "version": "3.5.2"
  }
 },
 "nbformat": 4,
 "nbformat_minor": 2
}
