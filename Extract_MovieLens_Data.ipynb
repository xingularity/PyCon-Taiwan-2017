{
 "cells": [
  {
   "cell_type": "markdown",
   "metadata": {
    "deletable": true,
    "editable": true
   },
   "source": [
    "# This notebook is to extract data from Movie Lens\n",
    "* The data contents are explained in http://files.grouplens.org/papers/ml-1m-README.txt\n",
    "\n",
    "## users.dat\n",
    "\n",
    "UserID::Gender::Age::Occupation::Zip-code\n",
    "- Gender is denoted by a \"M\" for male and \"F\" for female\n",
    "- Age is chosen from the following ranges:\n",
    "\n",
    "\t*  1:  \"Under 18\"\n",
    "\t* 18:  \"18-24\"\n",
    "\t* 25:  \"25-34\"\n",
    "\t* 35:  \"35-44\"\n",
    "\t* 45:  \"45-49\"\n",
    "\t* 50:  \"50-55\"\n",
    "\t* 56:  \"56+\"\n",
    "\n",
    "- Occupation is chosen from the following choices:\n",
    "\n",
    "\t*  0:  \"other\" or not specified\n",
    "\t*  1:  \"academic/educator\"\n",
    "\t*  2:  \"artist\"\n",
    "\t*  3:  \"clerical/admin\"\n",
    "\t*  4:  \"college/grad student\"\n",
    "\t*  5:  \"customer service\"\n",
    "\t*  6:  \"doctor/health care\"\n",
    "\t*  7:  \"executive/managerial\"\n",
    "\t*  8:  \"farmer\"\n",
    "\t*  9:  \"homemaker\"\n",
    "\t* 10:  \"K-12 student\"\n",
    "\t* 11:  \"lawyer\"\n",
    "\t* 12:  \"programmer\"\n",
    "\t* 13:  \"retired\"\n",
    "\t* 14:  \"sales/marketing\"\n",
    "\t* 15:  \"scientist\"\n",
    "\t* 16:  \"self-employed\"\n",
    "\t* 17:  \"technician/engineer\"\n",
    "\t* 18:  \"tradesman/craftsman\"\n",
    "\t* 19:  \"unemployed\"\n",
    "\t* 20:  \"writer\"\n",
    "\n",
    "## movies.dat\n",
    "MovieID::Title::Genres\n",
    "\n",
    "## ratings.dat\n",
    "UserID::MovieID::Rating::Timestamp"
   ]
  },
  {
   "cell_type": "code",
   "execution_count": 1,
   "metadata": {
    "collapsed": true,
    "deletable": true,
    "editable": true
   },
   "outputs": [],
   "source": [
    "import pandas as pd"
   ]
  },
  {
   "cell_type": "code",
   "execution_count": 3,
   "metadata": {
    "collapsed": false,
    "deletable": true,
    "editable": true
   },
   "outputs": [
    {
     "name": "stderr",
     "output_type": "stream",
     "text": [
      "/usr/local/lib/python3.5/dist-packages/ipykernel/__main__.py:4: ParserWarning: Falling back to the 'python' engine because the 'c' engine does not support regex separators (separators > 1 char and different from '\\s+' are interpreted as regex); you can avoid this warning by specifying engine='python'.\n"
     ]
    }
   ],
   "source": [
    "users_df = pd.read_csv(\"./ml-1m/users.dat\"\n",
    "                    , sep='::'\n",
    "                    , header=None\n",
    "                    , names=[\"UserID\", \"Gender\", \"Age\", \"Occupation\", \"Zip-code\"])\n",
    "ocupation_codes = {'ocupation_code': [x for x in range(21)]\n",
    "                   , 'Occupation_name': [\"other or not specified\", \"academic/educator\", \"artist\"\n",
    "                                  , \"clerical/admin\", \"college/grad student\", \"customer service\"\n",
    "                                  , \"doctor/health care\", \"executive/managerial\", \"farmer\"\n",
    "                                  , \"homemaker\", \"K-12 student\", \"lawyer\", \"programmer\", \"retired\"\n",
    "                                  , \"sales/marketing\" ,\"scientist\", \"self-employed\", \"technician/engineer\"\n",
    "                                  , \"tradesman/craftsman\", \"unemployed\", \"writer\"]\n",
    "                  }\n",
    "ocupation_codes = pd.DataFrame(ocupation_codes)\n",
    "users_df = users_df.merge(ocupation_codes, left_on=[\"Occupation\"], right_on=[\"ocupation_code\"], how='left')\n",
    "users_df = users_df.drop([\"Occupation\", \"ocupation_code\"], axis=1).rename(columns={'Occupation_name': 'Occupation'})"
   ]
  },
  {
   "cell_type": "code",
   "execution_count": 4,
   "metadata": {
    "collapsed": false,
    "deletable": true,
    "editable": true,
    "scrolled": false
   },
   "outputs": [
    {
     "name": "stderr",
     "output_type": "stream",
     "text": [
      "/usr/local/lib/python3.5/dist-packages/ipykernel/__main__.py:4: ParserWarning: Falling back to the 'python' engine because the 'c' engine does not support regex separators (separators > 1 char and different from '\\s+' are interpreted as regex); you can avoid this warning by specifying engine='python'.\n"
     ]
    }
   ],
   "source": [
    "movies_org_df = pd.read_csv(\"./ml-1m/movies.dat\"\n",
    "                            , sep='::'\n",
    "                            , header=None\n",
    "                            , names=[\"MovieID\", \"Title\", \"Genres\"])\n",
    "rows = []\n",
    "for _, row in movies_org_df.iterrows():\n",
    "    for gen in row.Genres.split('|'):\n",
    "        rows.append([row['MovieID'], row['Title'], gen])\n",
    "movies_df = pd.DataFrame(rows, columns=movies_org_df.columns)"
   ]
  },
  {
   "cell_type": "code",
   "execution_count": 5,
   "metadata": {
    "collapsed": false,
    "deletable": true,
    "editable": true
   },
   "outputs": [
    {
     "name": "stderr",
     "output_type": "stream",
     "text": [
      "/usr/local/lib/python3.5/dist-packages/ipykernel/__main__.py:4: ParserWarning: Falling back to the 'python' engine because the 'c' engine does not support regex separators (separators > 1 char and different from '\\s+' are interpreted as regex); you can avoid this warning by specifying engine='python'.\n"
     ]
    }
   ],
   "source": [
    "ratings_df = pd.read_csv(\"./ml-1m/ratings.dat\"\n",
    "                         , sep='::'\n",
    "                         , header=None\n",
    "                         , names=[\"UserID\", \"MovieID\", \"Rating\", \"Timestamp\"])\n",
    "ratings_df['rating_dt'] = pd.to_datetime(ratings_df['Timestamp'],unit='s')"
   ]
  }
 ],
 "metadata": {
  "kernelspec": {
   "display_name": "Python 3",
   "language": "python",
   "name": "python3"
  },
  "language_info": {
   "codemirror_mode": {
    "name": "ipython",
    "version": 3
   },
   "file_extension": ".py",
   "mimetype": "text/x-python",
   "name": "python",
   "nbconvert_exporter": "python",
   "pygments_lexer": "ipython3",
   "version": "3.5.2"
  }
 },
 "nbformat": 4,
 "nbformat_minor": 2
}
